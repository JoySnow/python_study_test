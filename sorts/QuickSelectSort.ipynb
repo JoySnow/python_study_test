{
 "cells": [
  {
   "cell_type": "code",
   "execution_count": 16,
   "metadata": {
    "collapsed": true
   },
   "outputs": [],
   "source": [
    "#a = [5,2,8,3,7,1,4]\n"
   ]
  },
  {
   "cell_type": "code",
   "execution_count": 20,
   "metadata": {
    "collapsed": false
   },
   "outputs": [
    {
     "name": "stdout",
     "output_type": "stream",
     "text": [
      "i =  0\n",
      "i =  1\n",
      "i =  2\n",
      "i =  3\n",
      "a =  [5, 4, 1, 3, 7, 8, 9]\n",
      "aa =  [3, 4, 1, 5, 7, 8, 9]\n",
      "3\n"
     ]
    },
    {
     "ename": "UnboundLocalError",
     "evalue": "local variable 'pivot' referenced before assignment",
     "output_type": "error",
     "traceback": [
      "\u001b[1;31m---------------------------------------------------------------------------\u001b[0m",
      "\u001b[1;31mUnboundLocalError\u001b[0m                         Traceback (most recent call last)",
      "\u001b[1;32m<ipython-input-20-3ff7fd7eb646>\u001b[0m in \u001b[0;36m<module>\u001b[1;34m()\u001b[0m\n\u001b[0;32m     39\u001b[0m             \u001b[0mq\u001b[0m \u001b[1;33m=\u001b[0m \u001b[0mpivot\u001b[0m \u001b[1;33m-\u001b[0m\u001b[1;36m1\u001b[0m\u001b[1;33m\u001b[0m\u001b[0m\n\u001b[0;32m     40\u001b[0m \u001b[1;33m\u001b[0m\u001b[0m\n\u001b[1;32m---> 41\u001b[1;33m \u001b[1;32mprint\u001b[0m \u001b[0mquick_select_sort\u001b[0m\u001b[1;33m(\u001b[0m\u001b[0ms\u001b[0m\u001b[1;33m,\u001b[0m \u001b[1;36m4\u001b[0m\u001b[1;33m)\u001b[0m\u001b[1;33m\u001b[0m\u001b[0m\n\u001b[0m",
      "\u001b[1;32m<ipython-input-20-3ff7fd7eb646>\u001b[0m in \u001b[0;36mquick_select_sort\u001b[1;34m(s, k)\u001b[0m\n\u001b[0;32m     24\u001b[0m         \u001b[1;32mreturn\u001b[0m \u001b[1;34m\"Invalid k\"\u001b[0m\u001b[1;33m\u001b[0m\u001b[0m\n\u001b[0;32m     25\u001b[0m     \u001b[0mkk\u001b[0m \u001b[1;33m=\u001b[0m \u001b[0mk\u001b[0m\u001b[1;33m\u001b[0m\u001b[0m\n\u001b[1;32m---> 26\u001b[1;33m     \u001b[1;32mwhile\u001b[0m \u001b[1;36m0\u001b[0m \u001b[1;33m<=\u001b[0m \u001b[0mpivot\u001b[0m \u001b[1;33m<\u001b[0m \u001b[0mlen\u001b[0m\u001b[1;33m(\u001b[0m\u001b[0ms\u001b[0m\u001b[1;33m)\u001b[0m\u001b[1;33m:\u001b[0m\u001b[1;33m\u001b[0m\u001b[0m\n\u001b[0m\u001b[0;32m     27\u001b[0m         \u001b[0mpivot\u001b[0m \u001b[1;33m=\u001b[0m \u001b[0mpartation\u001b[0m\u001b[1;33m(\u001b[0m\u001b[0ms\u001b[0m\u001b[1;33m,\u001b[0m \u001b[1;36m0\u001b[0m\u001b[1;33m,\u001b[0m \u001b[0mlen\u001b[0m\u001b[1;33m(\u001b[0m\u001b[0ms\u001b[0m\u001b[1;33m)\u001b[0m\u001b[1;33m)\u001b[0m\u001b[1;33m\u001b[0m\u001b[0m\n\u001b[0;32m     28\u001b[0m         \u001b[1;32mif\u001b[0m \u001b[0mkk\u001b[0m \u001b[1;33m==\u001b[0m \u001b[0mpivot\u001b[0m\u001b[1;33m:\u001b[0m\u001b[1;33m\u001b[0m\u001b[0m\n",
      "\u001b[1;31mUnboundLocalError\u001b[0m: local variable 'pivot' referenced before assignment"
     ]
    }
   ],
   "source": [
    "s = [5,9,8,3,7,1,4]\n",
    "def partation(a, p, q):\n",
    "    #a = copy(s)\n",
    "    pivot = p\n",
    "    i = p\n",
    "    #j = len(a)-1\n",
    "    j = q-p-1\n",
    "    while i<j:\n",
    "        print \"i = \", i\n",
    "        if a[i] > a[pivot]:\n",
    "            a[i], a[j] = a[j], a[i]\n",
    "            j -= 1\n",
    "        i += 1\n",
    "    print \"a = \", a\n",
    "    a[pivot], a[i-1] = a[i-1], a[pivot]\n",
    "    print \"aa = \", a\n",
    "    return i-1\n",
    "    \n",
    "print partation(s, 0, 7)\n",
    "#quick_select_sort(s, 0, 7)\n",
    "            \n",
    "def quick_select_sort(s, k):\n",
    "    if not 0 <= k < len(s):\n",
    "        return \"Invalid k\"\n",
    "    kk = k\n",
    "    while 0 <= pivot < len(s):\n",
    "        pivot = partation(s, 0, len(s))\n",
    "        if kk == pivot:\n",
    "            print \"pivot: \", pivot\n",
    "            print s[pivot]\n",
    "            return s[pivot]\n",
    "            #break\n",
    "        elif kk > pivot:\n",
    "            p = pivot + 1\n",
    "            q = len(s)\n",
    "            kk -= i+1\n",
    "        else:\n",
    "            p = 0\n",
    "            q = pivot -1\n",
    "            \n",
    "print quick_select_sort(s, 4)"
   ]
  },
  {
   "cell_type": "code",
   "execution_count": null,
   "metadata": {
    "collapsed": true
   },
   "outputs": [],
   "source": []
  }
 ],
 "metadata": {
  "kernelspec": {
   "display_name": "Python 2",
   "language": "python",
   "name": "python2"
  },
  "language_info": {
   "codemirror_mode": {
    "name": "ipython",
    "version": 2
   },
   "file_extension": ".py",
   "mimetype": "text/x-python",
   "name": "python",
   "nbconvert_exporter": "python",
   "pygments_lexer": "ipython2",
   "version": "2.7.5"
  }
 },
 "nbformat": 4,
 "nbformat_minor": 0
}
