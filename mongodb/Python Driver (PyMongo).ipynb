{
 "cells": [
  {
   "cell_type": "code",
   "execution_count": null,
   "metadata": {
    "collapsed": true
   },
   "outputs": [],
   "source": [
    "# code from:\n",
    "# https://docs.mongodb.com/getting-started/python/"
   ]
  },
  {
   "cell_type": "code",
   "execution_count": 14,
   "metadata": {
    "collapsed": false
   },
   "outputs": [
    {
     "name": "stdout",
     "output_type": "stream",
     "text": [
      "[u'admin', u'local', u'test']\n",
      "Database(MongoClient(host=['10.72.32.143:27017'], document_class=dict, tz_aware=False, connect=True), u'test')\n"
     ]
    }
   ],
   "source": [
    "from pymongo import MongoClient\n",
    "\n",
    "client = MongoClient(\"mongodb://10.72.32.143:27017\")\n",
    "print client.database_names()\n",
    "db = client.test\n",
    "print db"
   ]
  },
  {
   "cell_type": "code",
   "execution_count": 26,
   "metadata": {
    "collapsed": false
   },
   "outputs": [
    {
     "name": "stdout",
     "output_type": "stream",
     "text": [
      "[u'restaurants']\n",
      "<pymongo.cursor.Cursor object at 0x7f6bde659d10>\n"
     ]
    }
   ],
   "source": [
    "print db.collection_names()\n",
    "cursor = db.restaurants.find()\n",
    "\n",
    "print cursor"
   ]
  },
  {
   "cell_type": "code",
   "execution_count": 27,
   "metadata": {
    "collapsed": false
   },
   "outputs": [
    {
     "name": "stdout",
     "output_type": "stream",
     "text": [
      "{u'cuisine': u'Bakery', u'borough': u'Bronx', u'name': u'Morris Park Bake Shop', u'restaurant_id': u'30075445', u'grades': [{u'date': datetime.datetime(2014, 3, 3, 0, 0), u'grade': u'A', u'score': 2}, {u'date': datetime.datetime(2013, 9, 11, 0, 0), u'grade': u'A', u'score': 6}, {u'date': datetime.datetime(2013, 1, 24, 0, 0), u'grade': u'A', u'score': 10}, {u'date': datetime.datetime(2011, 11, 23, 0, 0), u'grade': u'A', u'score': 9}, {u'date': datetime.datetime(2011, 3, 10, 0, 0), u'grade': u'B', u'score': 14}], u'address': {u'building': u'1007', u'street': u'Morris Park Ave', u'zipcode': u'10462', u'coord': [-73.856077, 40.848447]}, u'_id': ObjectId('59a38c2bcd5a02adfb51058d')}\n",
      "=================\n"
     ]
    }
   ],
   "source": [
    "print cursor.next()\n",
    "print \"=================\"\n",
    "for document in cursor:\n",
    "    print(document)"
   ]
  },
  {
   "cell_type": "code",
   "execution_count": 29,
   "metadata": {
    "collapsed": false
   },
   "outputs": [],
   "source": [
    "from datetime import datetime\n",
    "result = db.restaurants.insert_one(\n",
    "    {\n",
    "        \"address\": {\n",
    "            \"street\": \"2 Avenue\",\n",
    "            \"zipcode\": \"10075\",\n",
    "            \"building\": \"1480\",\n",
    "            \"coord\": [-73.9557413, 40.7720266]\n",
    "        },\n",
    "        \"borough\": \"Manhattan\",\n",
    "        \"cuisine\": \"Italian\",\n",
    "        \"grades\": [\n",
    "            {\n",
    "                \"date\": datetime.strptime(\"2014-10-01\", \"%Y-%m-%d\"),\n",
    "                \"grade\": \"A\",\n",
    "                \"score\": 11\n",
    "            },\n",
    "            {\n",
    "                \"date\": datetime.strptime(\"2014-01-16\", \"%Y-%m-%d\"),\n",
    "                \"grade\": \"B\",\n",
    "                \"score\": 17\n",
    "            }\n",
    "        ],\n",
    "        \"name\": \"Vella\",\n",
    "        \"restaurant_id\": \"41704620\"\n",
    "    }\n",
    ")"
   ]
  },
  {
   "cell_type": "code",
   "execution_count": 31,
   "metadata": {
    "collapsed": false
   },
   "outputs": [
    {
     "name": "stdout",
     "output_type": "stream",
     "text": [
      "<pymongo.results.InsertOneResult object at 0x7f6bde6a6b90>\n",
      "59a3ba0699fac02880d61fc0\n"
     ]
    }
   ],
   "source": [
    "print result\n",
    "print result.inserted_id"
   ]
  },
  {
   "cell_type": "code",
   "execution_count": 32,
   "metadata": {
    "collapsed": false
   },
   "outputs": [
    {
     "name": "stdout",
     "output_type": "stream",
     "text": [
      "<pymongo.cursor.Cursor object at 0x7f6bde659bd0>\n",
      "{u'cuisine': u'Bakery', u'borough': u'Bronx', u'name': u'Morris Park Bake Shop', u'restaurant_id': u'30075445', u'grades': [{u'date': datetime.datetime(2014, 3, 3, 0, 0), u'grade': u'A', u'score': 2}, {u'date': datetime.datetime(2013, 9, 11, 0, 0), u'grade': u'A', u'score': 6}, {u'date': datetime.datetime(2013, 1, 24, 0, 0), u'grade': u'A', u'score': 10}, {u'date': datetime.datetime(2011, 11, 23, 0, 0), u'grade': u'A', u'score': 9}, {u'date': datetime.datetime(2011, 3, 10, 0, 0), u'grade': u'B', u'score': 14}], u'address': {u'building': u'1007', u'street': u'Morris Park Ave', u'zipcode': u'10462', u'coord': [-73.856077, 40.848447]}, u'_id': ObjectId('59a38c2bcd5a02adfb51058d')}\n",
      "=================\n",
      "{u'cuisine': u'Italian', u'borough': u'Manhattan', u'name': u'Vella', u'restaurant_id': u'41704620', u'grades': [{u'date': datetime.datetime(2014, 10, 1, 0, 0), u'grade': u'A', u'score': 11}, {u'date': datetime.datetime(2014, 1, 16, 0, 0), u'grade': u'B', u'score': 17}], u'address': {u'building': u'1480', u'street': u'2 Avenue', u'zipcode': u'10075', u'coord': [-73.9557413, 40.7720266]}, u'_id': ObjectId('59a3ba0699fac02880d61fc0')}\n"
     ]
    }
   ],
   "source": [
    "cursor = db.restaurants.find()\n",
    "print cursor\n",
    "\n",
    "print cursor.next()\n",
    "print \"=================\"\n",
    "for document in cursor:\n",
    "    print(document)"
   ]
  },
  {
   "cell_type": "code",
   "execution_count": 33,
   "metadata": {
    "collapsed": false
   },
   "outputs": [
    {
     "name": "stdout",
     "output_type": "stream",
     "text": [
      "{u'cuisine': u'Italian', u'borough': u'Manhattan', u'name': u'Vella', u'restaurant_id': u'41704620', u'grades': [{u'date': datetime.datetime(2014, 10, 1, 0, 0), u'grade': u'A', u'score': 11}, {u'date': datetime.datetime(2014, 1, 16, 0, 0), u'grade': u'B', u'score': 17}], u'address': {u'building': u'1480', u'street': u'2 Avenue', u'zipcode': u'10075', u'coord': [-73.9557413, 40.7720266]}, u'_id': ObjectId('59a3ba0699fac02880d61fc0')}\n"
     ]
    }
   ],
   "source": [
    "cursor = db.restaurants.find({\"borough\": \"Manhattan\"})\n",
    "for document in cursor:\n",
    "    print(document)"
   ]
  },
  {
   "cell_type": "code",
   "execution_count": 34,
   "metadata": {
    "collapsed": false
   },
   "outputs": [
    {
     "name": "stdout",
     "output_type": "stream",
     "text": [
      "{u'cuisine': u'Bakery', u'borough': u'Bronx', u'name': u'Morris Park Bake Shop', u'restaurant_id': u'30075445', u'grades': [{u'date': datetime.datetime(2014, 3, 3, 0, 0), u'grade': u'A', u'score': 2}, {u'date': datetime.datetime(2013, 9, 11, 0, 0), u'grade': u'A', u'score': 6}, {u'date': datetime.datetime(2013, 1, 24, 0, 0), u'grade': u'A', u'score': 10}, {u'date': datetime.datetime(2011, 11, 23, 0, 0), u'grade': u'A', u'score': 9}, {u'date': datetime.datetime(2011, 3, 10, 0, 0), u'grade': u'B', u'score': 14}], u'address': {u'building': u'1007', u'street': u'Morris Park Ave', u'zipcode': u'10462', u'coord': [-73.856077, 40.848447]}, u'_id': ObjectId('59a38c2bcd5a02adfb51058d')}\n",
      "{u'cuisine': u'Italian', u'borough': u'Manhattan', u'name': u'Vella', u'restaurant_id': u'41704620', u'grades': [{u'date': datetime.datetime(2014, 10, 1, 0, 0), u'grade': u'A', u'score': 11}, {u'date': datetime.datetime(2014, 1, 16, 0, 0), u'grade': u'B', u'score': 17}], u'address': {u'building': u'1480', u'street': u'2 Avenue', u'zipcode': u'10075', u'coord': [-73.9557413, 40.7720266]}, u'_id': ObjectId('59a3ba0699fac02880d61fc0')}\n"
     ]
    }
   ],
   "source": [
    "cursor = db.restaurants.find({\"grades.grade\": \"B\"})\n",
    "for document in cursor:\n",
    "    print(document)"
   ]
  },
  {
   "cell_type": "code",
   "execution_count": 35,
   "metadata": {
    "collapsed": true
   },
   "outputs": [],
   "source": [
    "cursor = db.restaurants.find({\"grades.score\": {\"$gt\": 30}})\n",
    "\n",
    "cursor = db.restaurants.find({\"grades.score\": {\"$lt\": 10}})\n",
    "\n",
    "cursor = db.restaurants.find(\n",
    "    {\"cuisine\": \"Italian\", \"address.zipcode\": \"10075\"})\n",
    "\n",
    "cursor = db.restaurants.find(\n",
    "    {\"$or\": [{\"cuisine\": \"Italian\"}, {\"address.zipcode\": \"10075\"}]})"
   ]
  },
  {
   "cell_type": "code",
   "execution_count": 40,
   "metadata": {
    "collapsed": false
   },
   "outputs": [],
   "source": [
    "import pymongo\n",
    "cursor = db.restaurants.find().sort([\n",
    "    (\"borough\", pymongo.ASCENDING),\n",
    "    (\"address.zipcode\", pymongo.ASCENDING)\n",
    "])"
   ]
  },
  {
   "cell_type": "code",
   "execution_count": null,
   "metadata": {
    "collapsed": true
   },
   "outputs": [],
   "source": []
  },
  {
   "cell_type": "code",
   "execution_count": 44,
   "metadata": {
    "collapsed": false
   },
   "outputs": [
    {
     "name": "stdout",
     "output_type": "stream",
     "text": [
      "<pymongo.results.UpdateResult object at 0x7f6bde688710>\n"
     ]
    }
   ],
   "source": [
    "result = db.restaurants.update_one(\n",
    "    {\"name\": \"Vella\"},\n",
    "    {\n",
    "        \"$set\": {\n",
    "            \"cuisine\": \"American (New)\"\n",
    "        },\n",
    "        \"$currentDate\": {\"lastModified\": True}\n",
    "    }\n",
    ")\n",
    "print result"
   ]
  },
  {
   "cell_type": "code",
   "execution_count": 45,
   "metadata": {
    "collapsed": false
   },
   "outputs": [
    {
     "name": "stdout",
     "output_type": "stream",
     "text": [
      "1 1\n"
     ]
    }
   ],
   "source": [
    "print result.matched_count, result.modified_count"
   ]
  },
  {
   "cell_type": "code",
   "execution_count": 46,
   "metadata": {
    "collapsed": false
   },
   "outputs": [
    {
     "name": "stdout",
     "output_type": "stream",
     "text": [
      "{u'cuisine': u'Bakery', u'borough': u'Bronx', u'name': u'Morris Park Bake Shop', u'restaurant_id': u'30075445', u'grades': [{u'date': datetime.datetime(2014, 3, 3, 0, 0), u'grade': u'A', u'score': 2}, {u'date': datetime.datetime(2013, 9, 11, 0, 0), u'grade': u'A', u'score': 6}, {u'date': datetime.datetime(2013, 1, 24, 0, 0), u'grade': u'A', u'score': 10}, {u'date': datetime.datetime(2011, 11, 23, 0, 0), u'grade': u'A', u'score': 9}, {u'date': datetime.datetime(2011, 3, 10, 0, 0), u'grade': u'B', u'score': 14}], u'address': {u'building': u'1007', u'street': u'Morris Park Ave', u'zipcode': u'10462', u'coord': [-73.856077, 40.848447]}, u'_id': ObjectId('59a38c2bcd5a02adfb51058d')}\n",
      "{u'cuisine': u'American (New)', u'borough': u'Manhattan', u'name': u'Vella', u'lastModified': datetime.datetime(2017, 8, 28, 6, 52, 22, 468000), u'restaurant_id': u'41704620', u'grades': [{u'date': datetime.datetime(2014, 10, 1, 0, 0), u'grade': u'A', u'score': 11}, {u'date': datetime.datetime(2014, 1, 16, 0, 0), u'grade': u'B', u'score': 17}], u'address': {u'building': u'1480', u'street': u'2 Avenue', u'zipcode': u'10075', u'coord': [-73.9557413, 40.7720266]}, u'_id': ObjectId('59a3ba0699fac02880d61fc0')}\n"
     ]
    }
   ],
   "source": [
    "cursor = db.restaurants.find()\n",
    "for document in cursor:\n",
    "    print(document)"
   ]
  },
  {
   "cell_type": "code",
   "execution_count": 48,
   "metadata": {
    "collapsed": false
   },
   "outputs": [
    {
     "name": "stdout",
     "output_type": "stream",
     "text": [
      "{u'count': 3, u'_id': u'Manhattan'}\n",
      "{u'count': 3, u'_id': u'Bronx'}\n"
     ]
    }
   ],
   "source": [
    "cursor = db.restaurants.aggregate(\n",
    "    [\n",
    "        {\"$group\": {\"_id\": \"$borough\", \"count\": {\"$sum\": 3}}}\n",
    "    ]\n",
    ")\n",
    "for document in cursor:\n",
    "    print(document)"
   ]
  },
  {
   "cell_type": "code",
   "execution_count": 51,
   "metadata": {
    "collapsed": false
   },
   "outputs": [
    {
     "name": "stdout",
     "output_type": "stream",
     "text": [
      "{u'count': 1, u'_id': u'10462'}\n"
     ]
    }
   ],
   "source": [
    "cursor = db.restaurants.aggregate(\n",
    "    [\n",
    "        {\"$match\": {\"borough\": \"Bronx\", \"cuisine\": \"Bakery\"}},\n",
    "        {\"$group\": {\"_id\": \"$address.zipcode\", \"count\": {\"$sum\": 1}}}\n",
    "    ]\n",
    ")\n",
    "for document in cursor:\n",
    "    print(document)"
   ]
  },
  {
   "cell_type": "code",
   "execution_count": 52,
   "metadata": {
    "collapsed": false
   },
   "outputs": [
    {
     "data": {
      "text/plain": [
       "u'cuisine_1'"
      ]
     },
     "execution_count": 52,
     "metadata": {},
     "output_type": "execute_result"
    }
   ],
   "source": [
    "db.restaurants.create_index([(\"cuisine\", pymongo.ASCENDING)])"
   ]
  },
  {
   "cell_type": "code",
   "execution_count": null,
   "metadata": {
    "collapsed": true
   },
   "outputs": [],
   "source": []
  }
 ],
 "metadata": {
  "kernelspec": {
   "display_name": "Python 2",
   "language": "python",
   "name": "python2"
  },
  "language_info": {
   "codemirror_mode": {
    "name": "ipython",
    "version": 2
   },
   "file_extension": ".py",
   "mimetype": "text/x-python",
   "name": "python",
   "nbconvert_exporter": "python",
   "pygments_lexer": "ipython2",
   "version": "2.7.13"
  }
 },
 "nbformat": 4,
 "nbformat_minor": 0
}
