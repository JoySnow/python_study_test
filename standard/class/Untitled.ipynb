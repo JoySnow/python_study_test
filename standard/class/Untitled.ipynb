{
 "cells": [
  {
   "cell_type": "code",
   "execution_count": 2,
   "metadata": {
    "collapsed": false
   },
   "outputs": [
    {
     "name": "stdout",
     "output_type": "stream",
     "text": [
      "a1:  <__main__.NewClass instance at 0x3532638>\n",
      "NewClass:  __main__.NewClass\n",
      "type(a1):  <type 'instance'>\n",
      "type(NewClass):  <type 'classobj'>\n",
      "a1: 1 0 0 0\n",
      "a2: 1 0 0 0\n",
      "a3: 1 0 0 0\n",
      "a3: 2 10 100 1000\n",
      "a4 1001 100 100 100 1000\n"
     ]
    },
    {
     "ename": "TypeError",
     "evalue": "unbound method func0() must be called with NewClass instance as first argument (got nothing instead)",
     "output_type": "error",
     "traceback": [
      "\u001b[1;31m---------------------------------------------------------------------------\u001b[0m",
      "\u001b[1;31mTypeError\u001b[0m                                 Traceback (most recent call last)",
      "\u001b[1;32m<ipython-input-2-f9d0f766f054>\u001b[0m in \u001b[0;36m<module>\u001b[1;34m()\u001b[0m\n\u001b[0;32m     78\u001b[0m     \u001b[0ma5\u001b[0m\u001b[1;33m.\u001b[0m\u001b[0mfunc1\u001b[0m\u001b[1;33m(\u001b[0m\u001b[1;33m)\u001b[0m\u001b[1;33m\u001b[0m\u001b[0m\n\u001b[0;32m     79\u001b[0m     \u001b[0ma5\u001b[0m\u001b[1;33m.\u001b[0m\u001b[0mfunc2\u001b[0m\u001b[1;33m(\u001b[0m\u001b[1;33m)\u001b[0m\u001b[1;33m\u001b[0m\u001b[0m\n\u001b[1;32m---> 80\u001b[1;33m     \u001b[0mNewClass\u001b[0m\u001b[1;33m.\u001b[0m\u001b[0mfunc0\u001b[0m\u001b[1;33m(\u001b[0m\u001b[1;33m)\u001b[0m \u001b[1;31m#TypeError: unbound method func0() must be called with NewClass instance as first argument (got nothing instead)\u001b[0m\u001b[1;33m\u001b[0m\u001b[0m\n\u001b[0m\u001b[0;32m     81\u001b[0m     \u001b[0mNewClass\u001b[0m\u001b[1;33m.\u001b[0m\u001b[0mfunc1\u001b[0m\u001b[1;33m(\u001b[0m\u001b[1;33m)\u001b[0m\u001b[1;33m\u001b[0m\u001b[0m\n\u001b[0;32m     82\u001b[0m     \u001b[0mNewClass\u001b[0m\u001b[1;33m.\u001b[0m\u001b[0mfunc2\u001b[0m\u001b[1;33m(\u001b[0m\u001b[1;33m)\u001b[0m\u001b[1;33m\u001b[0m\u001b[0m\n",
      "\u001b[1;31mTypeError\u001b[0m: unbound method func0() must be called with NewClass instance as first argument (got nothing instead)"
     ]
    }
   ],
   "source": [
    "# encoding:utf8  \n",
    "  \n",
    "class NewClass():  \n",
    "    # 为了方便，这里进行先行声明，但是实际应用中一般没必要  \n",
    "    #   \n",
    "    # 共有，私有变量，通过两个下划线区分  \n",
    "    var_public = 0 # 类型上的共有变量  \n",
    "    __var_private = 2 # 类型上的私有, 通过_NewClass__var_private 还可以访问  \n",
    "  \n",
    "    # python 中的特殊：类变量和成员变量，无法通过语法区分，只有使用时区分  \n",
    "    var_test_class = 0 # 用于类变量, 类和它的实例都可以访问，类似c++ static, 但又不一样.  \n",
    "    # 当一个类的对象被构造时，会将当前类变量拷贝一份给这个对象，当前类变量的值是多少，这个对象拷贝得到的类变量的值就是多少；  \n",
    "    # 通过对象来修改类变量，并不会影响其他对象的类变量的值，因为大家都有各自的副本，更不会影响类本身所拥有的那个类变量的值；  \n",
    "    # 只有类自己才能改变类本身拥有的类变量的值。  \n",
    "    var_test_self = 0 # 用于成员变量, 只有类的实例可以访问, 类似c++ 中一般成员变量  \n",
    "  \n",
    "    def __init__(self,name):  \n",
    "        self.name = name  \n",
    "        self.var_test_self += 1  \n",
    "        NewClass.var_test_class += 1  \n",
    "        pass  \n",
    "    def __del__(self):  \n",
    "        self.var_test_self -= 1  \n",
    "        NewClass.var_test_class -= 1  \n",
    "        pass  \n",
    "  \n",
    "    # 一般成员函数  \n",
    "    def func0(self):  \n",
    "        pass  \n",
    "  \n",
    "    # 静态成员函数，参数可以为空  \n",
    "    @staticmethod  \n",
    "    def func1():  \n",
    "        pass  \n",
    "  \n",
    "    # 类函数，参数为一个类  \n",
    "    @classmethod  \n",
    "    def func2(cls):  \n",
    "        pass  \n",
    "  \n",
    "if __name__ == '__main__':  \n",
    "  \n",
    "    a1 = NewClass(\"Hello\")\n",
    "    print \"a1: \", a1\n",
    "    print \"NewClass: \", NewClass\n",
    "    print \"type(a1): \", type(a1)\n",
    "    print \"type(NewClass): \", type(NewClass)\n",
    "    print \"a1:\", a1.var_test_self, a1.var_test_class, NewClass.var_test_class, NewClass.var_test_self  \n",
    "    a2 = NewClass(\"World\")  \n",
    "    print \"a2:\", a2.var_test_self, a2.var_test_class, NewClass.var_test_class, NewClass.var_test_self  \n",
    "    a3 = NewClass(\"nihao\")  \n",
    "    print \"a3:\", a3.var_test_self, a3.var_test_class, NewClass.var_test_class, NewClass.var_test_self  \n",
    "    # change class var  \n",
    "    a3.var_test_self += 1  \n",
    "    a3.var_test_class += 10  \n",
    "    NewClass.var_test_class += 100 # ?? no error  \n",
    "    NewClass.var_test_self += 1000 # ?? no error  \n",
    "    print \"a3:\", a3.var_test_self, a3.var_test_class, NewClass.var_test_class, NewClass.var_test_self  \n",
    "  \n",
    "    a4 = NewClass(\"vartest\")  \n",
    "    print \"a4\",a4.var_test_self, a4.var_test_class, a4.__class__.var_test_class, NewClass.var_test_class, NewClass.var_test_self # a4.__class__ 等价于 NewClass   \n",
    "  \n",
    "    ''''' \n",
    "    a1: 1 1 1 0 \n",
    "    a2: 1 2 2 0 \n",
    "    a3: 1 3 3 0 \n",
    "    a3: 2 13 103 1000 \n",
    "    a4 1001 104 104 104 1000 \n",
    "    Exception AttributeError: \"'NoneType' object has no attribute 'var_test_class'\" in <bound method NewClass.__del__ of <__main__.NewClass instance at 0x01A214B8>> ignored \n",
    "    Exception AttributeError: \"'NoneType' object has no attribute 'var_test_class'\" in <bound method NewClass.__del__ of <__main__.NewClass instance at 0x01A21508>> ignored \n",
    "    Exception AttributeError: \"'NoneType' object has no attribute 'var_test_class'\" in <bound method NewClass.__del__ of <__main__.NewClass instance at 0x01A214E0>> ignored \n",
    "    Exception AttributeError: \"'NoneType' object has no attribute 'var_test_class'\" in <bound method NewClass.__del__ of <__main__.NewClass instance at 0x01A21530>> ignored     \n",
    "    '''  \n",
    "    # 说明，类和它的实例 访问成员函数完全是分开的，只有在构造时才有联系  \n",
    "  \n",
    "    a5 = NewClass(\"test\") # # Exception AttributeError: \"'NoneType' object has no attribute 'var_test_class'\" in <bound method NewClass.__del__ of <__main__.NewClass instance at 0x01A014B8>>   \n",
    "    a5.func0()  \n",
    "    a5.func1()  \n",
    "    a5.func2()   \n",
    "    NewClass.func0() #TypeError: unbound method func0() must be called with NewClass instance as first argument (got nothing instead)  \n",
    "    NewClass.func1()  \n",
    "    NewClass.func2()  \n",
    "  \n",
    "    # classmethod 与 staticmethod 差异主要在继承等场景时需要明确区分，同时类函数会额外获取自身的类对象，而不是实例对象  \n"
   ]
  },
  {
   "cell_type": "code",
   "execution_count": null,
   "metadata": {
    "collapsed": true
   },
   "outputs": [],
   "source": []
  }
 ],
 "metadata": {
  "kernelspec": {
   "display_name": "Python 2",
   "language": "python",
   "name": "python2"
  },
  "language_info": {
   "codemirror_mode": {
    "name": "ipython",
    "version": 2
   },
   "file_extension": ".py",
   "mimetype": "text/x-python",
   "name": "python",
   "nbconvert_exporter": "python",
   "pygments_lexer": "ipython2",
   "version": "2.7.5"
  }
 },
 "nbformat": 4,
 "nbformat_minor": 0
}
