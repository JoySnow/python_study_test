{
 "cells": [
  {
   "cell_type": "code",
   "execution_count": 7,
   "metadata": {
    "collapsed": false
   },
   "outputs": [
    {
     "name": "stdout",
     "output_type": "stream",
     "text": [
      "=== begin in compute ===\n",
      "__init__ <bound method Cat.__init__ of <__main__.Cat object at 0x1d25a50>>\n",
      "compute <bound method Cat.compute of <__main__.Cat object at 0x1d25a50>>\n",
      "sayHi <bound method Cat.sayHi of <__main__.Cat object at 0x1d25a50>>\n",
      "=== end in compute ===\n",
      "<__main__.Cat object at 0x1d25a50>\n",
      "<unbound method Cat.sayHi>\n",
      "<bound method Cat.sayHi of <__main__.Cat object at 0x1d25a50>>\n"
     ]
    }
   ],
   "source": [
    "import  sys #  模块，sys指向这个模块对象\n",
    "import  inspect\n",
    "def  foo(): pass  #  函数，foo指向这个函数对象  \n",
    "\n",
    "class  Cat(object): #  类，Cat指向这个类对象\n",
    "    def __init__ (self, name = ' kitty ' ):\n",
    "        self.name =  name\n",
    "        self.computed = {}\n",
    "        self.compute()\n",
    "    def sayHi(self): #  实例方法，sayHi指向这个方法对象，使用类或实例.sayHi访问\n",
    "        print  self.name, ' says Hi! '  #  访问名为name的字段，使用实例.name访问\n",
    "    def compute(self):\n",
    "        print \"=== begin in compute ===\"\n",
    "        for key, value in inspect.getmembers(self, inspect.ismethod):\n",
    "            print key, value\n",
    "            if hasattr(value, \"computed\"):\n",
    "                print \"step in hasattr\"\n",
    "        print \"=== end in compute ===\"\n",
    " \n",
    "cat = Cat() #  cat是Cat类的实例对象\n",
    "print cat\n",
    "\n",
    "print  Cat.sayHi #  使用类名访问实例方法时，方法是未绑定的(unbound)\n",
    "print  cat.sayHi #  使用实例访问实例方法时，方法是绑定的(bound)"
   ]
  },
  {
   "cell_type": "code",
   "execution_count": null,
   "metadata": {
    "collapsed": true
   },
   "outputs": [],
   "source": [
    "for key, value in inspect.getmembers(self, inspect.ismethod):\n",
    "    "
   ]
  }
 ],
 "metadata": {
  "kernelspec": {
   "display_name": "Python 2",
   "language": "python",
   "name": "python2"
  },
  "language_info": {
   "codemirror_mode": {
    "name": "ipython",
    "version": 2
   },
   "file_extension": ".py",
   "mimetype": "text/x-python",
   "name": "python",
   "nbconvert_exporter": "python",
   "pygments_lexer": "ipython2",
   "version": "2.7.5"
  }
 },
 "nbformat": 4,
 "nbformat_minor": 0
}
