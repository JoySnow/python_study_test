{
 "cells": [
  {
   "cell_type": "code",
   "execution_count": 59,
   "metadata": {
    "collapsed": true
   },
   "outputs": [],
   "source": [
    "content = \"Attached devices:\\nHost: scsi0 Channel: 00 Id: 32 Lun: 00\\n  Vendor: DP       Model: BACKPLANE        Rev: 1.05\\n  Type:   Enclosure                        ANSI  SCSI revision: 05\\nHost: scsi0 Channel: 02 Id: 00 Lun: 00\\n  Vendor: DELL     Model: PERC 6/i         Rev: 1.22\\n  Type:   Direct-Access                    ANSI  SCSI revision: 05\\nHost: scsi1 Channel: 00 Id: 00 Lun: 00\\n  Vendor: TSSTcorp Model: DVD-ROM-TS-L333A Rev: D100\\n  Type:   CD-ROM                           ANSI  SCSI revision: 05\\nHost: scsi3 Channel: 00 Id: 00 Lun: 00\\n  Vendor: Dell     Model: Virtual  CDROM   Rev: 123 \\n  Type:   CD-ROM                           ANSI  SCSI revision: 00\\nHost: scsi4 Channel: 00 Id: 00 Lun: 00\\n  Vendor: Dell     Model: Virtual  Floppy  Rev: 123 \\n  Type:   Direct-Access                    ANSI  SCSI revision: 00\\n\""
   ]
  },
  {
   "cell_type": "code",
   "execution_count": 60,
   "metadata": {
    "collapsed": false
   },
   "outputs": [
    {
     "data": {
      "text/plain": [
       "'Attached devices:\\nHost: scsi0 Channel: 00 Id: 32 Lun: 00\\n  Vendor: DP       Model: BACKPLANE        Rev: 1.05\\n  Type:   Enclosure                        ANSI  SCSI revision: 05\\nHost: scsi0 Channel: 02 Id: 00 Lun: 00\\n  Vendor: DELL     Model: PERC 6/i         Rev: 1.22\\n  Type:   Direct-Access                    ANSI  SCSI revision: 05\\nHost: scsi1 Channel: 00 Id: 00 Lun: 00\\n  Vendor: TSSTcorp Model: DVD-ROM-TS-L333A Rev: D100\\n  Type:   CD-ROM                           ANSI  SCSI revision: 05\\nHost: scsi3 Channel: 00 Id: 00 Lun: 00\\n  Vendor: Dell     Model: Virtual  CDROM   Rev: 123 \\n  Type:   CD-ROM                           ANSI  SCSI revision: 00\\nHost: scsi4 Channel: 00 Id: 00 Lun: 00\\n  Vendor: Dell     Model: Virtual  Floppy  Rev: 123 \\n  Type:   Direct-Access                    ANSI  SCSI revision: 00\\n'"
      ]
     },
     "execution_count": 60,
     "metadata": {},
     "output_type": "execute_result"
    }
   ],
   "source": [
    "content"
   ]
  },
  {
   "cell_type": "code",
   "execution_count": 81,
   "metadata": {
    "collapsed": false
   },
   "outputs": [],
   "source": [
    "import re\n",
    "HOST_LINE_REGEX = re.compile(r'^Host: (.*) Channel: (.*) Id: (.*) Lun: (.*)')\n",
    "VENDOR_LINE_REGEX = re.compile(r'^Vendor: (.*) Model: (.*) Rev: (.*)')\n",
    "TYPE_LINE_REGEX = re.compile(r'^Type: (.*) ANSI  SCSI revision: (.*)')"
   ]
  },
  {
   "cell_type": "code",
   "execution_count": 82,
   "metadata": {
    "collapsed": false
   },
   "outputs": [
    {
     "name": "stdout",
     "output_type": "stream",
     "text": [
      "17\n",
      "  Type:   Direct-Access                    ANSI  SCSI revision: 00\n",
      "1\n",
      "<_sre.SRE_Match object at 0x19c3960>\n",
      "<_sre.SRE_Match object at 0x19dc030>\n",
      "<_sre.SRE_Match object at 0x18e5718>\n",
      "hehe\n",
      "scsi0\n",
      "16 BACKPLANE       \n",
      "4\n",
      "<_sre.SRE_Match object at 0x1735ca8>\n",
      "<_sre.SRE_Match object at 0x168fdd8>\n",
      "<_sre.SRE_Match object at 0x18e53e8>\n",
      "hehe\n",
      "scsi0\n",
      "16 PERC 6/i        \n",
      "7\n",
      "<_sre.SRE_Match object at 0x19c3960>\n",
      "<_sre.SRE_Match object at 0x19dc030>\n",
      "<_sre.SRE_Match object at 0x18e5718>\n",
      "hehe\n",
      "scsi1\n",
      "16 DVD-ROM-TS-L333A\n",
      "10\n",
      "<_sre.SRE_Match object at 0x1735ca8>\n",
      "<_sre.SRE_Match object at 0x168fdd8>\n",
      "<_sre.SRE_Match object at 0x18e53e8>\n",
      "hehe\n",
      "scsi3\n",
      "16 Virtual  CDROM  \n",
      "13\n",
      "<_sre.SRE_Match object at 0x19c3960>\n",
      "<_sre.SRE_Match object at 0x19dc030>\n",
      "<_sre.SRE_Match object at 0x18e5718>\n",
      "hehe\n",
      "scsi4\n",
      "16 Virtual  Floppy \n"
     ]
    }
   ],
   "source": [
    "con = content.split(\"\\n\")\n",
    "#print con\n",
    "index = 1\n",
    "print len(con)\n",
    "print con[15]\n",
    "while index < len(con)-2:\n",
    "    print index\n",
    "    match_host_line = HOST_LINE_REGEX.search(con[index].strip())\n",
    "    print match_host_line\n",
    "    match_vendor_line = VENDOR_LINE_REGEX.search(con[index+1].strip())\n",
    "    print match_vendor_line\n",
    "    match_type_line = TYPE_LINE_REGEX.search(con[index+2].strip())\n",
    "    print match_type_line\n",
    "    if match_host_line and match_vendor_line and match_type_line:\n",
    "        print \"hehe\"\n",
    "        print match_host_line.group(1)\n",
    "        print len(match_vendor_line.group(2)), match_vendor_line.group(2)\n",
    "    index += 3\n",
    "\n",
    "    "
   ]
  },
  {
   "cell_type": "code",
   "execution_count": null,
   "metadata": {
    "collapsed": true
   },
   "outputs": [],
   "source": []
  }
 ],
 "metadata": {
  "kernelspec": {
   "display_name": "Python 2",
   "language": "python",
   "name": "python2"
  },
  "language_info": {
   "codemirror_mode": {
    "name": "ipython",
    "version": 2
   },
   "file_extension": ".py",
   "mimetype": "text/x-python",
   "name": "python",
   "nbconvert_exporter": "python",
   "pygments_lexer": "ipython2",
   "version": "2.7.5"
  }
 },
 "nbformat": 4,
 "nbformat_minor": 0
}
