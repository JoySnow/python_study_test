{
 "cells": [
  {
   "cell_type": "code",
   "execution_count": 24,
   "metadata": {
    "collapsed": true
   },
   "outputs": [],
   "source": [
    "# refer to https://docs.python.org/2.7/library/itertools.html?highlight=groupby#itertools.groupby\n",
    "\n",
    "# The reason for the necessary sorted() step brfore groupby():\n",
    "#     The operation of groupby() is similar to the uniq filter in Unix. It generates a break or new group every time the value of the key function changes (which is why it is usually necessary to have sorted the data using the same key function). That behavior differs from SQL’s GROUP BY which aggregates common elements regardless of their input order.\n",
    "\n",
    "# examples:\n",
    "# groups = []\n",
    "# uniquekeys = []\n",
    "# data = sorted(data, key=keyfunc)\n",
    "# for k, g in groupby(data, keyfunc):\n",
    "#     groups.append(list(g))      # Store group iterator as a list\n",
    "#     uniquekeys.append(k)\n",
    "\n",
    "# >>> dict((k, list(g)) for k, g in groupby(range(10), lambda x : x > 5))\n",
    "# {False: [0, 1, 2, 3, 4, 5], True: [6, 7, 8, 9]}"
   ]
  },
  {
   "cell_type": "code",
   "execution_count": 12,
   "metadata": {
    "collapsed": false
   },
   "outputs": [],
   "source": [
    "from itertools import groupby\n",
    "ifaces_dict = {'eth1': [{'bridge': 'mb', 'name': 'eth1'}, {'bridge': 'mb2', 'name': 'eth1.111'}, {'bridge': 'mb', 'name': 'eth1.112'}], 'eth0': [{'bridge': 'ovirtmgmt', 'name': 'eth0'}]}"
   ]
  },
  {
   "cell_type": "code",
   "execution_count": 13,
   "metadata": {
    "collapsed": false
   },
   "outputs": [
    {
     "name": "stdout",
     "output_type": "stream",
     "text": [
      "[[{'bridge': 'mb', 'name': 'eth1'}, {'bridge': 'mb2', 'name': 'eth1.111'}, {'bridge': 'mb', 'name': 'eth1.112'}], [{'bridge': 'ovirtmgmt', 'name': 'eth0'}]]\n"
     ]
    }
   ],
   "source": [
    "print ifaces_dict.values()"
   ]
  },
  {
   "cell_type": "code",
   "execution_count": 7,
   "metadata": {
    "collapsed": false
   },
   "outputs": [],
   "source": [
    "groupby_ifaces = groupby(ifaces_dict.values(), \"bridge\")"
   ]
  },
  {
   "cell_type": "code",
   "execution_count": 8,
   "metadata": {
    "collapsed": false
   },
   "outputs": [
    {
     "name": "stdout",
     "output_type": "stream",
     "text": [
      "<itertools.groupby object at 0x7fa08c3e7158>\n"
     ]
    }
   ],
   "source": [
    "print groupby_ifaces"
   ]
  },
  {
   "cell_type": "code",
   "execution_count": 11,
   "metadata": {
    "collapsed": false
   },
   "outputs": [
    {
     "ename": "TypeError",
     "evalue": "'str' object is not callable",
     "output_type": "error",
     "traceback": [
      "\u001b[0;31m---------------------------------------------------------------------------\u001b[0m",
      "\u001b[0;31mTypeError\u001b[0m                                 Traceback (most recent call last)",
      "\u001b[0;32m<ipython-input-11-86a702858812>\u001b[0m in \u001b[0;36m<module>\u001b[0;34m()\u001b[0m\n\u001b[0;32m----> 1\u001b[0;31m \u001b[0;32mfor\u001b[0m \u001b[0mk\u001b[0m \u001b[0;32min\u001b[0m \u001b[0mgroupby_ifaces\u001b[0m\u001b[0;34m:\u001b[0m\u001b[0;34m\u001b[0m\u001b[0m\n\u001b[0m\u001b[1;32m      2\u001b[0m     \u001b[0;32mprint\u001b[0m \u001b[0mk\u001b[0m\u001b[0;34m\u001b[0m\u001b[0m\n",
      "\u001b[0;31mTypeError\u001b[0m: 'str' object is not callable"
     ]
    }
   ],
   "source": [
    "for k in groupby_ifaces:\n",
    "    print k"
   ]
  },
  {
   "cell_type": "code",
   "execution_count": null,
   "metadata": {
    "collapsed": true
   },
   "outputs": [],
   "source": []
  },
  {
   "cell_type": "code",
   "execution_count": 15,
   "metadata": {
    "collapsed": false
   },
   "outputs": [
    {
     "name": "stdout",
     "output_type": "stream",
     "text": [
      "<itertools.groupby object at 0x7fa08c3e7aa0>\n",
      "False <itertools._grouper object at 0x7fa08c3d5a10>\n",
      "[0, 1, 2, 3, 4, 5]\n",
      "True <itertools._grouper object at 0x7fa08c3d5890>\n",
      "[6, 7, 8, 9]\n"
     ]
    }
   ],
   "source": [
    "#dict( (k, list(g)) for k, g in groupby(range(10), lambda x : x > 5))\n",
    "print groupby(range(10), lambda x : x > 5)\n",
    "for k, g in groupby(range(10), lambda x : x > 5):\n",
    "    print k, g\n",
    "    print list(g)\n",
    "    "
   ]
  },
  {
   "cell_type": "code",
   "execution_count": 17,
   "metadata": {
    "collapsed": false
   },
   "outputs": [
    {
     "name": "stdout",
     "output_type": "stream",
     "text": [
      "[{'bridge': 'mb', 'name': 'eth1', 'parent': 'eth1'}, {'bridge': 'mb', 'name': 'eth1.112', 'parent': 'eth1'}, {'bridge': 'mb2', 'name': 'eth1.111', 'parent': 'eth1'}, {'bridge': 'ovirtmgmt', 'name': 'eth0', 'parent': 'eth0'}]\n",
      "<itertools.groupby object at 0x7fa08c3e7aa0>\n",
      "mb <itertools._grouper object at 0x7fa08c3ee990>\n",
      "[{'bridge': 'mb', 'name': 'eth1', 'parent': 'eth1'}, {'bridge': 'mb', 'name': 'eth1.112', 'parent': 'eth1'}]\n",
      "mb2 <itertools._grouper object at 0x7fa08c3d52d0>\n",
      "[{'bridge': 'mb2', 'name': 'eth1.111', 'parent': 'eth1'}]\n",
      "ovirtmgmt <itertools._grouper object at 0x7fa08c3ee990>\n",
      "[{'bridge': 'ovirtmgmt', 'name': 'eth0', 'parent': 'eth0'}]\n"
     ]
    }
   ],
   "source": [
    "#dict( (k, list(g)) for k, g in groupby(range(10), lambda x : x > 5))\n",
    "\n",
    "data = [{'bridge': 'ovirtmgmt', 'name': 'eth0', 'parent': 'eth0'}, \n",
    "        {'bridge': 'mb', 'name': 'eth1', 'parent': 'eth1'}, \n",
    "        {'bridge': 'mb2', 'name': 'eth1.111', 'parent': 'eth1'}, \n",
    "        {'bridge': 'mb', 'name': 'eth1.112', 'parent': 'eth1'}]\n",
    "\n",
    "data = sorted(data, key=(lambda x : x[\"bridge\"]))\n",
    "print data\n",
    "            \n",
    "result = groupby(data, lambda x : x[\"bridge\"])\n",
    "print result\n",
    "for k, g in result:\n",
    "    print k, g\n",
    "    print list(g)"
   ]
  },
  {
   "cell_type": "code",
   "execution_count": null,
   "metadata": {
    "collapsed": true
   },
   "outputs": [],
   "source": []
  },
  {
   "cell_type": "code",
   "execution_count": 19,
   "metadata": {
    "collapsed": false
   },
   "outputs": [
    {
     "data": {
      "text/plain": [
       "True"
      ]
     },
     "execution_count": 19,
     "metadata": {},
     "output_type": "execute_result"
    }
   ],
   "source": [
    "True and True and True or False"
   ]
  },
  {
   "cell_type": "code",
   "execution_count": 20,
   "metadata": {
    "collapsed": false
   },
   "outputs": [
    {
     "data": {
      "text/plain": [
       "True"
      ]
     },
     "execution_count": 20,
     "metadata": {},
     "output_type": "execute_result"
    }
   ],
   "source": [
    "True and True and False or True"
   ]
  },
  {
   "cell_type": "code",
   "execution_count": 21,
   "metadata": {
    "collapsed": false
   },
   "outputs": [
    {
     "data": {
      "text/plain": [
       "True"
      ]
     },
     "execution_count": 21,
     "metadata": {},
     "output_type": "execute_result"
    }
   ],
   "source": [
    "True and True and (False or True)"
   ]
  },
  {
   "cell_type": "code",
   "execution_count": 22,
   "metadata": {
    "collapsed": false
   },
   "outputs": [
    {
     "data": {
      "text/plain": [
       "True"
      ]
     },
     "execution_count": 22,
     "metadata": {},
     "output_type": "execute_result"
    }
   ],
   "source": [
    "True and True and (True or False)"
   ]
  },
  {
   "cell_type": "code",
   "execution_count": null,
   "metadata": {
    "collapsed": true
   },
   "outputs": [],
   "source": []
  }
 ],
 "metadata": {
  "kernelspec": {
   "display_name": "Python 2",
   "language": "python",
   "name": "python2"
  },
  "language_info": {
   "codemirror_mode": {
    "name": "ipython",
    "version": 2
   },
   "file_extension": ".py",
   "mimetype": "text/x-python",
   "name": "python",
   "nbconvert_exporter": "python",
   "pygments_lexer": "ipython2",
   "version": "2.7.12"
  }
 },
 "nbformat": 4,
 "nbformat_minor": 0
}
