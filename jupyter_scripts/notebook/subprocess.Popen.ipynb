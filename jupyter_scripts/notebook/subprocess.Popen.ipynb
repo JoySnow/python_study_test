{
 "cells": [
  {
   "cell_type": "code",
   "execution_count": 48,
   "metadata": {
    "collapsed": false
   },
   "outputs": [
    {
     "name": "stdout",
     "output_type": "stream",
     "text": [
      "['/usr/bin/find', '/etc/origin/node', '/etc/origin/master', '/etc/pki', '-type', 'f', '-exec', '/usr/bin/openssl', 'x509', '-noout', '-enddate', '-in', '{}', ';', '-exec', 'echo', '{}', ';']\n"
     ]
    }
   ],
   "source": [
    ">>> import shlex, subprocess\n",
    ">>> command_line = \"/usr/bin/find /etc/origin/node /etc/origin/master /etc/pki -type f -exec /usr/bin/openssl x509 -noout -enddate -in '{}' \\; -exec echo '{}' \\;\"\n",
    "#>>> command_line = \"/usr/bin/find /etc/origin/node /etc/origin/master /etc/pki -type f -exec /usr/bin/openssl x509 -noout -enddate -in '{}' \\; -exec echo '{}' \\; 2>/dev/null\"\n",
    ">>> #command_line = \"/usr/bin/ls /\"\n",
    ">>> args = shlex.split(command_line)\n",
    ">>> print args\n"
   ]
  },
  {
   "cell_type": "code",
   "execution_count": 49,
   "metadata": {
    "collapsed": false
   },
   "outputs": [],
   "source": [
    "cmd_env = {'LC_ALL': 'C'}\n",
    "p = subprocess.Popen(args, shell=False, stdout=subprocess.PIPE, stderr=subprocess.STDOUT, bufsize=-1, env=cmd_env, close_fds=True)"
   ]
  },
  {
   "cell_type": "code",
   "execution_count": 50,
   "metadata": {
    "collapsed": true
   },
   "outputs": [],
   "source": [
    "#  96         cmd = \"/bin/sed -rf \" + constants.default_sed_file\n",
    "#  97         #MMM-1\n",
    "#  98         logger.debug(\"XXXX: cmd: %s\", cmd)\n",
    "#  99         sedcmd = Popen(shlex.split(cmd.encode('utf-8')),\n",
    "# 100                        stdin=proc0.stdout,\n",
    "# 101                        stdout=PIPE)\n",
    "# 102         proc0.stdout.close()\n",
    "# 103         proc0 = sedcmd"
   ]
  },
  {
   "cell_type": "code",
   "execution_count": 51,
   "metadata": {
    "collapsed": false
   },
   "outputs": [],
   "source": [
    "stdout, stderr = p.communicate()"
   ]
  },
  {
   "cell_type": "code",
   "execution_count": 52,
   "metadata": {
    "collapsed": false
   },
   "outputs": [
    {
     "name": "stdout",
     "output_type": "stream",
     "text": [
      "/usr/bin/find: '/etc/origin/node': No such file or directory\n",
      "/usr/bin/find: '/etc/origin/master': No such file or directory\n",
      "unable to load certificate\n",
      "140242521057144:error:0906D066:PEM routines:PEM_read_bio:bad end line:pem_lib.c:809:\n",
      "unable to load certificate\n",
      "140532689274744:error:0906D066:PEM routines:PEM_read_bio:bad end line:pem_lib.c:809:\n",
      "unable to load certificate\n",
      "140679663687544:error:0906D066:PEM routines:PEM_read_bio:bad end line:pem_lib.c:809:\n",
      "unable to load certificate\n",
      "140564333442936:error:0906D066:PEM routines:PEM_read_bio:bad end line:pem_lib.c:809:\n",
      "unable to load certificate\n",
      "140492687247224:error:0906D066:PEM routines:PEM_read_bio:bad end line:pem_lib.c:809:\n",
      "unable to load certificate\n",
      "140010805409656:error:0906D066:PEM routines:PEM_read_bio:bad end line:pem_lib.c:809:\n",
      "unable to load certificate\n",
      "139652594403192:error:0906D066:PEM routines:PEM_read_bio:bad end line:pem_lib.c:809:\n",
      "unable to load certificate\n",
      "139740838946680:error:0906D064:PEM routines:PEM_read_bio:bad base64 decode:pem_lib.c:818:\n",
      "unable to load certificate\n",
      "140592995080056:error:0906D066:PEM routines:PEM_read_bio:bad end line:pem_lib.c:809:\n",
      "unable to load certificate\n",
      "140394688231288:error:0906D066:PEM routines:PEM_read_bio:bad end line:pem_lib.c:809:\n",
      "unable to load certificate\n",
      "140455578371960:error:0906D066:PEM routines:PEM_read_bio:bad end line:pem_lib.c:809:\n",
      "unable to load certificate\n",
      "139888497100664:error:0906D066:PEM routines:PEM_read_bio:bad end line:pem_lib.c:809:\n",
      "unable to load certificate\n",
      "140170613610360:error:0906D066:PEM routines:PEM_read_bio:bad end line:pem_lib.c:809:\n",
      "unable to load certificate\n",
      "139747862185848:error:0906D066:PEM routines:PEM_read_bio:bad end line:pem_lib.c:809:\n",
      "unable to load certificate\n",
      "140223642298232:error:0906D066:PEM routines:PEM_read_bio:bad end line:pem_lib.c:809:\n",
      "unable to load certificate\n",
      "140611702777720:error:0906D066:PEM routines:PEM_read_bio:bad end line:pem_lib.c:809:\n",
      "unable to load certificate\n",
      "139862606145400:error:0906D066:PEM routines:PEM_read_bio:bad end line:pem_lib.c:809:\n",
      "unable to load certificate\n",
      "140446858753912:error:0906D064:PEM routines:PEM_read_bio:bad base64 decode:pem_lib.c:818:\n",
      "unable to load certificate\n",
      "140372672161656:error:0906D064:PEM routines:PEM_read_bio:bad base64 decode:pem_lib.c:818:\n",
      "unable to load certificate\n",
      "140303498073976:error:0906D066:PEM routines:PEM_read_bio:bad end line:pem_lib.c:809:\n",
      "unable to load certificate\n",
      "139756400441208:error:0906D064:PEM routines:PEM_read_bio:bad base64 decode:pem_lib.c:818:\n",
      "unable to load certificate\n",
      "140547355797368:error:0906D066:PEM routines:PEM_read_bio:bad end line:pem_lib.c:809:\n",
      "unable to load certificate\n",
      "140630275917688:error:0906D064:PEM routines:PEM_read_bio:bad base64 decode:pem_lib.c:818:\n",
      "unable to load certificate\n",
      "140244503897976:error:0906D064:PEM routines:PEM_read_bio:bad base64 decode:pem_lib.c:818:\n",
      "unable to load certificate\n",
      "140576502204280:error:0906D066:PEM routines:PEM_read_bio:bad end line:pem_lib.c:809:\n",
      "unable to load certificate\n",
      "139709690824568:error:0906D064:PEM routines:PEM_read_bio:bad base64 decode:pem_lib.c:818:\n",
      "unable to load certificate\n",
      "139964272473976:error:0906D066:PEM routines:PEM_read_bio:bad end line:pem_lib.c:809:\n",
      "unable to load certificate\n",
      "139704049960824:error:0906D066:PEM routines:PEM_read_bio:bad end line:pem_lib.c:809:\n",
      "unable to load certificate\n",
      "140054568654712:error:0906D064:PEM routines:PEM_read_bio:bad base64 decode:pem_lib.c:818:\n",
      "unable to load certificate\n",
      "140561888483192:error:0906D064:PEM routines:PEM_read_bio:bad base64 decode:pem_lib.c:818:\n",
      "unable to load certificate\n",
      "139652619290488:error:0906D066:PEM routines:PEM_read_bio:bad end line:pem_lib.c:809:\n",
      "unable to load certificate\n",
      "140570823239544:error:0906D066:PEM routines:PEM_read_bio:bad end line:pem_lib.c:809:\n",
      "unable to load certificate\n",
      "140459552860024:error:0906D06C:PEM routines:PEM_read_bio:no start line:pem_lib.c:701:Expecting: TRUSTED CERTIFICATE\n",
      "unable to load certificate\n",
      "140612422150008:error:0906D06C:PEM routines:PEM_read_bio:no start line:pem_lib.c:701:Expecting: TRUSTED CERTIFICATE\n",
      "unable to load certificate\n",
      "140362262992760:error:0906D06C:PEM routines:PEM_read_bio:no start line:pem_lib.c:701:Expecting: TRUSTED CERTIFICATE\n",
      "Error opening Certificate /etc/pki/tls/certs/localhost.crt\n",
      "140040187148152:error:0200100D:system library:fopen:Permission denied:bss_file.c:398:fopen('/etc/pki/tls/certs/localhost.crt','r')\n",
      "140040187148152:error:20074002:BIO routines:FILE_CTRL:system lib:bss_file.c:400:\n",
      "unable to load certificate\n",
      "Error opening Certificate /etc/pki/tls/certs/2015-RH-IT-Root-CA.pem\n",
      "139688476727160:error:0200100D:system library:fopen:Permission denied:bss_file.c:398:fopen('/etc/pki/tls/certs/2015-RH-IT-Root-CA.pem','r')\n",
      "139688476727160:error:20074002:BIO routines:FILE_CTRL:system lib:bss_file.c:400:\n",
      "unable to load certificate\n",
      "Error opening Certificate /etc/pki/tls/certs/newca.crt\n",
      "140408103569272:error:0200100D:system library:fopen:Permission denied:bss_file.c:398:fopen('/etc/pki/tls/certs/newca.crt','r')\n",
      "140408103569272:error:20074002:BIO routines:FILE_CTRL:system lib:bss_file.c:400:\n",
      "unable to load certificate\n",
      "Error opening Certificate /etc/pki/tls/certs/oracle_ebs.crt\n",
      "140373890025336:error:0200100D:system library:fopen:Permission denied:bss_file.c:398:fopen('/etc/pki/tls/certs/oracle_ebs.crt','r')\n",
      "140373890025336:error:20074002:BIO routines:FILE_CTRL:system lib:bss_file.c:400:\n",
      "unable to load certificate\n",
      "unable to load certificate\n",
      "140365140072312:error:0906D06C:PEM routines:PEM_read_bio:no start line:pem_lib.c:701:Expecting: TRUSTED CERTIFICATE\n",
      "unable to load certificate\n",
      "139948805957496:error:0906D06C:PEM routines:PEM_read_bio:no start line:pem_lib.c:701:Expecting: TRUSTED CERTIFICATE\n",
      "unable to load certificate\n",
      "140571485955960:error:0906D06C:PEM routines:PEM_read_bio:no start line:pem_lib.c:701:Expecting: TRUSTED CERTIFICATE\n",
      "unable to load certificate\n",
      "140009309550456:error:0906D06C:PEM routines:PEM_read_bio:no start line:pem_lib.c:701:Expecting: TRUSTED CERTIFICATE\n",
      "unable to load certificate\n",
      "140518198167416:error:0906D06C:PEM routines:PEM_read_bio:no start line:pem_lib.c:701:Expecting: TRUSTED CERTIFICATE\n",
      "unable to load certificate\n",
      "140516433930104:error:0906D06C:PEM routines:PEM_read_bio:no start line:pem_lib.c:701:Expecting: TRUSTED CERTIFICATE\n",
      "Error opening Certificate /etc/pki/tls/private/localhost.key\n",
      "140214612772728:error:0200100D:system library:fopen:Permission denied:bss_file.c:398:fopen('/etc/pki/tls/private/localhost.key','r')\n",
      "140214612772728:error:20074002:BIO routines:FILE_CTRL:system lib:bss_file.c:400:\n",
      "unable to load certificate\n",
      "unable to load certificate\n",
      "139988919760760:error:0906D06C:PEM routines:PEM_read_bio:no start line:pem_lib.c:701:Expecting: TRUSTED CERTIFICATE\n",
      "unable to load certificate\n",
      "140329365948280:error:0906D06C:PEM routines:PEM_read_bio:no start line:pem_lib.c:701:Expecting: TRUSTED CERTIFICATE\n",
      "unable to load certificate\n",
      "140059851286392:error:0906D06C:PEM routines:PEM_read_bio:no start line:pem_lib.c:701:Expecting: TRUSTED CERTIFICATE\n",
      "unable to load certificate\n",
      "140573192120184:error:0906D06C:PEM routines:PEM_read_bio:no start line:pem_lib.c:701:Expecting: TRUSTED CERTIFICATE\n",
      "unable to load certificate\n",
      "139685974423416:error:0906D06C:PEM routines:PEM_read_bio:no start line:pem_lib.c:701:Expecting: TRUSTED CERTIFICATE\n",
      "unable to load certificate\n",
      "140690585712504:error:0906D06C:PEM routines:PEM_read_bio:no start line:pem_lib.c:701:Expecting: TRUSTED CERTIFICATE\n",
      "notAfter=May 25 16:39:40 2019 GMT\n",
      "/etc/pki/ca-trust/extracted/openssl/ca-bundle.trust.crt\n",
      "unable to load certificate\n",
      "139797113575288:error:0906D06C:PEM routines:PEM_read_bio:no start line:pem_lib.c:701:Expecting: TRUSTED CERTIFICATE\n",
      "notAfter=May 25 16:39:40 2019 GMT\n",
      "/etc/pki/ca-trust/extracted/pem/tls-ca-bundle.pem\n",
      "notAfter=May 25 16:39:40 2019 GMT\n",
      "/etc/pki/ca-trust/extracted/pem/email-ca-bundle.pem\n",
      "notAfter=May 25 16:39:40 2019 GMT\n",
      "/etc/pki/ca-trust/extracted/pem/objsign-ca-bundle.pem\n",
      "unable to load certificate\n",
      "140125421541240:error:0906D06C:PEM routines:PEM_read_bio:no start line:pem_lib.c:701:Expecting: TRUSTED CERTIFICATE\n",
      "notAfter=Jun 26 17:38:11 2055 GMT\n",
      "/etc/pki/ca-trust/source/anchors/2015-RH-IT-Root-CA.pem\n",
      "notAfter=Sep 14 18:45:25 2019 GMT\n",
      "/etc/pki/ca-trust/source/anchors/newca.crt\n",
      "notAfter=Oct  7 16:59:35 2051 GMT\n",
      "/etc/pki/ca-trust/source/anchors/oracle_ebs.crt\n",
      "/usr/bin/find: '/etc/pki/CA/private': Permission denied\n",
      "unable to load certificate\n",
      "139987417167736:error:0906D06C:PEM routines:PEM_read_bio:no start line:pem_lib.c:701:Expecting: TRUSTED CERTIFICATE\n",
      "unable to load certificate\n",
      "140607285798776:error:0906D06C:PEM routines:PEM_read_bio:no start line:pem_lib.c:701:Expecting: TRUSTED CERTIFICATE\n",
      "unable to load certificate\n",
      "140309765420920:error:0906D06C:PEM routines:PEM_read_bio:no start line:pem_lib.c:701:Expecting: TRUSTED CERTIFICATE\n",
      "unable to load certificate\n",
      "139755323570040:error:0906D06C:PEM routines:PEM_read_bio:no start line:pem_lib.c:701:Expecting: TRUSTED CERTIFICATE\n",
      "unable to load certificate\n",
      "140330481395576:error:0906D06C:PEM routines:PEM_read_bio:no start line:pem_lib.c:701:Expecting: TRUSTED CERTIFICATE\n",
      "unable to load certificate\n",
      "140496207579000:error:0906D06C:PEM routines:PEM_read_bio:no start line:pem_lib.c:701:Expecting: TRUSTED CERTIFICATE\n",
      "/usr/bin/find: '/etc/pki/rsyslog': Permission denied\n",
      "unable to load certificate\n",
      "139726088734584:error:0906D066:PEM routines:PEM_read_bio:bad end line:pem_lib.c:809:\n",
      "unable to load certificate\n",
      "139762197346168:error:0906D066:PEM routines:PEM_read_bio:bad end line:pem_lib.c:809:\n",
      "unable to load certificate\n",
      "140227917608824:error:0906D066:PEM routines:PEM_read_bio:bad end line:pem_lib.c:809:\n",
      "\n"
     ]
    }
   ],
   "source": [
    "print stdout"
   ]
  },
  {
   "cell_type": "code",
   "execution_count": 37,
   "metadata": {
    "collapsed": false
   },
   "outputs": [
    {
     "name": "stdout",
     "output_type": "stream",
     "text": [
      "None\n"
     ]
    }
   ],
   "source": [
    "print stderr"
   ]
  },
  {
   "cell_type": "code",
   "execution_count": null,
   "metadata": {
    "collapsed": true
   },
   "outputs": [],
   "source": []
  }
 ],
 "metadata": {
  "kernelspec": {
   "display_name": "Python 2",
   "language": "python",
   "name": "python2"
  },
  "language_info": {
   "codemirror_mode": {
    "name": "ipython",
    "version": 2
   },
   "file_extension": ".py",
   "mimetype": "text/x-python",
   "name": "python",
   "nbconvert_exporter": "python",
   "pygments_lexer": "ipython2",
   "version": "2.7.13"
  }
 },
 "nbformat": 4,
 "nbformat_minor": 0
}
