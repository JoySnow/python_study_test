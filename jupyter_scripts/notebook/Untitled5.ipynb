{
 "cells": [
  {
   "cell_type": "code",
   "execution_count": 45,
   "metadata": {
    "collapsed": false
   },
   "outputs": [
    {
     "name": "stdout",
     "output_type": "stream",
     "text": [
      "{'/': {'redhat': ['redhat.*', '.*', '.*'], 'guest': ['.*', '.*', '.*'], 'redhat1': ['redhat.*', '.*', '.*']}, 'test_vhost': ''}\n"
     ]
    }
   ],
   "source": [
    "         perm =  {\n",
    "            '/': {\n",
    "                'redhat1': ['redhat.*', '.*', '.*'],\n",
    "                'guest': ['.*', '.*', '.*'],\n",
    "                'redhat':['redhat.*', '.*', '.*']},\n",
    "            'test_vhost': ''}\n",
    "print perm"
   ]
  },
  {
   "cell_type": "code",
   "execution_count": 46,
   "metadata": {
    "collapsed": false
   },
   "outputs": [
    {
     "name": "stdout",
     "output_type": "stream",
     "text": [
      "{'/': {'redhat': ['redhat.*', '.*', '.*'], 'redhat1': ['redhat.*', '.*', '.*']}, 'test_vhost': ''}\n"
     ]
    }
   ],
   "source": [
    "if perm.get('/').get('guest'):\n",
    "    perm['/'].pop('guest') \n",
    "    \n",
    "print perm"
   ]
  },
  {
   "cell_type": "code",
   "execution_count": 43,
   "metadata": {
    "collapsed": false
   },
   "outputs": [
    {
     "name": "stdout",
     "output_type": "stream",
     "text": [
      "{'/': {'redhat': ['redhat.*', '.*', '.*'], 'redhat1': ['redhat.*', '.*', '.*']}, 'test_vhost': ''}\n"
     ]
    }
   ],
   "source": [
    "perm['/'].pop('guest') if perm.get('/').get('guest') else None\n",
    "    \n",
    "    \n",
    "print perm"
   ]
  },
  {
   "cell_type": "code",
   "execution_count": 40,
   "metadata": {
    "collapsed": false
   },
   "outputs": [
    {
     "ename": "SyntaxError",
     "evalue": "invalid syntax (<ipython-input-40-232d0d8f7302>, line 1)",
     "output_type": "error",
     "traceback": [
      "\u001b[0;36m  File \u001b[0;32m\"<ipython-input-40-232d0d8f7302>\"\u001b[0;36m, line \u001b[0;32m1\u001b[0m\n\u001b[0;31m    del perm.get('/').get('guest') (if perm.get('/').get('guest') else None)\u001b[0m\n\u001b[0m                                     ^\u001b[0m\n\u001b[0;31mSyntaxError\u001b[0m\u001b[0;31m:\u001b[0m invalid syntax\n"
     ]
    }
   ],
   "source": [
    "del perm.get('/').get('guest') (if perm.get('/').get('guest') else None)"
   ]
  },
  {
   "cell_type": "code",
   "execution_count": 49,
   "metadata": {
    "collapsed": false
   },
   "outputs": [
    {
     "name": "stdout",
     "output_type": "stream",
     "text": [
      "{}\n"
     ]
    }
   ],
   "source": [
    "a = {}\n",
    "a.get('ha', {})\n",
    "print a"
   ]
  },
  {
   "cell_type": "code",
   "execution_count": 50,
   "metadata": {
    "collapsed": false
   },
   "outputs": [
    {
     "name": "stdout",
     "output_type": "stream",
     "text": [
      "fa\n"
     ]
    }
   ],
   "source": [
    "fd = {}\n",
    "\n",
    "\n",
    "print \"tr\" if fd else \"fa\""
   ]
  },
  {
   "cell_type": "code",
   "execution_count": null,
   "metadata": {
    "collapsed": true
   },
   "outputs": [],
   "source": []
  }
 ],
 "metadata": {
  "kernelspec": {
   "display_name": "Python 2",
   "language": "python",
   "name": "python2"
  },
  "language_info": {
   "codemirror_mode": {
    "name": "ipython",
    "version": 2
   },
   "file_extension": ".py",
   "mimetype": "text/x-python",
   "name": "python",
   "nbconvert_exporter": "python",
   "pygments_lexer": "ipython2",
   "version": "2.7.12"
  }
 },
 "nbformat": 4,
 "nbformat_minor": 0
}
