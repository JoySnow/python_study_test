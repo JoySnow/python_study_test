{
 "cells": [
  {
   "cell_type": "code",
   "execution_count": 18,
   "metadata": {
    "collapsed": false
   },
   "outputs": [
    {
     "name": "stdout",
     "output_type": "stream",
     "text": [
      "2\n",
      "4\n",
      "6\n",
      "8\n",
      "10\n",
      "******************************* cut line ***************************************\n",
      "0\n",
      "1\n",
      "2\n",
      "3\n",
      "******************************* cut line ***************************************\n",
      "0\n",
      "1\n",
      "2\n",
      "3\n",
      "4\n",
      "5  hehe~\n"
     ]
    }
   ],
   "source": [
    "#while\n",
    "cnt = 0\n",
    "while( cnt < 10 ):\n",
    "    cnt += 1\n",
    "    if cnt%2 > 0:\n",
    "        continue\n",
    "    print cnt\n",
    "\n",
    "print '******************************* cut line ***************************************'\n",
    "\n",
    "i = 0\n",
    "while 1:\n",
    "    print i\n",
    "    i += 1\n",
    "    if i > 3:\n",
    "        break\n",
    "\n",
    "print '******************************* cut line ***************************************'\n",
    "\n",
    "# loops with else\n",
    "cnt = 0\n",
    "while cnt < 5:\n",
    "    print cnt\n",
    "    cnt += 1\n",
    "else:\n",
    "    pass # no use\n",
    "    print cnt, ' hehe~'"
   ]
  },
  {
   "cell_type": "code",
   "execution_count": 17,
   "metadata": {
    "collapsed": false
   },
   "outputs": [
    {
     "name": "stdout",
     "output_type": "stream",
     "text": [
      "this is :  p\n",
      "this is :  y\n",
      "this is :  t\n",
      "this is :  h\n",
      "this is :  o\n",
      "this is :  n\n",
      "banner\n",
      "apple\n",
      "mango\n",
      "3\n",
      "[0, 1, 2]\n",
      "banner\n",
      "apple\n",
      "mango\n",
      "10 = 2 * 5\n",
      "11 is a prime number\n",
      "12 = 2 * 6\n",
      "13 is a prime number\n",
      "14 = 2 * 7\n",
      "15 = 3 * 5\n",
      "16 = 2 * 8\n",
      "17 is a prime number\n",
      "18 = 2 * 9\n",
      "19 is a prime number\n"
     ]
    }
   ],
   "source": [
    "#for\n",
    "\n",
    "for letter in 'python':\n",
    "    print 'this is : ', letter\n",
    "\n",
    "fruits = ['banner', 'apple', 'mango']\n",
    "for fruit in fruits:\n",
    "    print fruit\n",
    "    \n",
    "print len(fruits)\n",
    "print range(3) \n",
    "for index in range( len(fruits) ) :\n",
    "    print fruits[index]\n",
    "    \n",
    "# for with else\n",
    "for num in range( 10, 20 ) :\n",
    "    for i in range( 2, num ) :\n",
    "        if num%i == 0 :\n",
    "            j = num/i\n",
    "            print '%d = %d * %d' % ( num, i, j )\n",
    "            break\n",
    "    else:\n",
    "        print num, 'is a prime number'"
   ]
  },
  {
   "cell_type": "code",
   "execution_count": 1,
   "metadata": {
    "collapsed": true
   },
   "outputs": [],
   "source": [
    "# pass : same as nop"
   ]
  },
  {
   "cell_type": "code",
   "execution_count": null,
   "metadata": {
    "collapsed": true
   },
   "outputs": [],
   "source": []
  },
  {
   "cell_type": "code",
   "execution_count": 9,
   "metadata": {
    "collapsed": false
   },
   "outputs": [
    {
     "name": "stdout",
     "output_type": "stream",
     "text": [
      "[0, 1, 2, 3, 4, 5, 6, 7, 8, 9]\n",
      "<type 'list'>\n",
      "<generator object <genexpr> at 0x7f9dba22edc0>\n",
      "0\n",
      "1\n",
      "0\n",
      "1\n",
      "0\n",
      "1\n",
      "0\n",
      "1\n",
      "0\n",
      "1\n",
      "False\n"
     ]
    }
   ],
   "source": [
    "numl = list(xrange(0, 10))\n",
    "print numl\n",
    "print type(numl)\n",
    "\n",
    "result1 = (i%2 for i in numl)\n",
    "    \n",
    "print result1\n",
    "for i in result1:\n",
    "    print i\n",
    "\n",
    "print any(result1)"
   ]
  },
  {
   "cell_type": "code",
   "execution_count": 14,
   "metadata": {
    "collapsed": false
   },
   "outputs": [
    {
     "ename": "SyntaxError",
     "evalue": "invalid syntax (<ipython-input-14-326735582955>, line 7)",
     "output_type": "error",
     "traceback": [
      "\u001b[0;36m  File \u001b[0;32m\"<ipython-input-14-326735582955>\"\u001b[0;36m, line \u001b[0;32m7\u001b[0m\n\u001b[0;31m    result1 = (True if i%2 for i in numl)\u001b[0m\n\u001b[0m                             ^\u001b[0m\n\u001b[0;31mSyntaxError\u001b[0m\u001b[0;31m:\u001b[0m invalid syntax\n"
     ]
    }
   ],
   "source": [
    "numl = list(xrange(0, 10))\n",
    "#snapshots\n",
    "#vm = {}\n",
    "print numl\n",
    "print type(numl)\n",
    "\n",
    "result1 = (True if i%2 for i in numl)\n",
    "    \n",
    "print result1\n",
    "for i in result1:\n",
    "    print i\n",
    "\n",
    "print any(result1)"
   ]
  },
  {
   "cell_type": "code",
   "execution_count": null,
   "metadata": {
    "collapsed": true
   },
   "outputs": [],
   "source": []
  }
 ],
 "metadata": {
  "kernelspec": {
   "display_name": "Python 2",
   "language": "python",
   "name": "python2"
  },
  "language_info": {
   "codemirror_mode": {
    "name": "ipython",
    "version": 2
   },
   "file_extension": ".py",
   "mimetype": "text/x-python",
   "name": "python",
   "nbconvert_exporter": "python",
   "pygments_lexer": "ipython2",
   "version": "2.7.12"
  }
 },
 "nbformat": 4,
 "nbformat_minor": 0
}
