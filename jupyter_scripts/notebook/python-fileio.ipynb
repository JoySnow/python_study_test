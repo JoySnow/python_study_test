{
 "cells": [
  {
   "cell_type": "code",
   "execution_count": 1,
   "metadata": {
    "collapsed": true
   },
   "outputs": [],
   "source": [
    "# file-io"
   ]
  },
  {
   "cell_type": "code",
   "execution_count": 2,
   "metadata": {
    "collapsed": false
   },
   "outputs": [
    {
     "name": "stdout",
     "output_type": "stream",
     "text": [
      "ncdjwihvfiuev\n",
      "ncdjwihvfiuev\n"
     ]
    }
   ],
   "source": [
    "print raw_input()"
   ]
  },
  {
   "cell_type": "code",
   "execution_count": 9,
   "metadata": {
    "collapsed": false
   },
   "outputs": [
    {
     "name": "stdout",
     "output_type": "stream",
     "text": [
      "2001*200\n",
      "200\n"
     ]
    }
   ],
   "source": [
    "a = 1\n",
    "b = 200\n",
    "print input( a*b )"
   ]
  },
  {
   "cell_type": "code",
   "execution_count": 11,
   "metadata": {
    "collapsed": false
   },
   "outputs": [
    {
     "name": "stdout",
     "output_type": "stream",
     "text": [
      "Name of the file:  foo.txt\n",
      "Closed or not :  False\n",
      "Opening mode :  wb\n",
      "Softspace flag :  0\n"
     ]
    }
   ],
   "source": [
    "fo = open(\"foo.txt\", \"wb\")\n",
    "print \"Name of the file: \", fo.name\n",
    "print \"Closed or not : \", fo.closed\n",
    "print \"Opening mode : \", fo.mode\n",
    "print \"Softspace flag : \", fo.softspace\n",
    "\n",
    "fo.close()"
   ]
  },
  {
   "cell_type": "code",
   "execution_count": 16,
   "metadata": {
    "collapsed": false
   },
   "outputs": [
    {
     "name": "stdout",
     "output_type": "stream",
     "text": [
      "Read String is :  Python is \n",
      "Current file position :  10\n",
      "Again read String is :  Python is \n"
     ]
    }
   ],
   "source": [
    "fo = open(\"/tmp/foo.txt\", \"wb\")\n",
    "fo.write( \"Python is a great language.\\nYeah its great!!\\n\");\n",
    "fo.close()\n",
    "\n",
    "\n",
    "fo = open(\"/tmp/foo.txt\", \"r+\")\n",
    "str = fo.read(10)\n",
    "print \"Read String is : \", str\n",
    "\n",
    "position = fo.tell();\n",
    "print \"Current file position : \", position\n",
    " \n",
    "position = fo.seek(0, 0);\n",
    "str = fo.read(10);\n",
    "print \"Again read String is : \", str\n",
    "\n",
    "fo.close()"
   ]
  },
  {
   "cell_type": "code",
   "execution_count": 17,
   "metadata": {
    "collapsed": false
   },
   "outputs": [
    {
     "ename": "SyntaxError",
     "evalue": "invalid syntax (<ipython-input-17-b1e0d6bbdb63>, line 1)",
     "output_type": "error",
     "traceback": [
      "\u001b[1;36m  File \u001b[1;32m\"<ipython-input-17-b1e0d6bbdb63>\"\u001b[1;36m, line \u001b[1;32m1\u001b[0m\n\u001b[1;33m    ********************************\u001b[0m\n\u001b[1;37m     ^\u001b[0m\n\u001b[1;31mSyntaxError\u001b[0m\u001b[1;31m:\u001b[0m invalid syntax\n"
     ]
    }
   ],
   "source": [
    "********************************\n",
    "seek（ offset, from ）:\n",
    "    \n",
    "offset is offset;\n",
    "from can be 0: head\n",
    "            1: the current position \n",
    "            2: end"
   ]
  },
  {
   "cell_type": "code",
   "execution_count": 18,
   "metadata": {
    "collapsed": false
   },
   "outputs": [
    {
     "ename": "NameError",
     "evalue": "name 'current_file_name' is not defined",
     "output_type": "error",
     "traceback": [
      "\u001b[1;31m---------------------------------------------------------------------------\u001b[0m",
      "\u001b[1;31mNameError\u001b[0m                                 Traceback (most recent call last)",
      "\u001b[1;32m<ipython-input-18-7ead5473f671>\u001b[0m in \u001b[0;36m<module>\u001b[1;34m()\u001b[0m\n\u001b[0;32m      1\u001b[0m \u001b[1;32mimport\u001b[0m \u001b[0mos\u001b[0m\u001b[1;33m\u001b[0m\u001b[0m\n\u001b[0;32m      2\u001b[0m \u001b[1;33m\u001b[0m\u001b[0m\n\u001b[1;32m----> 3\u001b[1;33m \u001b[0mos\u001b[0m\u001b[1;33m.\u001b[0m\u001b[0mrename\u001b[0m\u001b[1;33m(\u001b[0m \u001b[0mcurrent_file_name\u001b[0m\u001b[1;33m,\u001b[0m \u001b[0mnew_file_name\u001b[0m \u001b[1;33m)\u001b[0m\u001b[1;33m\u001b[0m\u001b[0m\n\u001b[0m\u001b[0;32m      4\u001b[0m \u001b[0mos\u001b[0m\u001b[1;33m.\u001b[0m\u001b[0mremove\u001b[0m\u001b[1;33m(\u001b[0m \u001b[0mfile_name\u001b[0m \u001b[1;33m)\u001b[0m\u001b[1;33m\u001b[0m\u001b[0m\n\u001b[0;32m      5\u001b[0m \u001b[1;33m\u001b[0m\u001b[0m\n",
      "\u001b[1;31mNameError\u001b[0m: name 'current_file_name' is not defined"
     ]
    }
   ],
   "source": [
    "import os\n",
    "\n",
    "os.rename( current_file_name, new_file_name )\n",
    "os.remove( file_name )\n",
    "\n",
    "os.getcwd()\n",
    "os.chdir()\n",
    "\n",
    "os.mkdir()\n",
    "os.rmdir()"
   ]
  },
  {
   "cell_type": "code",
   "execution_count": 19,
   "metadata": {
    "collapsed": false
   },
   "outputs": [
    {
     "name": "stdout",
     "output_type": "stream",
     "text": [
      "Written content in the file successfully\n"
     ]
    }
   ],
   "source": [
    "try:\n",
    "    fh = open(\"testfile\", \"w\")\n",
    "    fh.write(\"This is my test file for exception handling!!\")\n",
    "except IOError:\n",
    "    print \"Error: can\\'t find file or read data\"\n",
    "else:\n",
    "    print \"Written content in the file successfully\"\n",
    "    fh.close()"
   ]
  },
  {
   "cell_type": "code",
   "execution_count": null,
   "metadata": {
    "collapsed": true
   },
   "outputs": [],
   "source": []
  },
  {
   "cell_type": "code",
   "execution_count": 6,
   "metadata": {
    "collapsed": false
   },
   "outputs": [
    {
     "name": "stdout",
     "output_type": "stream",
     "text": [
      "2215701,2219091,2497621,2167171,2644511,2599651,1602623,968883,1614073,224733,159831,1529133,81123,1599813,54453,2746071,2064603,756453,1598733,1529743,2604791,2427191,2213591,2787151,2208411,15575,905823,2082663,2374351,1465753,2329361,2025263,1594113\n",
      "Read String is :  \n"
     ]
    }
   ],
   "source": [
    "fo = open(\"/tmp/osp-egrep-num\", \"r+\")\n",
    "\n",
    "\n",
    "res = \",\".join( [line.strip() for line in fo.readlines()])\n",
    "print res\n",
    "\n",
    "\n",
    "fo.close()"
   ]
  },
  {
   "cell_type": "code",
   "execution_count": 11,
   "metadata": {
    "collapsed": true
   },
   "outputs": [
    {
     "name": "stdout",
     "output_type": "stream",
     "text": [
      "rhev_blank_portal.py   901573\n",
      "\n",
      "rhev_block_storage_domain_fail.py   2204741\n",
      "\n",
      "rhev_cluster_compatibility_check.py   413663\n",
      "\n",
      "rhev_datadomain_lv.py   441203\n",
      "\n",
      "rhev_engine_vmsstatisticsfether_log.py   2532251\n",
      "\n",
      "rhev_fence_fail.py   1450473\n",
      "\n",
      "rhev_he_fail_after_hypervisor_reboot.py   2174821\n",
      "\n",
      "rhev_hosted_engine_boot_failed.py   130843\n",
      "\n",
      "rhev_host_firewalld_running.py   2683861\n",
      "\n",
      "rhev_host_net_persistence_regression.py   1485293\n",
      "\n",
      "rhev_live_migration_timeout.py   870113\n",
      "\n",
      "rhev_lro_on.py   2168261\n",
      "\n",
      "rhev_lro_on.py   2064573\n",
      "\n",
      "rhev_manager_hypervisor_versions.py   463903\n",
      "\n",
      "rhev_selinux_inconsistent.py   745913\n",
      "\n",
      "rhev_slow_ui.py   2639361\n",
      "\n",
      "rhev_vdsm_high.py   2116711\n",
      "\n",
      "rhev_vm_brain_split.py   2356491\n",
      "\n",
      "rhev_vm_dupli_virtio_serial0_dev.py   2208941\n",
      "\n",
      "rhev_vm_live_migration_path_prep.py   432953\n",
      "\n",
      "rhev_vm_live_migration_path_prep.py   432953\n",
      "\n",
      "rhev_vm_migrate_fail_cpu_profile.py   2695421\n",
      "\n",
      "rhev_vm_no_space.py   130843\n",
      "\n",
      "{}\n"
     ]
    }
   ],
   "source": [
    "fo = open(\"/tmp/rhev-egrep\", \"r+\")\n",
    "\n",
    "res = {}\n",
    "for line in fo.readlines():\n",
    "    #print line\n",
    "    a = line.split(\"/\")\n",
    "    name = a[1].split(\":\")[0]\n",
    "    num = a[5]\n",
    "    print name, ' ', num\n",
    "\n",
    "#res = \",\".join( [line.strip() for line in fo.readlines()])\n",
    "print res\n",
    "\n",
    "\n",
    "fo.close()"
   ]
  },
  {
   "cell_type": "code",
   "execution_count": 20,
   "metadata": {
    "collapsed": true
   },
   "outputs": [
    {
     "name": "stdout",
     "output_type": "stream",
     "text": [
      "PLUGIN_NAME = ceilometer_time_to_live.py   2215701\n",
      "\n",
      "PLUGIN_NAME = ceilometer_time_to_live.py   2219091\n",
      "\n",
      "PLUGIN_NAME = ceilometer_time_to_live.py   2497621\n",
      "\n",
      "PLUGIN_NAME = ceilometer_time_to_live.py   ERROR_KEY_7 = \"CEILOMETER_TIME_TO_LIVE\"\n",
      "\n",
      "PLUGIN_NAME = ceilometer_time_to_live.py   ERROR_KEY_8 = \"CEILOMETER_DATABASE_SIZE_LARGE\"\n",
      "\n",
      "PLUGIN_NAME = check_keystone_identity_backend_driver.py   2167171\n",
      "\n",
      "PLUGIN_NAME = check_keystone_identity_backend_driver.py   ERROR_KEY = \"UNSUPPORTED_KEYSTONE_IDENTITY_BACKEND_DRIVER\"\n",
      "\n",
      "PLUGIN_NAME = cinder_clone_fail_with_netapp_nfs.py   2644511\n",
      "\n",
      "PLUGIN_NAME = cinder_clone_fail_with_netapp_nfs.py   ERROR_KEY = \"CINDER_CLONE_FAIL_WITH_NETAPP_NFS\"\n",
      "\n",
      "PLUGIN_NAME = cinder_clone_fail_with_netapp_nfs.py   ERROR_KEY_SYMPTOM = \"CINDER_CLONE_FAIL_WITH_NETAPP_NFS_SYMPTOM\"\n",
      "\n",
      "PLUGIN_NAME = cinder_volume_file_limit.py   2599651\n",
      "\n",
      "PLUGIN_NAME = cinder_volume_file_limit.py   ERROR_KEY = \"CINDER_VOLUME_INCREASE_OPEN_FILE_LIMIT\"\n",
      "\n",
      "PLUGIN_NAME = corosync_enable_rt_schedule.py   1602623\n",
      "\n",
      "PLUGIN_NAME = corosync_enable_rt_schedule.py   ERROR_KEY = \"COROSYNC_NOT_ENABLE_RT\"\n",
      "\n",
      "PLUGIN_NAME = cronjob_to_clear_expired_keystone_tokens.py   968883\n",
      "\n",
      "PLUGIN_NAME = cronjob_to_clear_expired_keystone_tokens.py   ERROR_KEY = \"NO_CRONJOB_TO_CLEAR_EXPIRED_KEYSTONE_TOKENS\"\n",
      "\n",
      "PLUGIN_NAME = cronjob_to_clear_heat_raw_templates.py   ERROR_KEY = \"NO_CRONJOB_TO_CLEAR_HEAT_RAW_TEMPLATES\"\n",
      "\n",
      "PLUGIN_NAME = expand_maximum_resources_per_stack.py   1614073\n",
      "\n",
      "PLUGIN_NAME = expand_maximum_resources_per_stack.py   ERROR_KEY = \"EXPAND_MAXIMUM_RESOURCES_PER_STACK\"\n",
      "\n",
      "PLUGIN_NAME = ha_lvm_relocate_issue.py   224733\n",
      "\n",
      "PLUGIN_NAME = ha_lvm_relocate_issue.py   ERROR_KEY = \"HA_LVM_RELOCATE_ISSUE\"\n",
      "\n",
      "PLUGIN_NAME = ha_node_fenced_issue.py   159831\n",
      "\n",
      "PLUGIN_NAME = ha_node_fenced_issue.py   1529133\n",
      "\n",
      "PLUGIN_NAME = ha_node_fenced_issue.py   81123\n",
      "\n",
      "PLUGIN_NAME = ha_node_fenced_issue.py   ERROR_KEY_DHCP = \"HA_FENCED_DHCP_ISSUE\"\n",
      "\n",
      "PLUGIN_NAME = ha_node_fenced_issue.py   ERROR_KEY_NOIPMAPPING = \"HA_FENCED_NO_IPMAPPING\"\n",
      "\n",
      "PLUGIN_NAME = haproxy_recommended_options.py   1599813\n",
      "\n",
      "PLUGIN_NAME = haproxy_recommended_options.py   ERROR_KEY = \"HAPROXY_RECOMMEND_OPTIONS\"\n",
      "\n",
      "PLUGIN_NAME = hp_fence_ipmilan_failure.py   54453\n",
      "\n",
      "PLUGIN_NAME = hp_fence_ipmilan_failure.py   ERROR_KEY = \"FENCE_IPMILAN_CONFIG_4_ILO\"\n",
      "\n",
      "PLUGIN_NAME = neutron_lose_conn_by_fail_mode.py   2746071\n",
      "\n",
      "PLUGIN_NAME = neutron_lose_conn_by_fail_mode.py   ERROR_KEY = \"OSP_NEUTRON_FAIL_MODE_BUG\"\n",
      "\n",
      "PLUGIN_NAME = neutron_tenant_vlan_limit.py   ERROR_KEY = 'NEUTRON_VLAN_4094_LIMIT'\n",
      "\n",
      "PLUGIN_NAME = neutron_vxlan_gre_range.py   2064603\n",
      "\n",
      "PLUGIN_NAME = neutron_vxlan_gre_range.py   756453\n",
      "\n",
      "PLUGIN_NAME = neutron_vxlan_gre_range.py   ERROR_KEY = 'NEUTRON_VXLAN_GRE_RANGE'\n",
      "\n",
      "PLUGIN_NAME = neutron_vxlan_gre_range.py   ERROR_KEY_1 = 'NEUTRON_VXLAN_GRE_RANGE_ERROR'\n",
      "\n",
      "PLUGIN_NAME = nova_noop_firewall_driver_check.py   1598733\n",
      "\n",
      "PLUGIN_NAME = nova_noop_firewall_driver_check.py   1529743\n",
      "\n",
      "PLUGIN_NAME = nova_noop_firewall_driver_check.py   ERROR_KEY = \"NOVA_NOOPFIREWALLDRIVER_NO_SETTING\"\n",
      "\n",
      "PLUGIN_NAME = osp7_oslo_messaging_bug.py   2604791\n",
      "\n",
      "PLUGIN_NAME = osp7_oslo_messaging_bug.py   ERROR_KEY = \"PYTHON-OSLO-MESSAGING_BUG\"\n",
      "\n",
      "PLUGIN_NAME = osp7_oslo_messaging_bug.py   ERROR_KEY_HOLD_CONNECTIONS = \"OSLO_MESSAGING_HOLD_CONNECTIONS_BUG\"\n",
      "\n",
      "PLUGIN_NAME = osp7_undercloud_sync_power_issue.py   2427191\n",
      "\n",
      "PLUGIN_NAME = osp7_undercloud_sync_power_issue.py   ERROR_KEY = \"NOVA_SYNC_POWER_STATE\"\n",
      "\n",
      "PLUGIN_NAME = osp_cinder_backend_host.py   2213591\n",
      "\n",
      "PLUGIN_NAME = osp_cinder_backend_host.py   ERROR_KEY = \"OSP_CINDER_BACKEND_HOST\"\n",
      "\n",
      "PLUGIN_NAME = osp_cpu_overcommit.py   ERROR_KEY = 'OSP_CPU_OVERCOMMIT'\n",
      "\n",
      "PLUGIN_NAME = osp_director_high_memory_by_heat.py   2787151\n",
      "\n",
      "PLUGIN_NAME = osp_director_high_memory_by_heat.py   ERROR_KEY = \"OSP_HEAT_ENGINE_HIGH_MEMORY\"\n",
      "\n",
      "PLUGIN_NAME = osp_ntp_check.py   2208411\n",
      "\n",
      "PLUGIN_NAME = osp_ntp_check.py   ERROR_KEY = \"OSP_NTP_ISSUE\"\n",
      "\n",
      "PLUGIN_NAME = pacemaker_check_fence_device.py   15575\n",
      "\n",
      "PLUGIN_NAME = pacemaker_check_fence_device.py   ERROR_KEY = \"PACEMAKER_NO_FENCE_DEVICE\"\n",
      "\n",
      "PLUGIN_NAME = pacemaker_corosync_service_status.py   905823\n",
      "\n",
      "PLUGIN_NAME = pacemaker_corosync_service_status.py   ERROR_KEY = \"PACEMAKER_COROSYNC_SERVICE_STATUS_CONFILCT\"\n",
      "\n",
      "PLUGIN_NAME = pacemaker_multipath_fs_lvm.py   2082663\n",
      "\n",
      "PLUGIN_NAME = pacemaker_multipath_fs_lvm.py   ERROR_KEY = \"PACEMAKER_MULTIPATH_IO_QUEUE\"\n",
      "\n",
      "PLUGIN_NAME = pcs_systemd.py   ERROR_KEY = 'PACEMAKER_SYSTEMD_BUG'\n",
      "\n",
      "PLUGIN_NAME = rabbitmq_cluster_new_users.py   2374351\n",
      "\n",
      "PLUGIN_NAME = rabbitmq_cluster_new_users.py   ERROR_KEY = \"RABBITMQ_CLUSTER_NEW_USERS\"\n",
      "\n",
      "PLUGIN_NAME = rabbitmq_file_limit.py   1465753\n",
      "\n",
      "PLUGIN_NAME = rabbitmq_file_limit.py   ERROR_KEY = \"RABBITMQ_FILE_DESCRIPTOR_LIMIT\"\n",
      "\n",
      "PLUGIN_NAME = rabbitmq_file_limit.py   ERROR_KEY_SYMPTOM = \"RABBITMQ_FILE_DESCRIPTOR_LIMIT_SYMPTOM\"\n",
      "\n",
      "PLUGIN_NAME = rabbitmq_huge_startup_log.py   2329361\n",
      "\n",
      "PLUGIN_NAME = rabbitmq_huge_startup_log.py   ERROR_KEY = \"RABBITMQ_HUGE_STARTUP_LOG\"\n",
      "\n",
      "PLUGIN_NAME = rabbitmq_queue_size.py   2025263\n",
      "\n",
      "PLUGIN_NAME = rabbitmq_queue_size.py   ERROR_KEY = 'RABBITMQ_MSG_THRESHOLD'\n",
      "\n",
      "PLUGIN_NAME = tune_haproxy_openstack.py   1594113\n",
      "\n",
      "PLUGIN_NAME = tune_haproxy_openstack.py   ERROR_KEY = 'TUNE_HAPROXY_OPENSTACK'\n",
      "\n",
      "{}\n"
     ]
    }
   ],
   "source": [
    "fo = open(\"/tmp/osp-egrep-3-sol-errkey\", \"r+\")\n",
    "\n",
    "res = {}\n",
    "for line in fo.readlines():\n",
    "    #print line\n",
    "    if \"ERROR_KEY\" in line:\n",
    "        a = line.split(\"/\")\n",
    "        name = a[1].split(\":\")[0]\n",
    "        key = a[1].split(\":\")[2]\n",
    "        print \"PLUGIN_NAME =\", name, ' ', key\n",
    "    else:\n",
    "        a = line.split(\"/\")\n",
    "        name = a[1].split(\":\")[0]\n",
    "        num = a[5]\n",
    "        print \"PLUGIN_NAME =\", name, ' ', num\n",
    "\n",
    "#res = \",\".join( [line.strip() for line in fo.readlines()])\n",
    "print res\n",
    "\n",
    "\n",
    "fo.close()"
   ]
  },
  {
   "cell_type": "code",
   "execution_count": 2,
   "metadata": {
    "collapsed": false
   },
   "outputs": [
    {
     "name": "stdout",
     "output_type": "stream",
     "text": [
      "dev.cdrom.info = \n",
      "\n",
      "dev.cdrom.info = \n",
      "\n",
      "dev.cdrom.info = \n",
      "\n",
      "net.ipv4.ip_local_reserved_ports = \n",
      "\n",
      "{}\n"
     ]
    }
   ],
   "source": [
    "fo = open(\"/tmp/sysctl\", \"r\")\n",
    "\n",
    "res = {}\n",
    "for line in fo.readlines():\n",
    "    #print line\n",
    "    k, v = line.split('=', 1)\n",
    "    k, v = k.strip(), v.strip()\n",
    "    if not v:\n",
    "        print line\n",
    "#     if \"ERROR_KEY\" in line:\n",
    "#         a = line.split(\"/\")\n",
    "#         name = a[1].split(\":\")[0]\n",
    "#         key = a[1].split(\":\")[2]\n",
    "#         print \"PLUGIN_NAME =\", name, ' ', key\n",
    "#     else:\n",
    "#         a = line.split(\"/\")\n",
    "#         name = a[1].split(\":\")[0]\n",
    "#         num = a[5]\n",
    "#         print \"PLUGIN_NAME =\", name, ' ', num\n",
    "\n",
    "#res = \",\".join( [line.strip() for line in fo.readlines()])\n",
    "print res\n",
    "\n",
    "\n",
    "fo.close()"
   ]
  },
  {
   "cell_type": "code",
   "execution_count": null,
   "metadata": {
    "collapsed": true
   },
   "outputs": [],
   "source": []
  }
 ],
 "metadata": {
  "kernelspec": {
   "display_name": "Python 2",
   "language": "python",
   "name": "python2"
  },
  "language_info": {
   "codemirror_mode": {
    "name": "ipython",
    "version": 2
   },
   "file_extension": ".py",
   "mimetype": "text/x-python",
   "name": "python",
   "nbconvert_exporter": "python",
   "pygments_lexer": "ipython2",
   "version": "2.7.13"
  }
 },
 "nbformat": 4,
 "nbformat_minor": 0
}
