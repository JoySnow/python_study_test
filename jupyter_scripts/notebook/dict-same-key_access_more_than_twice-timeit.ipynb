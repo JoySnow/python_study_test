{
 "cells": [
  {
   "cell_type": "code",
   "execution_count": 1,
   "metadata": {
    "collapsed": true
   },
   "outputs": [],
   "source": [
    "# https://docs.python.org/2/library/timeit.html"
   ]
  },
  {
   "cell_type": "code",
   "execution_count": 3,
   "metadata": {
    "collapsed": false
   },
   "outputs": [
    {
     "name": "stdout",
     "output_type": "stream",
     "text": [
      "6.94294214249\n"
     ]
    }
   ],
   "source": [
    "# timeit.timeit(stmt='pass', setup='pass', timer=<default timer>, number=1000000)\n",
    "# Create a Timer instance with the given statement, setup code and timer function and run its timeit() method with number executions.\n",
    "\n",
    "# New in version 2.6.\n",
    "\n",
    "\n",
    "\n",
    "def test():\n",
    "    \"\"\"Stupid test function\"\"\"\n",
    "    L = []\n",
    "    for i in range(100):\n",
    "        L.append(i)\n",
    "\n",
    "if __name__ == '__main__':\n",
    "    import timeit\n",
    "    print(timeit.timeit(\"test()\", setup=\"from __main__ import test\"))"
   ]
  },
  {
   "cell_type": "code",
   "execution_count": null,
   "metadata": {
    "collapsed": true
   },
   "outputs": [],
   "source": [
    "\n",
    "# print timeit(stmt='test.test_get_problematic_ifaces_from_ifcfg()',\n",
    "#              setup='from telemetry.rules.tests.rhev import test_rhev_vdsm_restore_net_config_fail as test',\n",
    "#              number=20000)"
   ]
  },
  {
   "cell_type": "code",
   "execution_count": 1,
   "metadata": {
    "collapsed": false
   },
   "outputs": [
    {
     "name": "stdout",
     "output_type": "stream",
     "text": [
      "10000\n",
      "10\n"
     ]
    }
   ],
   "source": [
    "ds = {}\n",
    "for i in xrange(0, 10000):\n",
    "    ds[str(i)] = i*5\n",
    "    \n",
    "print len(ds)\n",
    "print ds['2']"
   ]
  },
  {
   "cell_type": "code",
   "execution_count": 9,
   "metadata": {
    "collapsed": true
   },
   "outputs": [],
   "source": [
    "def foo1(k):\n",
    "    if ds[k]:\n",
    "        v = ds[k]\n",
    "    \n",
    "    \n",
    "def foo2(k):\n",
    "    vv = ds[k]\n",
    "    if vv:\n",
    "        v = vv"
   ]
  },
  {
   "cell_type": "code",
   "execution_count": 31,
   "metadata": {
    "collapsed": false
   },
   "outputs": [
    {
     "name": "stdout",
     "output_type": "stream",
     "text": [
      "0.0143070220947\n",
      "0.00792908668518\n",
      "0.00499796867371\n",
      "0.00290393829346\n"
     ]
    }
   ],
   "source": [
    "if __name__ == '__main__':\n",
    "    import timeit\n",
    "    print(timeit.timeit(\"foo1('2557')\",\n",
    "          setup=\"from __main__ import foo1\",\n",
    "          number=20000))\n",
    "    print(timeit.timeit(\"foo2('7996')\",\n",
    "          setup=\"from __main__ import foo2\",\n",
    "          number=20000))\n",
    "    print(timeit.timeit(\"foo1('2557')\",\n",
    "          setup=\"from __main__ import foo1\",\n",
    "          number=20000))\n",
    "    print(timeit.timeit(\"foo2('7996')\",\n",
    "          setup=\"from __main__ import foo2\",\n",
    "          number=20000))"
   ]
  },
  {
   "cell_type": "code",
   "execution_count": 35,
   "metadata": {
    "collapsed": false
   },
   "outputs": [
    {
     "name": "stdout",
     "output_type": "stream",
     "text": [
      "0.0131628513336\n",
      "0.00693416595459\n",
      "0.00447392463684\n",
      "0.00500893592834\n"
     ]
    }
   ],
   "source": [
    "if __name__ == '__main__':\n",
    "    import timeit\n",
    "    print(timeit.timeit(\"foo2('7996')\",\n",
    "          setup=\"from __main__ import foo2\",\n",
    "          number=20000))\n",
    "    print(timeit.timeit(\"foo1('2557')\",\n",
    "          setup=\"from __main__ import foo1\",\n",
    "          number=20000))\n",
    "    print(timeit.timeit(\"foo2('7996')\",\n",
    "          setup=\"from __main__ import foo2\",\n",
    "          number=20000))\n",
    "    print(timeit.timeit(\"foo1('2557')\",\n",
    "          setup=\"from __main__ import foo1\",\n",
    "          number=20000))"
   ]
  },
  {
   "cell_type": "code",
   "execution_count": null,
   "metadata": {
    "collapsed": true
   },
   "outputs": [],
   "source": []
  },
  {
   "cell_type": "code",
   "execution_count": null,
   "metadata": {
    "collapsed": true
   },
   "outputs": [],
   "source": []
  }
 ],
 "metadata": {
  "kernelspec": {
   "display_name": "Python 2",
   "language": "python",
   "name": "python2"
  },
  "language_info": {
   "codemirror_mode": {
    "name": "ipython",
    "version": 2
   },
   "file_extension": ".py",
   "mimetype": "text/x-python",
   "name": "python",
   "nbconvert_exporter": "python",
   "pygments_lexer": "ipython2",
   "version": "2.7.13"
  }
 },
 "nbformat": 4,
 "nbformat_minor": 0
}
