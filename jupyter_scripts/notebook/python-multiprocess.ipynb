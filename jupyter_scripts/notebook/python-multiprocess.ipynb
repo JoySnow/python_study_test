{
 "cells": [
  {
   "cell_type": "code",
   "execution_count": 3,
   "metadata": {
    "collapsed": false
   },
   "outputs": [
    {
     "name": "stdout",
     "output_type": "stream",
     "text": [
      "Parent process 13796.\n",
      "Run task 1 (13856)...\n",
      "Run task 0 (13855)...\n",
      "Run task 2 (13857)...\n",
      "Run task 3 (13858)...\n",
      "Task 0 runs 0.02 seconds.\n",
      "Run task 4 (13855)...\n",
      "[DONE]one apply_async\n",
      "[DONE]one apply_async\n",
      "[DONE]one apply_async\n",
      "[DONE]one apply_async\n",
      "[DONE]one apply_async\n",
      "Waiting for all subprocesses done...\n",
      "before join\n",
      "Task 2 runs 0.52 seconds.\n",
      "Task 4 runs 0.80 seconds.\n",
      "Task 1 runs 2.93 seconds.\n",
      "Task 3 runs 2.97 seconds.\n",
      "All subprocesses done.\n"
     ]
    }
   ],
   "source": [
    "from multiprocessing import Pool\n",
    "import os, time, random\n",
    "\n",
    "def long_time_task(name):\n",
    "    print('Run task %s (%s)...' % (name, os.getpid()))\n",
    "    start = time.time()\n",
    "    time.sleep(random.random() * 3)\n",
    "    end = time.time()\n",
    "    print('Task %s runs %0.2f seconds.' % (name, (end - start)))\n",
    "\n",
    "if __name__=='__main__':\n",
    "    print('Parent process %s.' % os.getpid())\n",
    "    p = Pool(4)\n",
    "    for i in range(5):\n",
    "        p.apply_async(long_time_task, args=(i,))\n",
    "        print('[DONE]one apply_async')\n",
    "    print('Waiting for all subprocesses done...')\n",
    "    p.close()\n",
    "    print('before join')\n",
    "    p.join()\n",
    "    print('All subprocesses done.')"
   ]
  },
  {
   "cell_type": "code",
   "execution_count": null,
   "metadata": {
    "collapsed": true
   },
   "outputs": [],
   "source": []
  }
 ],
 "metadata": {
  "kernelspec": {
   "display_name": "Python 2",
   "language": "python",
   "name": "python2"
  },
  "language_info": {
   "codemirror_mode": {
    "name": "ipython",
    "version": 2
   },
   "file_extension": ".py",
   "mimetype": "text/x-python",
   "name": "python",
   "nbconvert_exporter": "python",
   "pygments_lexer": "ipython2",
   "version": "2.7.13"
  }
 },
 "nbformat": 4,
 "nbformat_minor": 0
}
