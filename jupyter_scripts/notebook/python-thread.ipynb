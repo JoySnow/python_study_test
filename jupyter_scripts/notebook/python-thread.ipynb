{
 "cells": [
  {
   "cell_type": "code",
   "execution_count": 6,
   "metadata": {
    "collapsed": false
   },
   "outputs": [
    {
     "name": "stdout",
     "output_type": "stream",
     "text": [
      "thread MainThread is running...\n",
      "Before t.start\n",
      "thread LoopThread is running...\n",
      "thread LoopThread >>> 1\n",
      "After t.start, Before t.join\n",
      "After t.start, Before t.join\n",
      "thread LoopThread >>> 2\n",
      "After t.start, Before t.join\n",
      "thread LoopThread >>> 3\n",
      "After t.start, Before t.jointhread LoopThread >>> 4\n",
      "\n",
      "thread LoopThread >>> 5After t.start, Before t.join\n",
      "\n",
      "thread LoopThread ended.\n",
      "thread MainThread ended.\n"
     ]
    }
   ],
   "source": [
    "import time, threading\n",
    "\n",
    "# 新线程执行的代码:\n",
    "def loop():\n",
    "    print('thread %s is running...' % threading.current_thread().name)\n",
    "    n = 0\n",
    "    while n < 5:\n",
    "        n = n + 1\n",
    "        print('thread %s >>> %s' % (threading.current_thread().name, n))\n",
    "        time.sleep(1)\n",
    "    print('thread %s ended.' % threading.current_thread().name)\n",
    "\n",
    "print('thread %s is running...' % threading.current_thread().name)\n",
    "t = threading.Thread(target=loop, name='LoopThread')\n",
    "print('Before t.start')\n",
    "t.start()\n",
    "for i in range(5):\n",
    "    print('After t.start, Before t.join')\n",
    "    time.sleep(1)\n",
    "t.join()\n",
    "print('thread %s ended.' % threading.current_thread().name)"
   ]
  },
  {
   "cell_type": "code",
   "execution_count": null,
   "metadata": {
    "collapsed": true
   },
   "outputs": [],
   "source": [
    "thread MainThread is running...\n",
    "Before t.start\n",
    "thread LoopThread is running...\n",
    "thread LoopThread >>> 1\n",
    "After t.start, Before t.join\n",
    "After t.start, Before t.join\n",
    "After t.start, Before t.join\n",
    "After t.start, Before t.join\n",
    "After t.start, Before t.join\n",
    "thread LoopThread >>> 2\n",
    "thread LoopThread >>> 3\n",
    "thread LoopThread >>> 4\n",
    "thread LoopThread >>> 5\n",
    "thread LoopThread ended.\n",
    "thread MainThread ended."
   ]
  }
 ],
 "metadata": {
  "kernelspec": {
   "display_name": "Python 2",
   "language": "python",
   "name": "python2"
  },
  "language_info": {
   "codemirror_mode": {
    "name": "ipython",
    "version": 2
   },
   "file_extension": ".py",
   "mimetype": "text/x-python",
   "name": "python",
   "nbconvert_exporter": "python",
   "pygments_lexer": "ipython2",
   "version": "2.7.13"
  }
 },
 "nbformat": 4,
 "nbformat_minor": 0
}
