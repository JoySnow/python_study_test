{
 "cells": [
  {
   "cell_type": "code",
   "execution_count": 4,
   "metadata": {
    "collapsed": true
   },
   "outputs": [],
   "source": [
    "class Myclass:\n",
    "    def smeth():\n",
    "        print 'This is static'\n",
    "    #smeth = staticmethod(smeth)\n",
    "        \n",
    "    def cmeth(cls):\n",
    "        print 'This is class'"
   ]
  },
  {
   "cell_type": "code",
   "execution_count": 5,
   "metadata": {
    "collapsed": false
   },
   "outputs": [
    {
     "name": "stdout",
     "output_type": "stream",
     "text": [
      "This is static\n"
     ]
    }
   ],
   "source": [
    "Myclass.smeth()"
   ]
  },
  {
   "cell_type": "code",
   "execution_count": 22,
   "metadata": {
    "collapsed": false
   },
   "outputs": [
    {
     "name": "stdout",
     "output_type": "stream",
     "text": [
      "2\n",
      "2\n",
      "<__main__.Kls object at 0x2214f10>\n",
      "<__main__.Kls object at 0x2214e50>\n",
      "<class '__main__.Kls'>\n"
     ]
    },
    {
     "data": {
      "text/plain": [
       "2"
      ]
     },
     "execution_count": 22,
     "metadata": {},
     "output_type": "execute_result"
    }
   ],
   "source": [
    " \n",
    "def get_no_of_instances(cls_obj):\n",
    "    return cls_obj.no_inst\n",
    "class Kls(object):\n",
    "    no_inst = 0\n",
    "    def __init__(self):\n",
    "        Kls.no_inst = Kls.no_inst + 1\n",
    "ik1 = Kls()\n",
    "ik2 = Kls()\n",
    "print(get_no_of_instances(Kls))\n",
    "print(get_no_of_instances(ik1))\n",
    "print ik1\n",
    "print ik2\n",
    "print Kls\n",
    "get_no_of_instances(ik1)"
   ]
  },
  {
   "cell_type": "code",
   "execution_count": 32,
   "metadata": {
    "collapsed": false
   },
   "outputs": [
    {
     "name": "stdout",
     "output_type": "stream",
     "text": [
      "4\n"
     ]
    }
   ],
   "source": [
    "def iget_no_of_instance(ins_obj):\n",
    "    return ins_obj.__class__.no_inst\n",
    " \n",
    "class Kls(object):\n",
    "    no_inst = 0\n",
    " \n",
    "    def __init__(self):\n",
    "        Kls.no_inst = Kls.no_inst + 1\n",
    " \n",
    "ik1 = Kls()\n",
    "ik2 = Kls()\n",
    "ik1 = Kls()\n",
    "print iget_no_of_instance(Kls())"
   ]
  },
  {
   "cell_type": "code",
   "execution_count": 35,
   "metadata": {
    "collapsed": false
   },
   "outputs": [
    {
     "name": "stdout",
     "output_type": "stream",
     "text": [
      "('Reset done for:', 12)\n",
      "('DB connection made for:', 12)\n"
     ]
    }
   ],
   "source": [
    "IND = 'ON'\n",
    " \n",
    "def checkind():\n",
    "    return (IND == 'ON')\n",
    " \n",
    "class Kls(object):\n",
    "    def __init__(self,data):\n",
    "        self.data = data\n",
    " \n",
    "    def do_reset(self):\n",
    "        if checkind():\n",
    "            print('Reset done for:', self.data)\n",
    " \n",
    "    def set_db(self):\n",
    "        if checkind():\n",
    "            self.db = 'new db connection'\n",
    "            print('DB connection made for:',self.data)\n",
    " \n",
    "ik1 = Kls(12)\n",
    "ik1.do_reset()\n",
    "ik1.set_db()"
   ]
  },
  {
   "cell_type": "code",
   "execution_count": 37,
   "metadata": {
    "collapsed": false
   },
   "outputs": [],
   "source": [
    "class Kls(object):\n",
    "    def __init__(self, data):\n",
    "        self.data = data\n",
    " \n",
    "    def printd(self):\n",
    "        print(self.data)\n",
    " \n",
    "    @staticmethod\n",
    "    def smethod(*arg):\n",
    "        print('Static:', arg)\n",
    " \n",
    "    @classmethod\n",
    "    def cmethod(*arg):\n",
    "        print('Class:', arg)"
   ]
  },
  {
   "cell_type": "code",
   "execution_count": null,
   "metadata": {
    "collapsed": true
   },
   "outputs": [],
   "source": []
  }
 ],
 "metadata": {
  "kernelspec": {
   "display_name": "Python 2",
   "language": "python",
   "name": "python2"
  },
  "language_info": {
   "codemirror_mode": {
    "name": "ipython",
    "version": 2
   },
   "file_extension": ".py",
   "mimetype": "text/x-python",
   "name": "python",
   "nbconvert_exporter": "python",
   "pygments_lexer": "ipython2",
   "version": "2.7.5"
  }
 },
 "nbformat": 4,
 "nbformat_minor": 0
}
