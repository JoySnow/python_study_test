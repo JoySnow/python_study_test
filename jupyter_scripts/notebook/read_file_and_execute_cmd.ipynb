{
 "cells": [
  {
   "cell_type": "code",
   "execution_count": 2,
   "metadata": {
    "collapsed": false
   },
   "outputs": [
    {
     "name": "stdout",
     "output_type": "stream",
     "text": [
      "../pics//storage-basics//fs_structure.gif\" width=\"800\"/> </div><br>\n",
      "\n",
      "storage-basics//fs_structure.gif\n",
      "../pics//storage-basics//sotrage_fs_structure.png\" width=\"800\"/> </div><br>\n",
      "\n",
      "storage-basics//sotrage_fs_structure.png\n",
      "../pics//storage-basics//file-store-structure.png\" width=\"800\"/> </div><br>\n",
      "\n",
      "storage-basics//file-store-structure.png\n",
      "../pics//storage-basics//Device_Mapper_structure_in_kernel.gif\" width=\"800\"/> </div>   \n",
      "\n",
      "storage-basics//Device_Mapper_structure_in_kernel.gif\n",
      "../pics//storage-basics//Device_mapper_object_relation_in_kernel.gif\" width=\"800\"/> </div><br>  \n",
      "\n",
      "storage-basics//Device_mapper_object_relation_in_kernel.gif\n",
      "../pics//storage-basics//Device_mapper_data_structures_relation.gif\" width=\"800\"/> </div><br>  \n",
      "\n",
      "storage-basics//Device_mapper_data_structures_relation.gif\n",
      "../pics//storage-basics//for_example_1.gif\" width=\"800\"/> </div><br>  \n",
      "\n",
      "storage-basics//for_example_1.gif\n",
      "../pics//storage-basics//Active_Passive_Multipath_Configuration_with_Two_RAID_Devices.png\" width=\"800\"/> </div><br>\n",
      "\n",
      "storage-basics//Active_Passive_Multipath_Configuration_with_Two_RAID_Devices.png\n",
      "../pics//storage-basics//scsi_structure_in_kernel.gif\" width=\"800\"/> </div><br>\n",
      "\n",
      "storage-basics//scsi_structure_in_kernel.gif\n",
      "../pics//storage-basics//scsi_level_detail_structure_in_kernel.gif\" /> </div><br>\n",
      "\n",
      "storage-basics//scsi_level_detail_structure_in_kernel.gif\n",
      "../pics//storage-basics//Fibre_Channel_topologies.gif\" width=\"800\"/> </div><br>\n",
      "\n",
      "storage-basics//Fibre_Channel_topologies.gif\n",
      "../pics//storage-basics//Fibre_Channel_structure.gif\" width=\"800\"/> </div><br>\n",
      "\n",
      "storage-basics//Fibre_Channel_structure.gif\n",
      "../pics//storage-basics//FC_optical_link.gif\" width=\"800\"/> </div><br>\n",
      "\n",
      "storage-basics//FC_optical_link.gif\n",
      "[]\n",
      "13\n"
     ]
    }
   ],
   "source": [
    "# get pic_names\n",
    "fo = open(\"/tmp/pics-storage\", \"r\")\n",
    "fns = []\n",
    "bad_lines = []\n",
    "for line in fo.readlines():\n",
    "    print line\n",
    "    fn_raw = line.split('\"')[0].split('../pics//')\n",
    "    if len(fn_raw) == 2:\n",
    "        fn = fn_raw[1]\n",
    "        print fn\n",
    "        fns.append(fn)\n",
    "    else:\n",
    "        bad_lines.append(fn_raw)\n",
    "fo.close()\n",
    "print bad_lines\n",
    "print len(fns)\n",
    "\n"
   ]
  },
  {
   "cell_type": "code",
   "execution_count": 14,
   "metadata": {
    "collapsed": false
   },
   "outputs": [],
   "source": [
    "import os\n",
    "b = \"/home/joy/Git/Interview-Notebook/pics/\"\n",
    "for p in fns:\n",
    "    s = b + p\n",
    "    d = b + 'computer-networking/' + p\n",
    "    cmd = \"cp %s %s\" % (s, d)\n",
    "    os.system(cmd)  "
   ]
  },
  {
   "cell_type": "markdown",
   "metadata": {},
   "source": [
    "### Write to a file with (create a nested directory safely)"
   ]
  },
  {
   "cell_type": "code",
   "execution_count": 5,
   "metadata": {
    "collapsed": false
   },
   "outputs": [
    {
     "name": "stdout",
     "output_type": "stream",
     "text": [
      "False\n"
     ]
    }
   ],
   "source": [
    "# Write to a file with (create a nested directory safely)\n",
    "# https://stackoverflow.com/questions/273192/how-can-i-safely-create-a-nested-directory-in-python\n",
    "\n",
    "import os\n",
    "fpath = \"/tmp/ab/cd/eg/lsm\"\n",
    "\n",
    "\n",
    "content_str = \"TEST write...\"\n",
    "print os.path.exists(fpath)\n",
    "\n",
    "directory = os.path.dirname(fpath)\n",
    "if not os.path.exists(directory):\n",
    "    os.makedirs(directory)\n",
    "    \n",
    "with open(fpath, 'w+') as f:                               \n",
    "    f.write(content_str)\n"
   ]
  },
  {
   "cell_type": "code",
   "execution_count": null,
   "metadata": {
    "collapsed": true
   },
   "outputs": [],
   "source": []
  }
 ],
 "metadata": {
  "kernelspec": {
   "display_name": "Python 2",
   "language": "python",
   "name": "python2"
  },
  "language_info": {
   "codemirror_mode": {
    "name": "ipython",
    "version": 2
   },
   "file_extension": ".py",
   "mimetype": "text/x-python",
   "name": "python",
   "nbconvert_exporter": "python",
   "pygments_lexer": "ipython2",
   "version": "2.7.13"
  }
 },
 "nbformat": 4,
 "nbformat_minor": 0
}
