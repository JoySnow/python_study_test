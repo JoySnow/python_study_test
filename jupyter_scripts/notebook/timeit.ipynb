{
 "cells": [
  {
   "cell_type": "code",
   "execution_count": 1,
   "metadata": {
    "collapsed": true
   },
   "outputs": [],
   "source": [
    "# https://docs.python.org/2/library/timeit.html"
   ]
  },
  {
   "cell_type": "code",
   "execution_count": 3,
   "metadata": {
    "collapsed": false
   },
   "outputs": [
    {
     "name": "stdout",
     "output_type": "stream",
     "text": [
      "6.94294214249\n"
     ]
    }
   ],
   "source": [
    "# timeit.timeit(stmt='pass', setup='pass', timer=<default timer>, number=1000000)\n",
    "# Create a Timer instance with the given statement, setup code and timer function and run its timeit() method with number executions.\n",
    "\n",
    "# New in version 2.6.\n",
    "\n",
    "\n",
    "def test():\n",
    "    \"\"\"Stupid test function\"\"\"\n",
    "    L = []\n",
    "    for i in range(100):\n",
    "        L.append(i)\n",
    "\n",
    "if __name__ == '__main__':\n",
    "    import timeit\n",
    "    print(timeit.timeit(\"test()\", setup=\"from __main__ import test\"))"
   ]
  },
  {
   "cell_type": "code",
   "execution_count": null,
   "metadata": {
    "collapsed": true
   },
   "outputs": [],
   "source": [
    "\n",
    "# print timeit(stmt='test.test_get_problematic_ifaces_from_ifcfg()',\n",
    "#              setup='from telemetry.rules.tests.rhev import test_rhev_vdsm_restore_net_config_fail as test',\n",
    "#              number=20000)"
   ]
  }
 ],
 "metadata": {
  "kernelspec": {
   "display_name": "Python 2",
   "language": "python",
   "name": "python2"
  },
  "language_info": {
   "codemirror_mode": {
    "name": "ipython",
    "version": 2
   },
   "file_extension": ".py",
   "mimetype": "text/x-python",
   "name": "python",
   "nbconvert_exporter": "python",
   "pygments_lexer": "ipython2",
   "version": "2.7.13"
  }
 },
 "nbformat": 4,
 "nbformat_minor": 0
}
