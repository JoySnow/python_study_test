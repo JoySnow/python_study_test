{
 "cells": [
  {
   "cell_type": "code",
   "execution_count": null,
   "metadata": {
    "collapsed": true
   },
   "outputs": [],
   "source": [
    "# strings functions"
   ]
  },
  {
   "cell_type": "code",
   "execution_count": 2,
   "metadata": {
    "collapsed": false
   },
   "outputs": [
    {
     "name": "stdout",
     "output_type": "stream",
     "text": [
      "hello\n",
      "fg\n",
      "ah\n",
      "hellohellohello\n",
      "my string asdfghjkzxcvbnm, and hello python and hello.\n"
     ]
    }
   ],
   "source": [
    "s1 = 'asdfghjkzxcvbnm,'\n",
    "s2 = 'hello python'\n",
    "s3 = s2[0:5]\n",
    "\n",
    "print s3\n",
    "print s1[3:5]\n",
    "print s1[0] + s2[9]\n",
    "print s3 * 3\n",
    "\n",
    "print \"my string %s and %s and %s.\" % ( s1, s2, s3 )\n"
   ]
  },
  {
   "cell_type": "code",
   "execution_count": 3,
   "metadata": {
    "collapsed": false
   },
   "outputs": [
    {
     "name": "stdout",
     "output_type": "stream",
     "text": [
      "<html>\n",
      "balalala~\n",
      "</html>\n"
     ]
    }
   ],
   "source": [
    "s4 = '''<html>\n",
    "balalala~\n",
    "</html>'''\n",
    "\n",
    "print s4\n"
   ]
  },
  {
   "cell_type": "code",
   "execution_count": 7,
   "metadata": {
    "collapsed": false
   },
   "outputs": [
    {
     "name": "stdout",
     "output_type": "stream",
     "text": [
      "hello you\n"
     ]
    }
   ],
   "source": [
    "s5 = u'hello you'\n",
    "print s5"
   ]
  },
  {
   "cell_type": "code",
   "execution_count": 6,
   "metadata": {
    "collapsed": false
   },
   "outputs": [
    {
     "data": {
      "text/plain": [
       "'hello you'"
      ]
     },
     "execution_count": 6,
     "metadata": {},
     "output_type": "execute_result"
    }
   ],
   "source": [
    "'hello you'"
   ]
  },
  {
   "cell_type": "code",
   "execution_count": 28,
   "metadata": {
    "collapsed": false
   },
   "outputs": [
    {
     "name": "stdout",
     "output_type": "stream",
     "text": [
      "As long as you love\tme, baby, who you are~\n",
      "===================as long as you love\tme, baby, who you are~===================\n",
      "2\n",
      "YXMgbG9uZyBhcyB5b3UgbG92ZQltZSwgYmFieSwgd2hvIHlvdSBhcmV+\n",
      "\n",
      "as long as you love\tme, baby, who you are~\n",
      "False\n",
      "False\n",
      "True\n",
      "as long as you love me, baby, who you are~\n",
      "as long as you love             me, baby, who you are~\n",
      "['as', 'long', 'as', 'you', 'love\\tme,', 'baby,', 'who', 'you', 'are~']\n",
      "['as', 'long', 'as you love\\tme, baby, who you are~']\n",
      "hehe long as you love\tme, baby, who you are~\n",
      "as long as you love\tme, baby, who you are~\n",
      "asdfg+++++\n",
      "a-b-asdfg-as long as you love\tme, baby, who you are~\n",
      "as long as you love\tme, baby, who you are~\n",
      "-1\n"
     ]
    }
   ],
   "source": [
    "s6 = 'as long as you love\\tme, baby, who you are~'\n",
    "\n",
    "print s6.capitalize()\n",
    "print s6.center( 80, '=' )\n",
    "print s6.count( 'as', 0, 15 )\n",
    "\n",
    "str = s6.encode( 'base64', 'strict' )\n",
    "print str\n",
    "print str.decode( 'base64', 'strict')\n",
    "\n",
    "print s6.endswith( 'as' )\n",
    "print s6.endswith( 'as', 10 )\n",
    "print s6.endswith( 'as', 0, 10 )\n",
    "\n",
    "print s6.expandtabs( 1 )\n",
    "print s6.expandtabs( 16 )\n",
    "\n",
    "print s6.split( ' ' )\n",
    "print s6.split( ' ', 2 )\n",
    "\n",
    "print s6.replace( 'as', 'hehe', 1 )\n",
    "\n",
    "s7 = 'asdfg'\n",
    "print s6.ljust( 10, '+')\n",
    "print s7.ljust( 10, '+')\n",
    "\n",
    "s8 = '-'\n",
    "seq = ( 'a', 'b', s7, s6 )\n",
    "print s8.join( seq )\n",
    "\n",
    "print s6\n",
    "print s7.find( 'as', 1, 15 )"
   ]
  },
  {
   "cell_type": "code",
   "execution_count": null,
   "metadata": {
    "collapsed": true
   },
   "outputs": [],
   "source": []
  },
  {
   "cell_type": "markdown",
   "metadata": {},
   "source": [
    "# slice part"
   ]
  },
  {
   "cell_type": "code",
   "execution_count": 1,
   "metadata": {
    "collapsed": false
   },
   "outputs": [
    {
     "name": "stdout",
     "output_type": "stream",
     "text": [
      "[0, 1, 2, 3, 4, 5, 6, 7, 8, 9]\n"
     ]
    }
   ],
   "source": [
    "a = range(0,10)\n",
    "print a"
   ]
  },
  {
   "cell_type": "code",
   "execution_count": 5,
   "metadata": {
    "collapsed": false
   },
   "outputs": [
    {
     "name": "stdout",
     "output_type": "stream",
     "text": [
      "[1, 2, 3, 4, 5, 6, 7, 8]\n",
      "[1, 3, 5, 7]\n",
      "[]\n",
      "[9, 7, 5, 3]\n"
     ]
    }
   ],
   "source": [
    "print a[1:9]\n",
    "print a[1:9:2]\n",
    "print a[9:1]\n",
    "print a[9:1:-2]"
   ]
  },
  {
   "cell_type": "code",
   "execution_count": 17,
   "metadata": {
    "collapsed": false
   },
   "outputs": [
    {
     "data": {
      "text/plain": [
       "True"
      ]
     },
     "execution_count": 17,
     "metadata": {},
     "output_type": "execute_result"
    }
   ],
   "source": [
    "ver = \"vdsm-4.16.28-2.el6ev\"\n",
    "ver.rstrip(\".el6rhg\")\n",
    "ver.endswith(\".el6ev\")"
   ]
  },
  {
   "cell_type": "code",
   "execution_count": 15,
   "metadata": {
    "collapsed": false
   },
   "outputs": [
    {
     "name": "stdout",
     "output_type": "stream",
     "text": [
      "False\n"
     ]
    }
   ],
   "source": [
    "from distutils.version import LooseVersion\n",
    "ver1 = LooseVersion('vdsm-4.16.28-3.el6ev')\n",
    "ver2 = LooseVersion('vdsm-4.16.28-3')\n",
    "print ver1 < ver2"
   ]
  },
  {
   "cell_type": "code",
   "execution_count": null,
   "metadata": {
    "collapsed": true
   },
   "outputs": [],
   "source": []
  },
  {
   "cell_type": "code",
   "execution_count": 3,
   "metadata": {
    "collapsed": false
   },
   "outputs": [
    {
     "name": "stdout",
     "output_type": "stream",
     "text": [
      "/usr/bin/find: '/etc/origin/node': No such file or directoryfilenvamlkdmv;dvo=mkdls=======================\n",
      "/usr/bin/find: '/etc/origin/node': No such file or directory\n",
      "filenvamlkdmv;dvo=mkdls\n",
      "=======================\n"
     ]
    }
   ],
   "source": [
    "# join\n",
    "\n",
    "a = \"\"\"\n",
    "/usr/bin/find: '/etc/origin/node': No such file or directory\n",
    "\"\"\".strip()\n",
    "\n",
    "b = \"\"\"\n",
    "filenvamlkdmv;dvo=mkdls\n",
    "\"\"\".strip()\n",
    "\n",
    "c = \"\"\"\n",
    "=======================\n",
    "\"\"\".strip()\n",
    "\n",
    "\n",
    "print a + b + c\n",
    "\n",
    "print '\\n'.join((a,b,c))"
   ]
  },
  {
   "cell_type": "markdown",
   "metadata": {
    "collapsed": true
   },
   "source": [
    "# %s %d"
   ]
  },
  {
   "cell_type": "code",
   "execution_count": 2,
   "metadata": {
    "collapsed": false
   },
   "outputs": [
    {
     "data": {
      "text/plain": [
       "'cbshacbsjak1vjn'"
      ]
     },
     "execution_count": 2,
     "metadata": {},
     "output_type": "execute_result"
    }
   ],
   "source": [
    "\n",
    "\n",
    ">>> a = \"cbshacbsjak%svjn\"\n",
    ">>> a\n",
    "'cbshacbsjak%svjn'\n",
    ">>> a % \"100\"\n",
    "'cbshacbsjak100vjn'\n",
    ">>> a % \"1\"\n",
    "'cbshacbsjak1vjn'\n",
    ">>> a = \"cbshacbsjak%dvjn\"\n",
    ">>> a % 1\n",
    "'cbshacbsjak1vjn'\n",
    ">>> a = \"cbshacbsjak%3dvjn\"\n",
    ">>> a\n",
    "'cbshacbsjak%3dvjn'\n",
    ">>> a % 1\n",
    "'cbshacbsjak  1vjn'\n",
    ">>> a = \"cbshacbsjak%03dvjn\"\n",
    ">>> a % 1\n",
    "'cbshacbsjak001vjn'\n",
    ">>> a % 13\n",
    "'cbshacbsjak013vjn'\n",
    ">>> a % 130\n",
    "'cbshacbsjak130vjn'\n",
    ">>> b = \"cbshacbsjak%svjn\"\n",
    ">>> b\n",
    "'cbshacbsjak%svjn'\n",
    ">>> b % 1\n",
    "'cbshacbsjak1vjn'"
   ]
  },
  {
   "cell_type": "code",
   "execution_count": null,
   "metadata": {
    "collapsed": true
   },
   "outputs": [],
   "source": []
  }
 ],
 "metadata": {
  "kernelspec": {
   "display_name": "Python 2",
   "language": "python",
   "name": "python2"
  },
  "language_info": {
   "codemirror_mode": {
    "name": "ipython",
    "version": 2
   },
   "file_extension": ".py",
   "mimetype": "text/x-python",
   "name": "python",
   "nbconvert_exporter": "python",
   "pygments_lexer": "ipython2",
   "version": "2.7.13"
  }
 },
 "nbformat": 4,
 "nbformat_minor": 0
}
