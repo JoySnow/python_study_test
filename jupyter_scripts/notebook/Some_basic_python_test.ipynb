{
 "cells": [
  {
   "cell_type": "code",
   "execution_count": 1,
   "metadata": {
    "collapsed": false
   },
   "outputs": [
    {
     "name": "stdout",
     "output_type": "stream",
     "text": [
      "1 2 3\n"
     ]
    }
   ],
   "source": [
    "print 1, 2, 3\n"
   ]
  },
  {
   "cell_type": "code",
   "execution_count": 3,
   "metadata": {
    "collapsed": false
   },
   "outputs": [
    {
     "name": "stdout",
     "output_type": "stream",
     "text": [
      "1 1 1\n",
      "1 2 1\n",
      "3 2 3\n"
     ]
    }
   ],
   "source": [
    "class Parent(object):\n",
    "    x = 1\n",
    "class Child1(Parent):\n",
    "    pass\n",
    "class Child2(Parent):\n",
    "    pass\n",
    "\n",
    "print Parent.x, Child1.x, Child2.x\n",
    "Child1.x = 2\n",
    "print Parent.x, Child1.x, Child2.x\n",
    "Parent.x = 3\n",
    "print Parent.x, Child1.x, Child2.x"
   ]
  },
  {
   "cell_type": "code",
   "execution_count": 4,
   "metadata": {
    "collapsed": false
   },
   "outputs": [
    {
     "name": "stdout",
     "output_type": "stream",
     "text": [
      "[]\n"
     ]
    }
   ],
   "source": [
    "list = ['a', 'b', 'c', 'd', 'e']\n",
    "print list[10:]"
   ]
  },
  {
   "cell_type": "code",
   "execution_count": 7,
   "metadata": {
    "collapsed": false
   },
   "outputs": [
    {
     "name": "stdout",
     "output_type": "stream",
     "text": [
      "----\n",
      "[]\n",
      "139839439564744\n",
      "list1 = [10]\n",
      "----\n",
      "[]\n",
      "139839439716792\n",
      "list1 = [10]\n",
      "list2 = [123]\n",
      "----\n",
      "[10]\n",
      "139839439564744\n",
      "list1 = [10, 'a']\n",
      "list2 = [123]\n",
      "list3 = [10, 'a']\n"
     ]
    }
   ],
   "source": [
    "def extendList(val, alist=[]):\n",
    "    print \"----\"\n",
    "    print alist\n",
    "    print id(alist)\n",
    "    alist.append(val)\n",
    "    return alist\n",
    "\n",
    "list1 = extendList(10)\n",
    "print \"list1 = %s\" % list1\n",
    "\n",
    "\n",
    "list2 = extendList(123,[])\n",
    "print \"list1 = %s\" % list1\n",
    "print \"list2 = %s\" % list2\n",
    "\n",
    "\n",
    "list3 = extendList('a')\n",
    "print \"list1 = %s\" % list1\n",
    "print \"list2 = %s\" % list2\n",
    "print \"list3 = %s\" % list3"
   ]
  },
  {
   "cell_type": "code",
   "execution_count": 10,
   "metadata": {
    "collapsed": false
   },
   "outputs": [
    {
     "name": "stdout",
     "output_type": "stream",
     "text": [
      "['END']\n",
      "['END']\n",
      "['END']\n"
     ]
    }
   ],
   "source": [
    "def add_end(L=None):  \n",
    "      if L is None:  \n",
    "         L=[]  \n",
    "      L.append('END')  \n",
    "      return L  \n",
    "\n",
    "print add_end()\n",
    "print add_end()\n",
    "print add_end()"
   ]
  },
  {
   "cell_type": "code",
   "execution_count": 11,
   "metadata": {
    "collapsed": false
   },
   "outputs": [
    {
     "name": "stdout",
     "output_type": "stream",
     "text": [
      "['END']\n",
      "['END', 'END']\n",
      "['END', 'END', 'END']\n"
     ]
    }
   ],
   "source": [
    "def add_end(L=[]):   \n",
    "      L.append('END')  \n",
    "      return L  \n",
    "\n",
    "print add_end()\n",
    "print add_end()\n",
    "print add_end()"
   ]
  },
  {
   "cell_type": "code",
   "execution_count": null,
   "metadata": {
    "collapsed": true
   },
   "outputs": [],
   "source": []
  }
 ],
 "metadata": {
  "kernelspec": {
   "display_name": "Python 2",
   "language": "python",
   "name": "python2"
  },
  "language_info": {
   "codemirror_mode": {
    "name": "ipython",
    "version": 2
   },
   "file_extension": ".py",
   "mimetype": "text/x-python",
   "name": "python",
   "nbconvert_exporter": "python",
   "pygments_lexer": "ipython2",
   "version": "2.7.13"
  }
 },
 "nbformat": 4,
 "nbformat_minor": 0
}
