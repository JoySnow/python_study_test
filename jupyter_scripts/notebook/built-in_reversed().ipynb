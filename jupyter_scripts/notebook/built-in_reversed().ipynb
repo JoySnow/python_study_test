{
 "cells": [
  {
   "cell_type": "markdown",
   "metadata": {},
   "source": [
    "refer to: http://stackoverflow.com/questions/529424/traverse-a-list-in-reverse-order-in-python\n",
    "\n",
    "* reversed() :  \n",
    "To avoid the confusion: reversed() doesn't modify the list. \n",
    "reversed() doesn't make a copy of the list (otherwise it would require O(N) additional memory). \n",
    "If you need to modify the list use alist.reverse(); \n",
    "if you need a copy of the list in reversed order use alist[::-1]\n",
    "\n",
    "* [::-1] :  \n",
    "The [::-1] slice reverses the list in the for loop (but won't actually modify your list \"permanently\").\n",
    "[::-1] creates a shallow copy, therefore it doesn't change the array neither \"permanently\" nor \"temporary\".\n",
    "This is slightly slower than using reversed, at least under Python 2.7 (tested). – kgriffs Jan 2 '14 at 16:49"
   ]
  },
  {
   "cell_type": "code",
   "execution_count": 3,
   "metadata": {
    "collapsed": false
   },
   "outputs": [
    {
     "name": "stdout",
     "output_type": "stream",
     "text": [
      "<listreverseiterator object at 0x7f88e9662490>\n"
     ]
    }
   ],
   "source": [
    "b = [1, 2, 3]\n",
    "rev = reversed(b)\n",
    "print rev\n",
    "\n",
    "# Tips: since rev is a iterator object, you can use it only once ~ "
   ]
  },
  {
   "cell_type": "code",
   "execution_count": 4,
   "metadata": {
    "collapsed": false
   },
   "outputs": [
    {
     "name": "stdout",
     "output_type": "stream",
     "text": [
      "[1, 2, 3]\n",
      "3\n",
      "[1, 2, 3]\n",
      "2\n",
      "[1, 2, 3]\n",
      "1\n"
     ]
    }
   ],
   "source": [
    "for i in reversed(b):\n",
    "    print b\n",
    "    print i"
   ]
  },
  {
   "cell_type": "code",
   "execution_count": null,
   "metadata": {
    "collapsed": true
   },
   "outputs": [],
   "source": []
  }
 ],
 "metadata": {
  "kernelspec": {
   "display_name": "Python 2",
   "language": "python",
   "name": "python2"
  },
  "language_info": {
   "codemirror_mode": {
    "name": "ipython",
    "version": 2
   },
   "file_extension": ".py",
   "mimetype": "text/x-python",
   "name": "python",
   "nbconvert_exporter": "python",
   "pygments_lexer": "ipython2",
   "version": "2.7.13"
  }
 },
 "nbformat": 4,
 "nbformat_minor": 0
}
