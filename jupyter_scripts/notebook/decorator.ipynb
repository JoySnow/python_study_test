{
 "cells": [
  {
   "cell_type": "code",
   "execution_count": 1,
   "metadata": {
    "collapsed": false
   },
   "outputs": [
    {
     "name": "stdout",
     "output_type": "stream",
     "text": [
      "start\n",
      "call f1\n",
      "end\n",
      "f1\n"
     ]
    }
   ],
   "source": [
    "import functools\n",
    "\n",
    "\n",
    "# P1——两者都不带参数\n",
    "\n",
    "# 定义装饰函数，被装饰函数作为参数\n",
    "def decorator_one(f1):\n",
    "    print('start')\n",
    "    print('call ' + f1.__name__)\n",
    "    print('end')\n",
    "    # 被装饰函数不带参数，返回被装饰函数,最外层函数必须接受一个返回函数\n",
    "    return f1\n",
    "\n",
    "\n",
    "@decorator_one\n",
    "# 采取和上面定义不同的名字，否则会出错\n",
    "def f1():\n",
    "    print 'f1'\n",
    "\n",
    "\n",
    "f1()\n"
   ]
  },
  {
   "cell_type": "code",
   "execution_count": 2,
   "metadata": {
    "collapsed": false
   },
   "outputs": [
    {
     "name": "stdout",
     "output_type": "stream",
     "text": [
      "start\n",
      "callf2\n",
      "被装饰函数f2的参数\n",
      "end\n"
     ]
    }
   ],
   "source": [
    "# P2——装饰函数不带参数，被装饰函数带参数\n",
    "\n",
    "# 定义装饰函数，被装饰函数作为参数\n",
    "def decorator_two(f2):\n",
    "    # 定义包装函数，用于传递给被装饰函数当做参数,使用可变参数和关键字参数可以提升灵活性\n",
    "    def wrapper_two(*args, **kw):\n",
    "        print('start')\n",
    "        print('call' + f2.__name__)\n",
    "        f2(*args, **kw)\n",
    "        print('end')\n",
    "\n",
    "    # 这里的return返回的是decorator_two这个函数的返回值\n",
    "    return wrapper_two\n",
    "\n",
    "\n",
    "@decorator_two\n",
    "def f2(s):\n",
    "    print(s)\n",
    "\n",
    "\n",
    "'''流程是:f2=decorator_two(f2),然后运行wrapper_two函数，在f2执行前后进行\n",
    "处理,最后还要把函数最为一个返回值，这个是装饰函数要求的'''\n",
    "\n",
    "f2('被装饰函数f2的参数')"
   ]
  },
  {
   "cell_type": "code",
   "execution_count": 13,
   "metadata": {
    "collapsed": false
   },
   "outputs": [
    {
     "name": "stdout",
     "output_type": "stream",
     "text": [
      "start\n",
      "f3的装饰器函数自带参数为:\n",
      "('my_decorator_three',)\n",
      "call f3\n",
      "end\n",
      "f3 here\n"
     ]
    }
   ],
   "source": [
    "# P3——装饰函数带参数，被装饰函数不带参数\n",
    "\n",
    "# 装饰函数外层加一层函数，用来传递装饰函数的参数\n",
    "def my_decorator_three(*args, **kw):\n",
    "    # 这里才是装饰函数开始的地方，传入装饰函数参数f3\n",
    "    def decorator_three(f3):\n",
    "        #    @functools.wraps(f3) 这句在这里可加可不加，反正不会出现函数名字指定错误\n",
    "        print('start')\n",
    "        #print('f3的装饰器函数自带参数为:', args)\n",
    "        print('f3的装饰器函数自带参数为:')\n",
    "        print (args)\n",
    "        print('call ' + f3.__name__)\n",
    "        print('end')\n",
    "        # 这里需要返回被装饰函数本身f3,当做\n",
    "        return f3\n",
    "    \n",
    "    return decorator_three\n",
    "\n",
    "\n",
    "#'''注意P3的调用逻辑是f3=my_decorator_three(*args,**kw)(f3)(),最后的(f3)在这里是\n",
    "#使用前面的返回函数decorator_three(f3),可以完成装饰函数自带参数实现的功能，最后的()实际上\n",
    "#再使用不带参数的f3()函数本身完成被装饰函数本身的功能'''\n",
    "\n",
    "\n",
    "# 这里采用最外层的函数\n",
    "@my_decorator_three('my_decorator_three')\n",
    "def f3():\n",
    "    print \"f3 here\"\n",
    "\n",
    "\n",
    "f3()\n"
   ]
  },
  {
   "cell_type": "code",
   "execution_count": 2,
   "metadata": {
    "collapsed": false
   },
   "outputs": [
    {
     "name": "stdout",
     "output_type": "stream",
     "text": [
      "start\n",
      "f4 is working\n",
      "被装饰函数f4的参数\n",
      "end\n"
     ]
    }
   ],
   "source": [
    "import functools\n",
    "\n",
    "\n",
    "# P4——装饰器函数和被装饰函数都带参数\n",
    "\n",
    "# 这层传递的参数是装饰函数本身需要使用的参数\n",
    "def my_decorator_four(*args_decorator, **kw_decorator):\n",
    "    # 这一层函数传递需要被装饰的函数f4\n",
    "    def decorator_four(f4):\n",
    "        @functools.wraps(f4)\n",
    "        # 这一层包装函数用于传递被装饰函数f4所需要的参数\n",
    "        def wrapper(*args, **kw):\n",
    "            print('start')\n",
    "            print(f4.__name__ + ' is working')\n",
    "            # 在这个函数内已经使用了带参数的被装饰函数f4，所以最后也不需要返回函数f4了\n",
    "            f4(*args, **kw)\n",
    "            print('end')\n",
    "\n",
    "        return wrapper\n",
    "\n",
    "    return decorator_four\n",
    "\n",
    "\n",
    "'''P4的调用逻辑是f4=my_decorator_four(**args_decorator,**kw_decorator)(f4)(*args,**kw);这个逻辑比较长，首\n",
    "先是他用最外层的函数，传递装饰函数需要的参数；然后用于最外层函数返回的函数是decorator_four()，所以\n",
    "后面的(f4)实际上等价于decorator_four(f4),然后由于decorator_four函数的返回值是wrapper,所以(*args,**kw)\n",
    "等价于wrapper(*args,**kw)'''\n",
    "\n",
    "\n",
    "@my_decorator_four('my_decorator_four')\n",
    "def f4(s):\n",
    "    print(s)\n",
    "\n",
    "\n",
    "f4('被装饰函数f4的参数')\n"
   ]
  },
  {
   "cell_type": "code",
   "execution_count": null,
   "metadata": {
    "collapsed": true
   },
   "outputs": [],
   "source": [
    "# P5 课后习题，通过分析课后习题可以知道，需要设计一个装饰函数带可变参数，被装饰函数不带参数的装饰器\n",
    "\n",
    "# 为了保持前后的统一性，函数名我就不用log了，而是用my_decorator_five代替log,f5代替f\n",
    "def my_decorator_five(*args, **kw):\n",
    "    def decorator_five(f5):\n",
    "        print(*args)\n",
    "        print('begin call')\n",
    "        # 在函数中使用了被装饰函数，就不用再返回这个函数了，因为已经在这被执行过了\n",
    "        f5()\n",
    "        print('end call')\n",
    "\n",
    "    return decorator_five\n",
    "\n",
    "\n",
    "@my_decorator_five()\n",
    "def f5():\n",
    "    pass\n",
    "\n",
    "\n",
    "@my_decorator_five('execute')\n",
    "def f5():\n",
    "    pass\n",
    "\n",
    "'''P5的装饰器函数调用逻辑实际上和P3类似，f5=my_decorator_five(*args,**kw)(f5),好P3的差别就是最后不用加()，因\n",
    "为最后没有返回被装饰函数'''"
   ]
  },
  {
   "cell_type": "code",
   "execution_count": null,
   "metadata": {
    "collapsed": true
   },
   "outputs": [],
   "source": []
  },
  {
   "cell_type": "code",
   "execution_count": null,
   "metadata": {
    "collapsed": true
   },
   "outputs": [],
   "source": [
    "#"
   ]
  },
  {
   "cell_type": "code",
   "execution_count": 12,
   "metadata": {
    "collapsed": true
   },
   "outputs": [],
   "source": [
    "def log(func):\n",
    "    def wrapper(*args, **kw):\n",
    "        print('call %s():' % func.__name__)\n",
    "        return func(*args, **kw)\n",
    "    return wrapper"
   ]
  },
  {
   "cell_type": "code",
   "execution_count": 13,
   "metadata": {
    "collapsed": true
   },
   "outputs": [],
   "source": [
    "@log\n",
    "def now():\n",
    "    print('2015-3-25')"
   ]
  },
  {
   "cell_type": "code",
   "execution_count": 14,
   "metadata": {
    "collapsed": false
   },
   "outputs": [
    {
     "name": "stdout",
     "output_type": "stream",
     "text": [
      "call now():\n",
      "2015-3-25\n"
     ]
    }
   ],
   "source": [
    "now()"
   ]
  },
  {
   "cell_type": "code",
   "execution_count": 15,
   "metadata": {
    "collapsed": false
   },
   "outputs": [
    {
     "data": {
      "text/plain": [
       "<function __main__.wrapper>"
      ]
     },
     "execution_count": 15,
     "metadata": {},
     "output_type": "execute_result"
    }
   ],
   "source": [
    "log(now)"
   ]
  },
  {
   "cell_type": "code",
   "execution_count": 16,
   "metadata": {
    "collapsed": false
   },
   "outputs": [
    {
     "name": "stdout",
     "output_type": "stream",
     "text": [
      "call wrapper():\n",
      "call now():\n",
      "2015-3-25\n"
     ]
    }
   ],
   "source": [
    "log(now)()"
   ]
  },
  {
   "cell_type": "code",
   "execution_count": 17,
   "metadata": {
    "collapsed": false
   },
   "outputs": [
    {
     "data": {
      "text/plain": [
       "'wrapper'"
      ]
     },
     "execution_count": 17,
     "metadata": {},
     "output_type": "execute_result"
    }
   ],
   "source": [
    "now.__name__"
   ]
  },
  {
   "cell_type": "code",
   "execution_count": 2,
   "metadata": {
    "collapsed": false
   },
   "outputs": [
    {
     "name": "stdout",
     "output_type": "stream",
     "text": [
      "I guess start here ...\n",
      "start\n",
      "callf2\n",
      "end\n"
     ]
    }
   ],
   "source": [
    "# P2——装饰函数不带参数，被装饰函数带参数\n",
    "\n",
    "# 定义装饰函数，被装饰函数作为参数\n",
    "def decorator_two(f2):\n",
    "    # 定义包装函数，用于传递给被装饰函数当做参数,使用可变参数和关键字参数可以提升灵活性\n",
    "    def wrapper_two(*args, **kw):\n",
    "        print('start')\n",
    "        print('call' + f2.__name__)\n",
    "        f2(*args, **kw)\n",
    "        print('end')\n",
    "\n",
    "    print \"I guess start here ...\"\n",
    "    # 这里的return返回的是decorator_two这个函数的返回值\n",
    "    return wrapper_two\n",
    "    print \"I guess end here ...\"\n",
    "\n",
    "\n",
    "@decorator_two\n",
    "def f2(s):\n",
    "    print(s)\n",
    "\n",
    "\n",
    "'''流程是:f2=decorator_two(f2),然后运行wrapper_two函数，在f2执行前后进行\n",
    "处理,最后还要把函数最为一个返回值，这个是装饰函数要求的'''\n",
    "\n",
    "f2('被装饰函数f2的参数')"
   ]
  },
  {
   "cell_type": "code",
   "execution_count": null,
   "metadata": {
    "collapsed": true
   },
   "outputs": [],
   "source": []
  },
  {
   "cell_type": "code",
   "execution_count": 18,
   "metadata": {
    "collapsed": false
   },
   "outputs": [
    {
     "name": "stdout",
     "output_type": "stream",
     "text": [
      "MultiNodeProduct's __init__\n",
      "self.role:  Manager\n",
      "<__main__.RHEV object at 0x7f3823cefb10>\n",
      "[<class '__main__.RHEV'>]\n",
      "['rhev']\n"
     ]
    }
   ],
   "source": [
    "GLOBAL_PRODUCTS = []\n",
    "PRODUCT_NAMES = []\n",
    "DEFAULT_VERSION = [\"-1\", \"-1\"]\n",
    "\n",
    "\n",
    "def product(klass):\n",
    "    GLOBAL_PRODUCTS.append(klass)\n",
    "    PRODUCT_NAMES.append(klass.name)\n",
    "    return klass\n",
    "\n",
    "\n",
    "class MultiNodeProduct(object):\n",
    "    def  __init__(self, role=None):\n",
    "        self.role = role\n",
    "        print \"MultiNodeProduct's __init__\"\n",
    "        print \"self.role: \", self.role\n",
    "\n",
    "@product\n",
    "class RHEV(MultiNodeProduct):\n",
    "    name = \"rhev\"\n",
    "    \n",
    "\n",
    "rhev=RHEV(role=\"Manager\")\n",
    "print rhev\n",
    "\n",
    "print GLOBAL_PRODUCTS\n",
    "print PRODUCT_NAMES"
   ]
  },
  {
   "cell_type": "code",
   "execution_count": null,
   "metadata": {
    "collapsed": true
   },
   "outputs": [],
   "source": []
  },
  {
   "cell_type": "code",
   "execution_count": 3,
   "metadata": {
    "collapsed": false
   },
   "outputs": [
    {
     "ename": "IndentationError",
     "evalue": "expected an indented block (<ipython-input-3-84d2b84f7a81>, line 7)",
     "output_type": "error",
     "traceback": [
      "\u001b[0;36m  File \u001b[0;32m\"<ipython-input-3-84d2b84f7a81>\"\u001b[0;36m, line \u001b[0;32m7\u001b[0m\n\u001b[0;31m    parser(filename, filters=[], shared=False)(metadata)\u001b[0m\n\u001b[0m         ^\u001b[0m\n\u001b[0;31mIndentationError\u001b[0m\u001b[0;31m:\u001b[0m expected an indented block\n"
     ]
    }
   ],
   "source": [
    "\n",
    "\n",
    "@parser(\"metadata.json\")                                                         \n",
    "def metadata(context):\n",
    "        \n",
    "        \n",
    "parser(filename, filters=[], shared=False)(metadata)\n",
    "\n",
    "\n",
    "\n",
    "|      17     def _register(func):                                                         \n",
    "|-     16         register_parser(filename, func, filters, shared=shared)                  \n",
    "||     15         return func                                                              \n",
    "|      14                                                                                  \n",
    "|      13     return _register "
   ]
  },
  {
   "cell_type": "code",
   "execution_count": 5,
   "metadata": {
    "collapsed": false
   },
   "outputs": [
    {
     "name": "stdout",
     "output_type": "stream",
     "text": [
      "func:  <function test_f1 at 0x7fc200271578>\n",
      "func:  <function test_f2 at 0x7fc200271398>\n",
      "args:  ('name1',)\n",
      "f1\n",
      "pre action\n",
      "name1\n",
      "post action\n",
      "------------------\n",
      "args:  ('name2',)\n",
      "f1\n",
      "pre action\n",
      "name2\n",
      "post action\n"
     ]
    }
   ],
   "source": [
    "\n",
    "def wap(name):  \n",
    "    def decorator1(func):  \n",
    "        print \"func: \", func\n",
    "        def dec(*args):  \n",
    "            print \"args: \", args\n",
    "            print name  \n",
    "            print 'pre action'  \n",
    "            result = func(*args)  \n",
    "            print 'post action'  \n",
    "            return result  \n",
    "        return dec  \n",
    "    return decorator1  \n",
    " \n",
    "@wap('f1')  \n",
    "def test_f1(name):  \n",
    "    print name  \n",
    "    return None  \n",
    " \n",
    "@wap('f2')  \n",
    "def test_f2(name):  \n",
    "    print name  \n",
    "    return None  \n",
    "  \n",
    "test_f1('name1') #out: f1/pre action/name1/post action  \n",
    "\n",
    "print \"------------------\"\n",
    "\n",
    "test_f1('name2') #out: f2/pre action/name2/post action  "
   ]
  },
  {
   "cell_type": "code",
   "execution_count": null,
   "metadata": {
    "collapsed": true
   },
   "outputs": [],
   "source": []
  }
 ],
 "metadata": {
  "kernelspec": {
   "display_name": "Python 2",
   "language": "python",
   "name": "python2"
  },
  "language_info": {
   "codemirror_mode": {
    "name": "ipython",
    "version": 2
   },
   "file_extension": ".py",
   "mimetype": "text/x-python",
   "name": "python",
   "nbconvert_exporter": "python",
   "pygments_lexer": "ipython2",
   "version": "2.7.13"
  }
 },
 "nbformat": 4,
 "nbformat_minor": 0
}
