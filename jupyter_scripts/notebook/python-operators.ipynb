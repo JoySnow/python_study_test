{
 "cells": [
  {
   "cell_type": "code",
   "execution_count": 1,
   "metadata": {
    "collapsed": true
   },
   "outputs": [],
   "source": [
    "# + - * / % ** //\n",
    "a = 3\n",
    "b = 2\n",
    "c = 0\n",
    "\n",
    "c = a % b\n",
    "print c\n",
    "\n",
    "c = a // b\n",
    "print c\n",
    "\n",
    "c = a ** b\n",
    "print c"
   ]
  },
  {
   "cell_type": "code",
   "execution_count": 3,
   "metadata": {
    "collapsed": false
   },
   "outputs": [
    {
     "name": "stdout",
     "output_type": "stream",
     "text": [
      "ne\n",
      "ne\n"
     ]
    }
   ],
   "source": [
    "# == != <> > < >= <=\n",
    "a = 21\n",
    "b = 10\n",
    "c = 0\n",
    "\n",
    "if ( a <> b ):\n",
    "    print 'ne'\n",
    "else:\n",
    "    print 'eq'\n",
    "\n",
    "if ( a != b ):\n",
    "    print 'ne'\n",
    "else:\n",
    "    print 'eq'"
   ]
  },
  {
   "cell_type": "code",
   "execution_count": 4,
   "metadata": {
    "collapsed": false
   },
   "outputs": [
    {
     "name": "stdout",
     "output_type": "stream",
     "text": [
      "8\n",
      "2\n"
     ]
    }
   ],
   "source": [
    "# = += -= *= /= %= **= //=\n",
    "a = 2\n",
    "b = 3\n",
    "a **= b\n",
    "print a\n",
    "\n",
    "a = 8\n",
    "b = 3\n",
    "a //= b \n",
    "print a"
   ]
  },
  {
   "cell_type": "code",
   "execution_count": 5,
   "metadata": {
    "collapsed": true
   },
   "outputs": [],
   "source": [
    "# & | ^ ~ << >>  (bit)"
   ]
  },
  {
   "cell_type": "code",
   "execution_count": 6,
   "metadata": {
    "collapsed": false
   },
   "outputs": [
    {
     "name": "stdout",
     "output_type": "stream",
     "text": [
      "a and b is true\n",
      "c is false\n"
     ]
    }
   ],
   "source": [
    "# and or not  (logical)\n",
    "a = 10\n",
    "b = 20\n",
    "c = 0\n",
    "\n",
    "if ( a and b ):\n",
    "    print 'a and b is true'\n",
    "else:\n",
    "    print 'a and b is false'\n",
    "\n",
    "if not( c ):\n",
    "    print 'c is false'\n",
    "else:\n",
    "    print 'c is not false'"
   ]
  },
  {
   "cell_type": "code",
   "execution_count": 8,
   "metadata": {
    "collapsed": false
   },
   "outputs": [
    {
     "name": "stdout",
     "output_type": "stream",
     "text": [
      "a isn't in list\n"
     ]
    }
   ],
   "source": [
    "# in     \n",
    "# not in\n",
    "\n",
    "a = 10\n",
    "b = 2\n",
    "list = [ 1, 2, 3, 4, 5 ]\n",
    "\n",
    "if ( a in list ):\n",
    "    print 'a in list'\n",
    "else:\n",
    "    print 'a isn\\'t in list'\n",
    "\n",
    "if ( b not in list ):\n",
    "    print 'hehe'"
   ]
  },
  {
   "cell_type": "code",
   "execution_count": 9,
   "metadata": {
    "collapsed": false
   },
   "outputs": [
    {
     "name": "stdout",
     "output_type": "stream",
     "text": [
      "OMG, WTF,what do you mean by same identity????\n",
      "WTF again, what is the id ????\n"
     ]
    }
   ],
   "source": [
    "# is : id(x)==id(y)\n",
    "# is not : id(x)!=id(y)\n",
    "a = 20\n",
    "b = 20\n",
    "if ( a is b ):\n",
    "    print 'OMG, WTF,what do you mean by same identity????'\n",
    "    \n",
    "if ( id(a) == id(b) ):\n",
    "    print \"WTF again, what is the id ????\""
   ]
  },
  {
   "cell_type": "code",
   "execution_count": null,
   "metadata": {
    "collapsed": true
   },
   "outputs": [],
   "source": [
    "# priority of all these operators\n",
    "**\n",
    "~ + -\n",
    "* / % //\n",
    "+ -\n",
    "<< >>\n",
    "&\n",
    "^ |\n",
    "<= >= < >\n",
    "<> != ==\n",
    "= %= /= //= *= **= += -=\n",
    "is  is not\n",
    "in  not in\n",
    "not  or  and"
   ]
  }
 ],
 "metadata": {
  "kernelspec": {
   "display_name": "Python 2",
   "language": "python",
   "name": "python2"
  },
  "language_info": {
   "codemirror_mode": {
    "name": "ipython",
    "version": 2
   },
   "file_extension": ".py",
   "mimetype": "text/x-python",
   "name": "python",
   "nbconvert_exporter": "python",
   "pygments_lexer": "ipython2",
   "version": "2.7.5"
  }
 },
 "nbformat": 4,
 "nbformat_minor": 0
}
