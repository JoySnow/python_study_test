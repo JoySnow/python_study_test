{
 "cells": [
  {
   "cell_type": "code",
   "execution_count": null,
   "metadata": {
    "collapsed": true
   },
   "outputs": [],
   "source": []
  },
  {
   "cell_type": "code",
   "execution_count": 8,
   "metadata": {
    "collapsed": true
   },
   "outputs": [],
   "source": [
    "\n",
    "import math  \n",
    "from cStringIO import StringIO  \n",
    "  \n",
    "def show_tree(tree, total_width=36, fill=' '):  \n",
    "    \"\"\"Pretty-print a tree.\"\"\"  \n",
    "    output = StringIO()  \n",
    "    last_row = -1  \n",
    "    for i, n in enumerate(tree):  \n",
    "        if i:  \n",
    "            row = int(math.floor(math.log(i+1, 2)))  \n",
    "        else:  \n",
    "            row = 0  \n",
    "        if row != last_row:  \n",
    "            output.write('\\n')  \n",
    "        columns = 2**row  \n",
    "        col_width = int(math.floor((total_width * 1.0) / columns))  \n",
    "        output.write(str(n).center(col_width, fill))  \n",
    "        last_row = row  \n",
    "    print output.getvalue()  \n",
    "    print '-' * total_width  \n",
    "    print  \n",
    "    return  "
   ]
  },
  {
   "cell_type": "code",
   "execution_count": 10,
   "metadata": {
    "collapsed": false
   },
   "outputs": [
    {
     "name": "stdout",
     "output_type": "stream",
     "text": [
      "[1, 7, 6, 9, 8]\n",
      "None\n",
      "heapified :\n",
      "\n",
      "                 1                  \n",
      "        7                 6         \n",
      "    9        8    \n",
      "------------------------------------\n",
      "\n",
      "0 1\n",
      "1 7\n",
      "2 6\n",
      "3 9\n",
      "4 8\n"
     ]
    }
   ],
   "source": [
    "import heapq  \n",
    "dir(heapq)\n",
    "\n",
    "# from heapq.showtree import show_tree  \n",
    "# from heapq_heapdata import data  \n",
    "  \n",
    "# print 'random    :', data  \n",
    "# heapq.heapify(data)  \n",
    "# print 'heapified :'  \n",
    "# show_tree(data)  \n",
    "\n",
    "a = [6,8,1, 9,7]\n",
    "h = heapq.heapify(a)\n",
    "print a\n",
    "print h\n",
    "\n",
    "heapq.heapify(a)  \n",
    "print 'heapified :'  \n",
    "show_tree(a)  \n",
    "\n",
    "for i, v in enumerate(a):  \n",
    "    print i, v"
   ]
  },
  {
   "cell_type": "code",
   "execution_count": 12,
   "metadata": {
    "collapsed": false
   },
   "outputs": [
    {
     "data": {
      "text/plain": [
       "1"
      ]
     },
     "execution_count": 12,
     "metadata": {},
     "output_type": "execute_result"
    }
   ],
   "source": [
    "import math\n",
    "abs(-1)\n"
   ]
  },
  {
   "cell_type": "code",
   "execution_count": 14,
   "metadata": {
    "collapsed": false
   },
   "outputs": [
    {
     "name": "stdout",
     "output_type": "stream",
     "text": [
      "[('pwd', 'athy'), ('protocol', 'http'), ('port', '8080'), ('name', 'thy'), ('address', '202.101.1.22')]\n"
     ]
    },
    {
     "data": {
      "text/plain": [
       "[('address', '202.101.1.22'),\n",
       " ('port', '8080'),\n",
       " ('pwd', 'athy'),\n",
       " ('protocol', 'http'),\n",
       " ('name', 'thy')]"
      ]
     },
     "execution_count": 14,
     "metadata": {},
     "output_type": "execute_result"
    }
   ],
   "source": [
    "a={'port':'8080', 'protocol': 'http', 'address':'202.101.1.22', 'name':'thy', 'pwd':'athy'}  \n",
    "  \n",
    "b=zip(a.keys(), a.values())   #拉成Tuple对组成的List  \n",
    "print b\n",
    "  \n",
    "\n",
    "sorted(b, key=lambda item:item[1])  \n",
    "#将zip的每个Tuple传给lambda函数并记为item，将item[1]即Tuple的第二个元素作为返回值赋给key。  "
   ]
  },
  {
   "cell_type": "code",
   "execution_count": null,
   "metadata": {
    "collapsed": true
   },
   "outputs": [],
   "source": []
  }
 ],
 "metadata": {
  "kernelspec": {
   "display_name": "Python 2",
   "language": "python",
   "name": "python2"
  },
  "language_info": {
   "codemirror_mode": {
    "name": "ipython",
    "version": 2
   },
   "file_extension": ".py",
   "mimetype": "text/x-python",
   "name": "python",
   "nbconvert_exporter": "python",
   "pygments_lexer": "ipython2",
   "version": "2.7.13"
  }
 },
 "nbformat": 4,
 "nbformat_minor": 0
}
