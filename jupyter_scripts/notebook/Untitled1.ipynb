{
 "cells": [
  {
   "cell_type": "code",
   "execution_count": 9,
   "metadata": {
    "collapsed": true
   },
   "outputs": [],
   "source": [
    "class FooBar:\n",
    "    def init(self):\n",
    "        self.somevar=100\n",
    "    def __init__(self):\n",
    "        self.somevar=18\n",
    "        "
   ]
  },
  {
   "cell_type": "code",
   "execution_count": 10,
   "metadata": {
    "collapsed": false
   },
   "outputs": [
    {
     "data": {
      "text/plain": [
       "18"
      ]
     },
     "execution_count": 10,
     "metadata": {},
     "output_type": "execute_result"
    }
   ],
   "source": [
    "f = FooBar()\n",
    "#f.init()\n",
    "f.somevar\n",
    "#print type(f.somevar)"
   ]
  },
  {
   "cell_type": "code",
   "execution_count": 21,
   "metadata": {
    "collapsed": false
   },
   "outputs": [],
   "source": [
    "class B(object):\n",
    "    def __init__(self):\n",
    "        self.hungry = True\n",
    "    def eat(self):\n",
    "        if self.hungry:\n",
    "            print 'eat'\n",
    "            self.hungry=False\n",
    "        else:\n",
    "            print 'dont eat'\n",
    "\n",
    "class SB(B):\n",
    "    def __init__(self):\n",
    "        #B.__init__(self) # we mannualy set the init fun of basic class\n",
    "        #super( SB, self ).__init__() # super used to handle all the basic classes' init\n",
    "        self.sound = 'cnmdskcj'\n",
    "    def sing(self):\n",
    "        print self.sound"
   ]
  },
  {
   "cell_type": "code",
   "execution_count": 22,
   "metadata": {
    "collapsed": false
   },
   "outputs": [
    {
     "name": "stdout",
     "output_type": "stream",
     "text": [
      "eat\n",
      "cnmdskcj\n",
      "eat\n"
     ]
    }
   ],
   "source": [
    "b = B()\n",
    "sb = SB()\n",
    "\n",
    "b.eat()\n",
    "sb.sing()\n",
    "sb.eat()"
   ]
  },
  {
   "cell_type": "code",
   "execution_count": 58,
   "metadata": {
    "collapsed": true
   },
   "outputs": [],
   "source": [
    "def checkIndex(key):\n",
    "    if not isinstance(key, (int,long)): \n",
    "        raise TypeError\n",
    "    if key <= 0:\n",
    "        raise IndexError\n",
    "\n",
    "class AS(object):\n",
    "    def __init__(self, start=0, step=1):\n",
    "        self.start = start\n",
    "        self.step = step\n",
    "        self.changed = { }\n",
    "        \n",
    "    def __getitem__(self, key):\n",
    "        checkIndex(key)\n",
    "        try:\n",
    "            return self.changed[key]\n",
    "        except KeyError:\n",
    "            return self.start + key*self.step\n",
    "    \n",
    "    def __setitem__(self, key, value):\n",
    "        checkIndex(key)\n",
    "        self.changed[key] = value\n",
    "        \n",
    "    def __delitem__(self, key):\n",
    "        checkIndex(key)\n",
    "        del self.changed[key]\n",
    "    \n",
    "    def fun1():\n",
    "        print 'OMG'"
   ]
  },
  {
   "cell_type": "code",
   "execution_count": 60,
   "metadata": {
    "collapsed": false
   },
   "outputs": [
    {
     "name": "stdout",
     "output_type": "stream",
     "text": [
      "9\n",
      "9\n",
      "2\n",
      "19\n",
      "{4: 2, 5: 6}\n",
      "<__main__.AS object at 0x2439790>\n",
      "{5: 6}\n",
      "201\n"
     ]
    },
    {
     "ename": "NameError",
     "evalue": "name 'step' is not defined",
     "output_type": "error",
     "traceback": [
      "\u001b[1;31m---------------------------------------------------------------------------\u001b[0m",
      "\u001b[1;31mNameError\u001b[0m                                 Traceback (most recent call last)",
      "\u001b[1;32m<ipython-input-60-66c5cd3e2cbe>\u001b[0m in \u001b[0;36m<module>\u001b[1;34m()\u001b[0m\n\u001b[0;32m     16\u001b[0m \u001b[0mfun1\u001b[0m \u001b[1;33m=\u001b[0m \u001b[1;36m100\u001b[0m\u001b[1;33m\u001b[0m\u001b[0m\n\u001b[0;32m     17\u001b[0m \u001b[1;32mprint\u001b[0m \u001b[0ms\u001b[0m\u001b[1;33m[\u001b[0m\u001b[0mfun1\u001b[0m\u001b[1;33m]\u001b[0m\u001b[1;33m\u001b[0m\u001b[0m\n\u001b[1;32m---> 18\u001b[1;33m \u001b[0ms\u001b[0m\u001b[1;33m[\u001b[0m\u001b[0mstep\u001b[0m\u001b[1;33m]\u001b[0m\u001b[1;33m\u001b[0m\u001b[0m\n\u001b[0m\u001b[0;32m     19\u001b[0m \u001b[1;33m\u001b[0m\u001b[0m\n\u001b[0;32m     20\u001b[0m \u001b[0ms\u001b[0m\u001b[1;33m[\u001b[0m\u001b[1;33m-\u001b[0m\u001b[1;36m2\u001b[0m\u001b[1;33m]\u001b[0m \u001b[1;33m=\u001b[0m \u001b[1;33m-\u001b[0m\u001b[1;36m2\u001b[0m\u001b[1;33m\u001b[0m\u001b[0m\n",
      "\u001b[1;31mNameError\u001b[0m: name 'step' is not defined"
     ]
    }
   ],
   "source": [
    "s = AS(1, 2)\n",
    "print s[4]\n",
    "print s.__getitem__(4)\n",
    "\n",
    "s[4] = 2\n",
    "s.__setitem__(5, 6)\n",
    "\n",
    "print s[4]\n",
    "print s[9]\n",
    "print s.changed\n",
    "print s\n",
    "\n",
    "del s[4]\n",
    "print s.changed\n",
    "\n",
    "fun1 = 100\n",
    "print s[fun1]\n",
    "s[step]\n",
    "\n",
    "s[-2] = -2\n",
    "\n",
    "\n"
   ]
  },
  {
   "cell_type": "code",
   "execution_count": null,
   "metadata": {
    "collapsed": true
   },
   "outputs": [],
   "source": []
  }
 ],
 "metadata": {
  "kernelspec": {
   "display_name": "Python 2",
   "language": "python",
   "name": "python2"
  },
  "language_info": {
   "codemirror_mode": {
    "name": "ipython",
    "version": 2
   },
   "file_extension": ".py",
   "mimetype": "text/x-python",
   "name": "python",
   "nbconvert_exporter": "python",
   "pygments_lexer": "ipython2",
   "version": "2.7.5"
  }
 },
 "nbformat": 4,
 "nbformat_minor": 0
}
