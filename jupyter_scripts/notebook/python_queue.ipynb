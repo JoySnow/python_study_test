{
 "cells": [
  {
   "cell_type": "code",
   "execution_count": 4,
   "metadata": {
    "collapsed": false
   },
   "outputs": [
    {
     "name": "stdout",
     "output_type": "stream",
     "text": [
      "begin....\n",
      "job qsize: 6\n",
      "doing 1  worktype  1\n",
      "doing 2  worktype  2\n",
      "doing 4  worktype  2\n",
      "doing 0  worktype  0\n",
      "doing 3  worktype  1\n",
      "doing 5  worktype  2\n"
     ]
    }
   ],
   "source": [
    "#coding:utf-8\n",
    "\n",
    "import Queue\n",
    "import threading\n",
    "import time\n",
    "import random\n",
    "\n",
    "q = Queue.Queue(0) #当有多个线程共享一个东西的时候就可以用它了\n",
    "NUM_WORKERS = 3\n",
    "\n",
    "class MyThread(threading.Thread):\n",
    "\n",
    "    def __init__(self,input,worktype):\n",
    "       self._jobq = input\n",
    "       self._work_type = worktype\n",
    "       threading.Thread.__init__(self)\n",
    "\n",
    "    def run(self):\n",
    "       while True:\n",
    "           if self._jobq.qsize() > 0:\n",
    "               self._process_job(self._jobq.get(),self._work_type)\n",
    "           else:break\n",
    "\n",
    "    def _process_job(self, job, worktype):\n",
    "       doJob(job,worktype)\n",
    "\n",
    "def doJob(job, worktype):\n",
    "    time.sleep(random.random() * 3)\n",
    "    print \"doing\",job,\" worktype \",worktype\n",
    "\n",
    "if __name__ == '__main__':\n",
    "    print \"begin....\"\n",
    "    for i in range(NUM_WORKERS * 2):\n",
    "       q.put(i) #放入到任务队列中去\n",
    "    print \"job qsize:\",q.qsize()\n",
    "\n",
    "    for x in range(NUM_WORKERS):\n",
    "       MyThread(q,x).start()"
   ]
  },
  {
   "cell_type": "code",
   "execution_count": null,
   "metadata": {
    "collapsed": true
   },
   "outputs": [],
   "source": []
  }
 ],
 "metadata": {
  "kernelspec": {
   "display_name": "Python 2",
   "language": "python",
   "name": "python2"
  },
  "language_info": {
   "codemirror_mode": {
    "name": "ipython",
    "version": 2
   },
   "file_extension": ".py",
   "mimetype": "text/x-python",
   "name": "python",
   "nbconvert_exporter": "python",
   "pygments_lexer": "ipython2",
   "version": "2.7.13"
  }
 },
 "nbformat": 4,
 "nbformat_minor": 0
}
