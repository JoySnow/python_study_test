{
 "cells": [
  {
   "cell_type": "code",
   "execution_count": null,
   "metadata": {
    "collapsed": true
   },
   "outputs": [],
   "source": [
    "# 一个对象的id值在CPython解释器里就代表它在内存中的地址（Python的c语言实现的解释器）。\n",
    "# 用is判断两个对象是否相等时，依据就是这个id值\n",
    "#is与==的区别就是，is是内存中的比较，而==是值的比较"
   ]
  },
  {
   "cell_type": "code",
   "execution_count": 1,
   "metadata": {
    "collapsed": false
   },
   "outputs": [
    {
     "name": "stdout",
     "output_type": "stream",
     "text": [
      "94347154247984\n",
      "94347154247960\n",
      "94347154247912\n"
     ]
    }
   ],
   "source": [
    "x = 4\n",
    "print id(x)\n",
    "y = 5\n",
    "print id(y)\n",
    "x = 7\n",
    "print id(x)"
   ]
  },
  {
   "cell_type": "code",
   "execution_count": 5,
   "metadata": {
    "collapsed": false
   },
   "outputs": [
    {
     "name": "stdout",
     "output_type": "stream",
     "text": [
      "<type 'list'>\n",
      "139713703472232\n",
      "94347154248056\n",
      "94347154248032\n",
      "94347154248008\n",
      "94347154247984\n",
      "94347154247960\n",
      "---------\n",
      "94347154249664\n",
      "139713703472232\n",
      "94347154248056\n",
      "94347154248032\n",
      "94347154249664\n",
      "94347154248008\n",
      "94347154247984\n",
      "94347154247960\n",
      "[1, 2, 100, 3, 4, 5]\n"
     ]
    }
   ],
   "source": [
    "a = [1,2,3,4,5]\n",
    "print type(a)\n",
    "\n",
    "print id(a)\n",
    "print id(a[0])\n",
    "print id(a[1])\n",
    "print id(a[2])\n",
    "print id(a[3])\n",
    "print id(a[4])\n",
    "\n",
    "print \"---------\"\n",
    "b = 100\n",
    "print id(b)\n",
    "a.insert(2,b)\n",
    "print id(a)\n",
    "print id(a[0])\n",
    "print id(a[1])\n",
    "print id(a[2])\n",
    "print id(a[3])\n",
    "print id(a[4])\n",
    "print id(a[5])\n",
    "\n",
    "print a"
   ]
  },
  {
   "cell_type": "code",
   "execution_count": 7,
   "metadata": {
    "collapsed": false
   },
   "outputs": [
    {
     "ename": "TypeError",
     "evalue": "<module '__builtin__' (built-in)> is a built-in class",
     "output_type": "error",
     "traceback": [
      "\u001b[0;31m---------------------------------------------------------------------------\u001b[0m",
      "\u001b[0;31mTypeError\u001b[0m                                 Traceback (most recent call last)",
      "\u001b[0;32m<ipython-input-7-5cf72aa94fc7>\u001b[0m in \u001b[0;36m<module>\u001b[0;34m()\u001b[0m\n\u001b[1;32m      1\u001b[0m \u001b[0;32mimport\u001b[0m \u001b[0minspect\u001b[0m\u001b[0;34m\u001b[0m\u001b[0m\n\u001b[1;32m      2\u001b[0m \u001b[0;31m# inspect.getsourcefile(object)\u001b[0m\u001b[0;34m\u001b[0m\u001b[0;34m\u001b[0m\u001b[0m\n\u001b[0;32m----> 3\u001b[0;31m \u001b[0minspect\u001b[0m\u001b[0;34m.\u001b[0m\u001b[0mgetsourcefile\u001b[0m\u001b[0;34m(\u001b[0m\u001b[0mlist\u001b[0m\u001b[0;34m)\u001b[0m\u001b[0;34m\u001b[0m\u001b[0m\n\u001b[0m",
      "\u001b[0;32m/usr/lib64/python2.7/inspect.pyc\u001b[0m in \u001b[0;36mgetsourcefile\u001b[0;34m(object)\u001b[0m\n\u001b[1;32m    442\u001b[0m     \u001b[0mReturn\u001b[0m \u001b[0mNone\u001b[0m \u001b[0;32mif\u001b[0m \u001b[0mno\u001b[0m \u001b[0mway\u001b[0m \u001b[0mcan\u001b[0m \u001b[0mbe\u001b[0m \u001b[0midentified\u001b[0m \u001b[0mto\u001b[0m \u001b[0mget\u001b[0m \u001b[0mthe\u001b[0m \u001b[0msource\u001b[0m\u001b[0;34m.\u001b[0m\u001b[0;34m\u001b[0m\u001b[0m\n\u001b[1;32m    443\u001b[0m     \"\"\"\n\u001b[0;32m--> 444\u001b[0;31m     \u001b[0mfilename\u001b[0m \u001b[0;34m=\u001b[0m \u001b[0mgetfile\u001b[0m\u001b[0;34m(\u001b[0m\u001b[0mobject\u001b[0m\u001b[0;34m)\u001b[0m\u001b[0;34m\u001b[0m\u001b[0m\n\u001b[0m\u001b[1;32m    445\u001b[0m     \u001b[0;32mif\u001b[0m \u001b[0mstring\u001b[0m\u001b[0;34m.\u001b[0m\u001b[0mlower\u001b[0m\u001b[0;34m(\u001b[0m\u001b[0mfilename\u001b[0m\u001b[0;34m[\u001b[0m\u001b[0;34m-\u001b[0m\u001b[0;36m4\u001b[0m\u001b[0;34m:\u001b[0m\u001b[0;34m]\u001b[0m\u001b[0;34m)\u001b[0m \u001b[0;32min\u001b[0m \u001b[0;34m(\u001b[0m\u001b[0;34m'.pyc'\u001b[0m\u001b[0;34m,\u001b[0m \u001b[0;34m'.pyo'\u001b[0m\u001b[0;34m)\u001b[0m\u001b[0;34m:\u001b[0m\u001b[0;34m\u001b[0m\u001b[0m\n\u001b[1;32m    446\u001b[0m         \u001b[0mfilename\u001b[0m \u001b[0;34m=\u001b[0m \u001b[0mfilename\u001b[0m\u001b[0;34m[\u001b[0m\u001b[0;34m:\u001b[0m\u001b[0;34m-\u001b[0m\u001b[0;36m4\u001b[0m\u001b[0;34m]\u001b[0m \u001b[0;34m+\u001b[0m \u001b[0;34m'.py'\u001b[0m\u001b[0;34m\u001b[0m\u001b[0m\n",
      "\u001b[0;32m/usr/lib64/python2.7/inspect.pyc\u001b[0m in \u001b[0;36mgetfile\u001b[0;34m(object)\u001b[0m\n\u001b[1;32m    406\u001b[0m         \u001b[0;32mif\u001b[0m \u001b[0mhasattr\u001b[0m\u001b[0;34m(\u001b[0m\u001b[0mobject\u001b[0m\u001b[0;34m,\u001b[0m \u001b[0;34m'__file__'\u001b[0m\u001b[0;34m)\u001b[0m\u001b[0;34m:\u001b[0m\u001b[0;34m\u001b[0m\u001b[0m\n\u001b[1;32m    407\u001b[0m             \u001b[0;32mreturn\u001b[0m \u001b[0mobject\u001b[0m\u001b[0;34m.\u001b[0m\u001b[0m__file__\u001b[0m\u001b[0;34m\u001b[0m\u001b[0m\n\u001b[0;32m--> 408\u001b[0;31m         \u001b[0;32mraise\u001b[0m \u001b[0mTypeError\u001b[0m\u001b[0;34m(\u001b[0m\u001b[0;34m'{!r} is a built-in class'\u001b[0m\u001b[0;34m.\u001b[0m\u001b[0mformat\u001b[0m\u001b[0;34m(\u001b[0m\u001b[0mobject\u001b[0m\u001b[0;34m)\u001b[0m\u001b[0;34m)\u001b[0m\u001b[0;34m\u001b[0m\u001b[0m\n\u001b[0m\u001b[1;32m    409\u001b[0m     \u001b[0;32mif\u001b[0m \u001b[0mismethod\u001b[0m\u001b[0;34m(\u001b[0m\u001b[0mobject\u001b[0m\u001b[0;34m)\u001b[0m\u001b[0;34m:\u001b[0m\u001b[0;34m\u001b[0m\u001b[0m\n\u001b[1;32m    410\u001b[0m         \u001b[0mobject\u001b[0m \u001b[0;34m=\u001b[0m \u001b[0mobject\u001b[0m\u001b[0;34m.\u001b[0m\u001b[0mim_func\u001b[0m\u001b[0;34m\u001b[0m\u001b[0m\n",
      "\u001b[0;31mTypeError\u001b[0m: <module '__builtin__' (built-in)> is a built-in class"
     ]
    }
   ],
   "source": [
    "import inspect\n",
    "# inspect.getsourcefile(object)\n",
    "inspect.getsourcefile(list)"
   ]
  },
  {
   "cell_type": "code",
   "execution_count": null,
   "metadata": {
    "collapsed": true
   },
   "outputs": [],
   "source": []
  },
  {
   "cell_type": "code",
   "execution_count": 8,
   "metadata": {
    "collapsed": false
   },
   "outputs": [
    {
     "name": "stdout",
     "output_type": "stream",
     "text": [
      "{'h1': {'vdsm_status': 'upgraded', 'host_type': u'rhel', 'CPU_A': 'set_not_1', 'rhel_version': 'el6', 'vdsm_version': u'vdsm-4.16.30-2.el6ev'}, 'h5': {'vdsm_status': 'upgraded', 'host_type': u'rhev-h', 'CPU_A': 'set_1', 'rhel_version': 'el6', 'vdsm_version': u'vdsm-4.16.23-2.el6ev'}}\n",
      "139817560655304\n",
      "139817560715344\n",
      "139817560715624\n",
      "139817560717584\n",
      "True\n",
      "True\n"
     ]
    }
   ],
   "source": [
    "# test dict's mem space using\n",
    "HOSTS_DICT = {\n",
    "    'hypervisor01.redhat.com': {'vdsm_status': 'upgraded', 'rhel_version': 'el6', 'CPU_A': 'set_not_1', 'host_type': u'rhel', 'vdsm_version': u'vdsm-4.16.30-2.el6ev'},\n",
    "    'hypervisor05.redhat.com': {'vdsm_status': 'upgraded', 'rhel_version': 'el6', 'CPU_A': 'set_1', 'host_type': u'rhev-h', 'vdsm_version': u'vdsm-4.16.23-2.el6ev'},\n",
    "    'hypervisor04.redhat.com': {'vdsm_status': 'not_upgraded', 'rhel_version': 'el6', 'CPU_A': 'not_set', 'host_type': u'rhev-h', 'vdsm_version': u'vdsm-4.16.23-2.el6ev'},\n",
    "    'hypervisor02.redhat.com': {'vdsm_status': 'not_upgraded', 'rhel_version': 'el7', 'CPU_A': 'not_set', 'host_type': u'rhev-h', 'vdsm_version': u'vdsm-4.17.19-2.el7ev'},\n",
    "    'hypervisor03.redhat.com': {'vdsm_status': 'upgraded', 'rhel_version': 'el7', 'CPU_A': 'set_not_1', 'host_type': u'rhev-h', 'vdsm_version': u'vdsm-4.17.20-2.el7ev'}\n",
    "}\n",
    "new_dict = {\n",
    "    \"h1\": HOSTS_DICT['hypervisor01.redhat.com'],\n",
    "    \"h5\": HOSTS_DICT['hypervisor05.redhat.com']\n",
    "}\n",
    "print new_dict\n",
    "print id(new_dict)\n",
    "print id(HOSTS_DICT)\n",
    "print id(HOSTS_DICT['hypervisor01.redhat.com'])\n",
    "print id(HOSTS_DICT['hypervisor05.redhat.com'])\n",
    "print id(HOSTS_DICT['hypervisor01.redhat.com']) == id(new_dict[\"h1\"])\n",
    "print HOSTS_DICT['hypervisor01.redhat.com'] is new_dict[\"h1\"]"
   ]
  },
  {
   "cell_type": "code",
   "execution_count": null,
   "metadata": {
    "collapsed": true
   },
   "outputs": [],
   "source": []
  }
 ],
 "metadata": {
  "kernelspec": {
   "display_name": "Python 2",
   "language": "python",
   "name": "python2"
  },
  "language_info": {
   "codemirror_mode": {
    "name": "ipython",
    "version": 2
   },
   "file_extension": ".py",
   "mimetype": "text/x-python",
   "name": "python",
   "nbconvert_exporter": "python",
   "pygments_lexer": "ipython2",
   "version": "2.7.12"
  }
 },
 "nbformat": 4,
 "nbformat_minor": 0
}
