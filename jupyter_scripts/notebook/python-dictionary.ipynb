{
 "cells": [
  {
   "cell_type": "code",
   "execution_count": 1,
   "metadata": {
    "collapsed": true
   },
   "outputs": [],
   "source": [
    "# dictionary"
   ]
  },
  {
   "cell_type": "code",
   "execution_count": 22,
   "metadata": {
    "collapsed": false
   },
   "outputs": [
    {
     "name": "stdout",
     "output_type": "stream",
     "text": [
      "{'haha': 'zxcv', 'what': 'qwer', 'hehe': 'asdf', 101: 'one', 'one': 2}\n",
      "one zxcv\n",
      "{'what': 'qwer', 101: 'one', 'this': 'is', 'haha': 'zxcv', 'one': 1, 'hehe': 'asdf'}\n",
      "{101: 'one', 'this': 'is', 'haha': 'zxcv', 'one': 1, 'hehe': 'asdf'}\n",
      "{}\n"
     ]
    },
    {
     "ename": "NameError",
     "evalue": "name 'dict0' is not defined",
     "output_type": "error",
     "traceback": [
      "\u001b[1;31m---------------------------------------------------------------------------\u001b[0m",
      "\u001b[1;31mNameError\u001b[0m                                 Traceback (most recent call last)",
      "\u001b[1;32m<ipython-input-22-3d7c64122c4d>\u001b[0m in \u001b[0;36m<module>\u001b[1;34m()\u001b[0m\n\u001b[0;32m     16\u001b[0m \u001b[1;33m\u001b[0m\u001b[0m\n\u001b[0;32m     17\u001b[0m \u001b[1;32mdel\u001b[0m \u001b[0mdict0\u001b[0m\u001b[1;33m\u001b[0m\u001b[0m\n\u001b[1;32m---> 18\u001b[1;33m \u001b[1;32mprint\u001b[0m \u001b[0mdict0\u001b[0m\u001b[1;33m\u001b[0m\u001b[0m\n\u001b[0m",
      "\u001b[1;31mNameError\u001b[0m: name 'dict0' is not defined"
     ]
    }
   ],
   "source": [
    "dict0 = { 'hehe':'asdf', 'haha':'zxcv', 'what':'qwer', 101:'one', 'one':2 }\n",
    "\n",
    "print dict0\n",
    "print dict0[101], dict0['haha']\n",
    "\n",
    "dict0['one'] = 1\n",
    "dict0['this'] = 'is'\n",
    "\n",
    "print dict0\n",
    "\n",
    "del dict0['what']\n",
    "print dict0\n",
    "\n",
    "dict0.clear()\n",
    "print dict0\n",
    "\n",
    "del dict0\n",
    "print dict0"
   ]
  },
  {
   "cell_type": "code",
   "execution_count": 18,
   "metadata": {
    "collapsed": false
   },
   "outputs": [
    {
     "ename": "TypeError",
     "evalue": "unhashable type: 'list'",
     "output_type": "error",
     "traceback": [
      "\u001b[1;31m---------------------------------------------------------------------------\u001b[0m",
      "\u001b[1;31mTypeError\u001b[0m                                 Traceback (most recent call last)",
      "\u001b[1;32m<ipython-input-18-0f8a93d69b6d>\u001b[0m in \u001b[0;36m<module>\u001b[1;34m()\u001b[0m\n\u001b[1;32m----> 1\u001b[1;33m \u001b[0mdict1\u001b[0m \u001b[1;33m=\u001b[0m \u001b[1;33m{\u001b[0m\u001b[1;33m[\u001b[0m\u001b[1;34m'Name'\u001b[0m\u001b[1;33m]\u001b[0m\u001b[1;33m:\u001b[0m \u001b[1;34m'Zara'\u001b[0m\u001b[1;33m,\u001b[0m \u001b[1;34m'Age'\u001b[0m\u001b[1;33m:\u001b[0m \u001b[1;36m7\u001b[0m\u001b[1;33m}\u001b[0m\u001b[1;33m\u001b[0m\u001b[0m\n\u001b[0m\u001b[0;32m      2\u001b[0m \u001b[1;32mprint\u001b[0m \u001b[0mdict1\u001b[0m\u001b[1;33m\u001b[0m\u001b[0m\n",
      "\u001b[1;31mTypeError\u001b[0m: unhashable type: 'list'"
     ]
    }
   ],
   "source": [
    "# the keys must not be identity, and unchangeable, \n",
    "# so, list can not be keys, while tuples do well.\n",
    "\n",
    "dict1 = {['Name']: 'Zara', 'Age': 7}\n",
    "print dict1"
   ]
  },
  {
   "cell_type": "code",
   "execution_count": 16,
   "metadata": {
    "collapsed": false
   },
   "outputs": [
    {
     "name": "stdout",
     "output_type": "stream",
     "text": [
      "{'Age': 7, 'Name': 'Zara'}\n",
      "Zara\n",
      "{'Age': 7, ('Name', 'date'): 'Zara'}\n",
      "Zara\n"
     ]
    }
   ],
   "source": [
    "dict2 = {('Name'): 'Zara', 'Age': 7}\n",
    "print dict2\n",
    "print dict2['Name']\n",
    "\n",
    "dict3 = {('Name', 'date'): 'Zara', 'Age': 7}\n",
    "print dict3\n",
    "print dict3[ ('Name', 'date') ]"
   ]
  },
  {
   "cell_type": "code",
   "execution_count": 35,
   "metadata": {
    "collapsed": false
   },
   "outputs": [
    {
     "name": "stdout",
     "output_type": "stream",
     "text": [
      "{'Age': 7, 'Name': 'Zara'}\n",
      "{'Age': 7, 'Name': 'Zara'}\n",
      "<type 'dict'>\n",
      "<type 'str'>\n",
      "<type 'int'> <type 'long'> <type 'float'> <type 'complex'>\n",
      "<type 'tuple'> <type 'list'>\n"
     ]
    }
   ],
   "source": [
    "dict4 = {('Name'): 'Zara', 'Age': 7}\n",
    "print str(dict4)\n",
    "print dict4\n",
    "\n",
    "print type(dict4)\n",
    "print type('ehehe')\n",
    "print type(1), type(1L), type(1.23), type(1+1j)\n",
    "print type( (1,2,3) ), type( [1,2,3] ) "
   ]
  },
  {
   "cell_type": "code",
   "execution_count": 3,
   "metadata": {
    "collapsed": false
   },
   "outputs": [
    {
     "name": "stdout",
     "output_type": "stream",
     "text": [
      "{'haha': 'zxcv', 'what': 'qwer', 'hehe': 'asdf', 101: 'one', 'one': 2}\n",
      "{'hehe': 'asdf', 'what': 'qwer', 'haha': 'zxcv', 101: 'one', 'one': 2}\n",
      "140582406363128\n",
      "140582405862016\n",
      "{}\n",
      "{'hehe': 'asdf', 'what': 'qwer', 'haha': 'zxcv', 101: 'one', 'one': 2}\n"
     ]
    }
   ],
   "source": [
    "dict5 = { 'hehe':'asdf', 'haha':'zxcv', 'what':'qwer', 101:'one', 'one':2 }\n",
    "print dict5\n",
    "\n",
    "dict6 = dict5.copy() # shallow copy\n",
    "print dict6\n",
    "\n",
    "print id(dict5)\n",
    "print id(dict6)\n",
    "\n",
    "dict5.clear()\n",
    "print dict5\n",
    "print dict6"
   ]
  },
  {
   "cell_type": "code",
   "execution_count": 52,
   "metadata": {
    "collapsed": false
   },
   "outputs": [
    {
     "name": "stdout",
     "output_type": "stream",
     "text": [
      "{'age': None, 'name': None, 'sex': None}\n",
      "{'age': 10, 'name': 10, 'sex': 10}\n",
      "asdf\n",
      "{'age': 10, 'name': 10, 'sex': 10}\n",
      "{'age': 10, 'hehe': 'zxcv', 'name': 10, 'sex': 10}\n",
      "True\n"
     ]
    }
   ],
   "source": [
    "seq = ('name', 'age', 'sex')\n",
    "\n",
    "dict7 = dict.fromkeys(seq)\n",
    "print str(dict7)\n",
    "\n",
    "dict8 = dict.fromkeys(seq, 10)\n",
    "print str(dict8)\n",
    "\n",
    "print dict8.get('hehe', 'asdf')\n",
    "print dict8\n",
    "\n",
    "dict8.setdefault( 'age', '100' )\n",
    "dict8.setdefault( 'hehe', 'zxcv')\n",
    "print dict8\n",
    "\n",
    "print dict8.has_key('hehe')"
   ]
  },
  {
   "cell_type": "code",
   "execution_count": 53,
   "metadata": {
    "collapsed": false
   },
   "outputs": [
    {
     "name": "stdout",
     "output_type": "stream",
     "text": [
      "None\n",
      "[10, 10, 10, 'zxcv']\n",
      "['name', 'age', 'sex', 'hehe']\n",
      "[('name', 10), ('age', 10), ('sex', 10), ('hehe', 'zxcv')]\n"
     ]
    }
   ],
   "source": [
    "print dict9.update( dict8 )\n",
    "\n",
    "print dict9.values()\n",
    "print dict9.keys()\n",
    "print dict9.items()\n"
   ]
  },
  {
   "cell_type": "code",
   "execution_count": 1,
   "metadata": {
    "collapsed": false
   },
   "outputs": [
    {
     "name": "stdout",
     "output_type": "stream",
     "text": [
      "{0: 0, 2: 1, 3: 4, 4: 3}\n",
      "{0: 0, 2: 1, 3: 4, 4: 3}\n",
      "{0: 0, 2: 1, 3: 4, 4: 3}\n",
      "{0: 0, 1: 2, 2: 1, 3: 4, 4: 3}\n"
     ]
    },
    {
     "data": {
      "text/plain": [
       "'\\n\\xe8\\xbe\\x93\\xe5\\x87\\xba:\\n{0: 0, 2: 1, 3: 4, 4: 3}\\n{0: 0, 2: 1, 3: 4, 4: 3}\\n{0: 0, 2: 1, 3: 4, 4: 3}\\n{0: 0, 1: 2, 2: 1, 3: 4, 4: 3}\\n'"
      ]
     },
     "execution_count": 1,
     "metadata": {},
     "output_type": "execute_result"
    }
   ],
   "source": [
    "def remove_key(d, key):\n",
    "    r = dict(d)\n",
    "    del r[key]\n",
    "    return r\n",
    "\n",
    "\n",
    "x = {1: 2, 3: 4, 4: 3, 2: 1, 0: 0}\n",
    "x.pop(1)\n",
    "print x\n",
    "\n",
    "x = {1: 2, 3: 4, 4: 3, 2: 1, 0: 0}\n",
    "del x[1]\n",
    "print x\n",
    "\n",
    "x = {1: 2, 3: 4, 4: 3, 2: 1, 0: 0}\n",
    "print remove_key(x, 1)\n",
    "print x\n",
    "\n",
    "\"\"\"\n",
    "输出:\n",
    "{0: 0, 2: 1, 3: 4, 4: 3}\n",
    "{0: 0, 2: 1, 3: 4, 4: 3}\n",
    "{0: 0, 2: 1, 3: 4, 4: 3}\n",
    "{0: 0, 1: 2, 2: 1, 3: 4, 4: 3}\n",
    "\"\"\""
   ]
  },
  {
   "cell_type": "code",
   "execution_count": null,
   "metadata": {
    "collapsed": true
   },
   "outputs": [],
   "source": []
  }
 ],
 "metadata": {
  "kernelspec": {
   "display_name": "Python 2",
   "language": "python",
   "name": "python2"
  },
  "language_info": {
   "codemirror_mode": {
    "name": "ipython",
    "version": 2
   },
   "file_extension": ".py",
   "mimetype": "text/x-python",
   "name": "python",
   "nbconvert_exporter": "python",
   "pygments_lexer": "ipython2",
   "version": "2.7.13"
  }
 },
 "nbformat": 4,
 "nbformat_minor": 0
}
