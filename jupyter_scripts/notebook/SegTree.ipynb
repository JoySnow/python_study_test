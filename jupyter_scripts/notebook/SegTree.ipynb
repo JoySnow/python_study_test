{
 "cells": [
  {
   "cell_type": "code",
   "execution_count": 15,
   "metadata": {
    "collapsed": false
   },
   "outputs": [],
   "source": [
    "#code\n",
    "import math\n",
    "\n",
    "def getMid(s, e):\n",
    "    return (s + e) / 2\n",
    "    #return s + (e - s)/2\n",
    "\n",
    "# A recursive function that constructs Segment Tree for array[ss..se].\n",
    "# si is index of current node in segment tree st\n",
    "def constructSTUtil(arr, ss, se, st, si):\n",
    "    print \"Cons: ss=%d, se=%d, si=%d  \", ss, se, si\n",
    "    print \"Cons: st=%d \", st\n",
    "    # If there is one element in array, store it in current node of\n",
    "    # segment tree and return\n",
    "    if ss == se:\n",
    "        print \"a LEAF: r \", arr[ss]\n",
    "        st[si] = arr[ss]\n",
    "        return arr[ss]\n",
    "\n",
    "    # If there are more than one elements, then recur for left and\n",
    "    # right subtrees and store the sum of values in this node\n",
    "    mid = getMid(ss, se)\n",
    "    print \"mid: \", mid\n",
    "    st[si] = constructSTUtil(arr, ss, mid, st, si*2+1) + constructSTUtil(arr, mid+1, se, st, si*2+2)\n",
    "    return st[si]\n",
    "\n",
    "\n",
    "def constructST(arr, n):\n",
    "    \"\"\"\n",
    "    Function to construct segment tree from given array. This function\n",
    "    allocates memory for segment tree and calls constructSTUtil() to\n",
    "    fill the allocated memory\n",
    "    \"\"\"\n",
    "\t# Allocate memory for the segment tree\n",
    "\n",
    "\t# Height of segment tree\n",
    "    h = int(math.ceil(math.log(n,2)))\n",
    "    \n",
    "\t# Maximum size of segment tree\n",
    "    max_size = 2 * int(math.pow(2, h)) - 1\n",
    "    print n, h, max_size\n",
    "\t# Allocate memory\n",
    "    st = [0] * max_size\n",
    "\n",
    "\t# Fill the allocated memory st\n",
    "    constructSTUtil(arr, 0, n-1, st, 0)\n",
    "\n",
    "\t# Return the constructed segment tree\n",
    "    return st\n",
    "    \n",
    "def getSum(st, ss, se, l, r):\n",
    "    if l <= ss <= se <=  r: \n",
    "        return st[0]\n",
    "    elif r < 0 or l > n-1:\n",
    "        return 0\n",
    "    else:\n",
    "        mid = getMid(ss, se)\n",
    "        if mid >= r: # go left child\n",
    "            return getSum(st, ss, mid, l, r)\n",
    "        elif l >= mid: # go right child\n",
    "            return getSum(st, mid, se, l, r)\n",
    "        else:\n",
    "            return getSum(st, ss, mid, l, r) + getSum(st, mid+1, se, l, r)\n",
    " \n",
    " "
   ]
  },
  {
   "cell_type": "code",
   "execution_count": 16,
   "metadata": {
    "collapsed": false
   },
   "outputs": [
    {
     "name": "stdout",
     "output_type": "stream",
     "text": [
      "6 3 15\n",
      "Cons: ss=%d, se=%d, si=%d   0 5 0\n",
      "Cons: st=%d  [0, 0, 0, 0, 0, 0, 0, 0, 0, 0, 0, 0, 0, 0, 0]\n",
      "mid:  2\n",
      "Cons: ss=%d, se=%d, si=%d   0 2 1\n",
      "Cons: st=%d  [0, 0, 0, 0, 0, 0, 0, 0, 0, 0, 0, 0, 0, 0, 0]\n",
      "mid:  1\n",
      "Cons: ss=%d, se=%d, si=%d   0 1 3\n",
      "Cons: st=%d  [0, 0, 0, 0, 0, 0, 0, 0, 0, 0, 0, 0, 0, 0, 0]\n",
      "mid:  0\n",
      "Cons: ss=%d, se=%d, si=%d   0 0 7\n",
      "Cons: st=%d  [0, 0, 0, 0, 0, 0, 0, 0, 0, 0, 0, 0, 0, 0, 0]\n",
      "a LEAF: r  1\n",
      "Cons: ss=%d, se=%d, si=%d   1 1 8\n",
      "Cons: st=%d  [0, 0, 0, 0, 0, 0, 0, 1, 0, 0, 0, 0, 0, 0, 0]\n",
      "a LEAF: r  3\n",
      "Cons: ss=%d, se=%d, si=%d   2 2 4\n",
      "Cons: st=%d  [0, 0, 0, 4, 0, 0, 0, 1, 3, 0, 0, 0, 0, 0, 0]\n",
      "a LEAF: r  5\n",
      "Cons: ss=%d, se=%d, si=%d   3 5 2\n",
      "Cons: st=%d  [0, 9, 0, 4, 5, 0, 0, 1, 3, 0, 0, 0, 0, 0, 0]\n",
      "mid:  4\n",
      "Cons: ss=%d, se=%d, si=%d   3 4 5\n",
      "Cons: st=%d  [0, 9, 0, 4, 5, 0, 0, 1, 3, 0, 0, 0, 0, 0, 0]\n",
      "mid:  3\n",
      "Cons: ss=%d, se=%d, si=%d   3 3 11\n",
      "Cons: st=%d  [0, 9, 0, 4, 5, 0, 0, 1, 3, 0, 0, 0, 0, 0, 0]\n",
      "a LEAF: r  7\n",
      "Cons: ss=%d, se=%d, si=%d   4 4 12\n",
      "Cons: st=%d  [0, 9, 0, 4, 5, 0, 0, 1, 3, 0, 0, 7, 0, 0, 0]\n",
      "a LEAF: r  9\n",
      "Cons: ss=%d, se=%d, si=%d   5 5 6\n",
      "Cons: st=%d  [0, 9, 0, 4, 5, 16, 0, 1, 3, 0, 0, 7, 9, 0, 0]\n",
      "a LEAF: r  11\n",
      "RES:  [36, 9, 27, 4, 5, 16, 11, 1, 3, 0, 0, 7, 9, 0, 0]\n",
      "sum of values in array from index 1 to 3:  72\n"
     ]
    }
   ],
   "source": [
    "# Driver program to test above functions\n",
    "arr = [1, 3, 5, 7, 9, 11]\n",
    "n = len(arr)\n",
    "\n",
    "# Build segment tree from given array\n",
    "st = constructST(arr, n)\n",
    "print \"RES: \", st\n",
    "\n",
    "print \"sum of values in array from index 1 to 3: \", getSum(st, 0, n-1, 1, 3)\n",
    "\n",
    "# \t// Update: set arr[1] = 10 and update corresponding \n",
    "# \t// segment tree nodes\n",
    "# \tupdateValue(arr, st, n, 1, 10);\n",
    "\n",
    "# \t// Find sum after the value is updated\n",
    "# \tprintf(\"Updated sum of values in given range = %dn\",\n",
    "# \t\t\tgetSum(st, n, 1, 3));\n"
   ]
  },
  {
   "cell_type": "code",
   "execution_count": null,
   "metadata": {
    "collapsed": true
   },
   "outputs": [],
   "source": []
  }
 ],
 "metadata": {
  "kernelspec": {
   "display_name": "Python 2",
   "language": "python",
   "name": "python2"
  },
  "language_info": {
   "codemirror_mode": {
    "name": "ipython",
    "version": 2
   },
   "file_extension": ".py",
   "mimetype": "text/x-python",
   "name": "python",
   "nbconvert_exporter": "python",
   "pygments_lexer": "ipython2",
   "version": "2.7.13"
  }
 },
 "nbformat": 4,
 "nbformat_minor": 0
}
