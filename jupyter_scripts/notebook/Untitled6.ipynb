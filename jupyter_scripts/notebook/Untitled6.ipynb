{
 "cells": [
  {
   "cell_type": "code",
   "execution_count": 5,
   "metadata": {
    "collapsed": false
   },
   "outputs": [
    {
     "data": {
      "text/plain": [
       "[{'backend_driver': 'keystone.identity.backends.hybrid_identity',\n",
       "  'hostname': 'cont_id_3.hostname'},\n",
       " {'backend_driver': 'keystone.identity.backends.hybrid_identity',\n",
       "  'hostname': 'ont_id_4.hostname'}]"
      ]
     },
     "execution_count": 5,
     "metadata": {},
     "output_type": "execute_result"
    }
   ],
   "source": [
    "unsupported_driver_list=[{                                               \n",
    "            'hostname': \"cont_id_3.hostname\",                                                                                                                                                              \n",
    "            'backend_driver': 'keystone.identity.backends.hybrid_identity'       \n",
    "       }, {                                                                     \n",
    "            'hostname': \"ont_id_4.hostname\",\n",
    "           'backend_driver': 'keystone.identity.backends.hybrid_identity'       \n",
    "        }]  \n",
    "\n",
    "unsupported_driver_list"
   ]
  },
  {
   "cell_type": "code",
   "execution_count": 8,
   "metadata": {
    "collapsed": false
   },
   "outputs": [
    {
     "ename": "KeyError",
     "evalue": "'keystone.identity.backends.hybrid_identity'",
     "output_type": "error",
     "traceback": [
      "\u001b[0;31m---------------------------------------------------------------------------\u001b[0m",
      "\u001b[0;31mKeyError\u001b[0m                                  Traceback (most recent call last)",
      "\u001b[0;32m<ipython-input-8-f634655b9be8>\u001b[0m in \u001b[0;36m<module>\u001b[0;34m()\u001b[0m\n\u001b[1;32m      1\u001b[0m \u001b[0mdriver_map\u001b[0m \u001b[0;34m=\u001b[0m \u001b[0;34m{\u001b[0m\u001b[0;34m}\u001b[0m\u001b[0;34m\u001b[0m\u001b[0m\n\u001b[1;32m      2\u001b[0m \u001b[0;32mfor\u001b[0m \u001b[0msingle_map\u001b[0m \u001b[0;32min\u001b[0m \u001b[0munsupported_driver_list\u001b[0m\u001b[0;34m:\u001b[0m\u001b[0;34m\u001b[0m\u001b[0m\n\u001b[0;32m----> 3\u001b[0;31m     \u001b[0mdriver_map\u001b[0m\u001b[0;34m[\u001b[0m\u001b[0msingle_map\u001b[0m\u001b[0;34m[\u001b[0m\u001b[0;34m\"backend_driver\"\u001b[0m\u001b[0;34m]\u001b[0m\u001b[0;34m]\u001b[0m\u001b[0;34m.\u001b[0m\u001b[0madd\u001b[0m\u001b[0;34m(\u001b[0m\u001b[0msingle_map\u001b[0m\u001b[0;34m[\u001b[0m\u001b[0;34m\"hostname\"\u001b[0m\u001b[0;34m]\u001b[0m\u001b[0;34m)\u001b[0m\u001b[0;34m\u001b[0m\u001b[0m\n\u001b[0m",
      "\u001b[0;31mKeyError\u001b[0m: 'keystone.identity.backends.hybrid_identity'"
     ]
    }
   ],
   "source": [
    "driver_map = {}\n",
    "for single_map in unsupported_driver_list:                                   \n",
    "    driver_map[single_map[\"backend_driver\"]].add(single_map[\"hostname\"])"
   ]
  },
  {
   "cell_type": "code",
   "execution_count": 19,
   "metadata": {
    "collapsed": false
   },
   "outputs": [
    {
     "name": "stdout",
     "output_type": "stream",
     "text": [
      "{'vfdsvfdvs': 'abv c f'}\n"
     ]
    }
   ],
   "source": [
    "result = {}\n",
    "line = \" vfdsvfdvs  abv c f \"\n",
    "#line = line.strip()\n",
    "if ' ' in line:\n",
    "    k, rest = line.split(' ', 1)\n",
    "    result[k.strip()] = rest.strip()\n",
    "print result"
   ]
  },
  {
   "cell_type": "code",
   "execution_count": null,
   "metadata": {
    "collapsed": true
   },
   "outputs": [],
   "source": []
  }
 ],
 "metadata": {
  "kernelspec": {
   "display_name": "Python 2",
   "language": "python",
   "name": "python2"
  },
  "language_info": {
   "codemirror_mode": {
    "name": "ipython",
    "version": 2
   },
   "file_extension": ".py",
   "mimetype": "text/x-python",
   "name": "python",
   "nbconvert_exporter": "python",
   "pygments_lexer": "ipython2",
   "version": "2.7.12"
  }
 },
 "nbformat": 4,
 "nbformat_minor": 0
}
