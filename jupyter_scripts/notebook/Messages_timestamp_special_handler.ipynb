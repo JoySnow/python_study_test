{
 "cells": [
  {
   "cell_type": "code",
   "execution_count": 8,
   "metadata": {
    "collapsed": true
   },
   "outputs": [],
   "source": [
    "import re\n",
    "def get_timestamp(line, regex=re.compile(r'^\\S+\\s+\\d+\\s+\\d+:\\d+:\\d+')):\n",
    "    \"\"\"\n",
    "    Matches and returns a timestamp from a /var/log/messages file\n",
    "    \"\"\"\n",
    "    timestamp_matcher = regex.match(line)\n",
    "    if timestamp_matcher:\n",
    "        return timestamp_matcher.group()\n"
   ]
  },
  {
   "cell_type": "code",
   "execution_count": 9,
   "metadata": {
    "collapsed": true
   },
   "outputs": [],
   "source": [
    "MSG = \"\"\"\n",
    "Dec 20 23:56:12 localhost NetworkManager[856]: <info>  [1483199772.7273] device (wlp4s0): supplicant interface state: scanning -> inactive\n",
    "Dec 31 23:56:12 localhost NetworkManager[856]: <info>  [1483199772.7273] device (wlp4s0): supplicant interface state: scanning -> inactive\n",
    "Dec 31 23:56:13 localhost NetworkManager[856]: <info>  [1483199773.7570] device (wlp4s0): supplicant interface state: inactive -> scanning\n",
    "Dec 31 23:57:15 localhost NetworkManager[856]: <info>  [1483199835.7355] device (wlp4s0): supplicant interface state: scanning -> inactive\n",
    "Dec 31 23:57:16 localhost NetworkManager[856]: <info>  [1483199836.8827] device (wlp4s0): supplicant interface state: inactive -> scanning\n",
    "Dec 31 23:58:18 localhost NetworkManager[856]: <info>  [1483199898.7343] device (wlp4s0): supplicant interface state: scanning -> inactive\n",
    "Dec 31 23:58:21 localhost NetworkManager[856]: <info>  [1483199901.8400] device (wlp4s0): supplicant interface state: inactive -> scanning\n",
    "Dec 31 23:59:21 localhost NetworkManager[856]: <info>  [1483199961.7353] device (wlp4s0): supplicant interface state: scanning -> inactive\n",
    "Dec 31 23:59:22 localhost NetworkManager[856]: <info>  [1483199962.7651] device (wlp4s0): supplicant interface state: inactive -> scanning\n",
    "Jan  1 00:00:04 localhost systemd: Starting update of the root trust anchor for DNSSEC validation in unbound...\n",
    "Jan  1 00:00:04 localhost systemd: Started Update a database for mlocate.\n",
    "Jan  1 00:00:04 localhost audit: SERVICE_START pid=1 uid=0 auid=4294967295 ses=4294967295 subj=system_u:system_r:init_t:s0 msg='unit=mlocate-updatedb comm=\"systemd\" exe=\"/usr/lib/systemd/systemd\" hostname=? addr=? terminal=? res=success'\n",
    "Jan  1 00:00:04 localhost audit: SERVICE_STOP pid=1 uid=0 auid=4294967295 ses=4294967295 subj=system_u:system_r:init_t:s0 msg='unit=mlocate-updatedb comm=\"systemd\" exe=\"/usr/lib/systemd/systemd\" hostname=? addr=? terminal=? res=success'\n",
    "Jan  1 00:00:06 localhost systemd: Started update of the root trust anchor for DNSSEC validation in unbound.\n",
    "Jan  1 00:00:06 localhost audit: SERVICE_START pid=1 uid=0 auid=4294967295 ses=4294967295 subj=system_u:system_r:init_t:s0 msg='unit=unbound-anchor comm=\"systemd\" exe=\"/usr/lib/systemd/systemd\" hostname=? addr=? terminal=? res=success'\n",
    "Jan  1 00:00:06 localhost audit: SERVICE_STOP pid=1 uid=0 auid=4294967295 ses=4294967295 subj=system_u:system_r:init_t:s0 msg='unit=unbound-anchor comm=\"systemd\" exe=\"/usr/lib/systemd/systemd\" hostname=? addr=? terminal=? res=success'\n",
    "Jan  1 00:00:24 localhost NetworkManager[856]: <info>  [1483200024.7375] device (wlp4s0): supplicant interface state: scanning -> inactive\n",
    "Jan  1 00:00:25 localhost NetworkManager[856]: <info>  [1483200025.7684] device (wlp4s0): supplicant interface state: inactive -> scanning\n",
    "Jan  1 00:01:27 localhost NetworkManager[856]: <info>  [1483200087.7338] device (wlp4s0): supplicant interface state: scanning -> inactive\n",
    "Jan  1 00:01:28 localhost NetworkManager[856]: <info>  [1483200088.7627] device (wlp4s0): supplicant interface state: inactive -> scanning\n",
    "\"\"\".strip()"
   ]
  },
  {
   "cell_type": "code",
   "execution_count": 12,
   "metadata": {
    "collapsed": false
   },
   "outputs": [
    {
     "name": "stdout",
     "output_type": "stream",
     "text": [
      "key_ts: 1899-12-25 00:01:28\n",
      "1900-01-01 00:01:28\n",
      "right ts...\n",
      "1900-01-01 00:01:27\n",
      "right ts...\n",
      "1900-01-01 00:00:25\n",
      "right ts...\n",
      "1900-01-01 00:00:24\n",
      "right ts...\n",
      "1900-01-01 00:00:06\n",
      "right ts...\n",
      "1900-01-01 00:00:06\n",
      "right ts...\n",
      "1900-01-01 00:00:06\n",
      "right ts...\n",
      "1900-01-01 00:00:04\n",
      "right ts...\n",
      "1900-01-01 00:00:04\n",
      "right ts...\n",
      "1900-01-01 00:00:04\n",
      "right ts...\n",
      "1900-01-01 00:00:04\n",
      "right ts...\n",
      "1900-12-31 23:59:22\n",
      "right ts...\n",
      "1900-12-31 23:59:21\n",
      "right ts...\n",
      "1900-12-31 23:58:21\n",
      "right ts...\n",
      "1900-12-31 23:58:18\n",
      "right ts...\n",
      "1900-12-31 23:57:16\n",
      "right ts...\n",
      "1900-12-31 23:57:15\n",
      "right ts...\n",
      "1900-12-31 23:56:13\n",
      "right ts...\n",
      "1900-12-31 23:56:12\n",
      "right ts...\n",
      "1900-12-20 23:56:12\n",
      "outdata ts...\n"
     ]
    }
   ],
   "source": [
    "from datetime import datetime, timedelta\n",
    "\n",
    "FORMAT = \"%b %d %H:%M:%S\"\n",
    "\n",
    "t2 = \"Dec 26 03:38:01\"\n",
    "#FORMAT = \"\"\n",
    "ts2 = datetime.strptime(t2, FORMAT)\n",
    "#ts123 = datetime.strptime(t1, \"%c\")\n",
    "ts3 = datetime(1970,1,1)\n",
    "\n",
    "#print ts3\n",
    "\n",
    "#print ts2\n",
    "#print ts2 + timedelta(days=366)\n",
    "\n",
    "msg = MSG.split('\\n')\n",
    "end_ts = datetime.strptime(get_timestamp(msg[-1]), FORMAT)\n",
    "key_ts = end_ts - timedelta(days=7)\n",
    "print \"key_ts:\", key_ts\n",
    "\n",
    "\n",
    "#print type(msg)\n",
    "for l in msg[::-1]:\n",
    "    #print l\n",
    "    ts = datetime.strptime(get_timestamp(l), FORMAT)\n",
    "    print ts\n",
    "    if ts > end_ts:\n",
    "        ts -= timedelta(days=365)\n",
    "    if ts  >=  key_ts:\n",
    "        print \"right ts...\"\n",
    "    else:\n",
    "        print \"outdata ts...\"\n",
    "        break\n",
    "\n",
    "#if ts123 > ts234: print \"en\"\n",
    "#last_line = [l if \"systemd\" in l for l in libvirtd_lines[::-1] else None]\n",
    "\n"
   ]
  },
  {
   "cell_type": "code",
   "execution_count": null,
   "metadata": {
    "collapsed": true
   },
   "outputs": [],
   "source": []
  }
 ],
 "metadata": {
  "kernelspec": {
   "display_name": "Python 2",
   "language": "python",
   "name": "python2"
  },
  "language_info": {
   "codemirror_mode": {
    "name": "ipython",
    "version": 2
   },
   "file_extension": ".py",
   "mimetype": "text/x-python",
   "name": "python",
   "nbconvert_exporter": "python",
   "pygments_lexer": "ipython2",
   "version": "2.7.12"
  }
 },
 "nbformat": 4,
 "nbformat_minor": 0
}
