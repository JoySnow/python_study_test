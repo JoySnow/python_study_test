{
 "cells": [
  {
   "cell_type": "code",
   "execution_count": null,
   "metadata": {
    "collapsed": true
   },
   "outputs": [],
   "source": []
  },
  {
   "cell_type": "code",
   "execution_count": 1,
   "metadata": {
    "collapsed": false
   },
   "outputs": [
    {
     "name": "stdout",
     "output_type": "stream",
     "text": [
      "调用子类构造方法\n",
      "调用子类方法 child method\n",
      "调用父类方法\n",
      "父类属性 : 200\n",
      "fun in child\n",
      "(<class __main__.Parent at 0x7fdd2c06e460>,)\n",
      "{'fun': <function fun at 0x7fdd2c057c08>, '__module__': '__main__', 'childMethod': <function childMethod at 0x7fdd2c057b90>, '__init__': <function __init__ at 0x7fdd2c057b18>, '__doc__': None}\n",
      "fun in child\n",
      "140588256877888\n"
     ]
    }
   ],
   "source": [
    "class Parent:        # 定义父类\n",
    "    parentAttr = 100\n",
    "    def __init__(self):\n",
    "        print \"调用父类构造函数\"\n",
    "\n",
    "    def parentMethod(self):\n",
    "        print '调用父类方法'\n",
    "    \n",
    "    def fun(self):\n",
    "        print \"fun in parent\"\n",
    "    \n",
    "    def setAttr(self, attr):\n",
    "        Parent.parentAttr = attr\n",
    "\n",
    "    def getAttr(self):\n",
    "        print \"父类属性 :\", Parent.parentAttr\n",
    "\n",
    "class Child(Parent): # 定义子类\n",
    "    def __init__(self):\n",
    "        print \"调用子类构造方法\"\n",
    "        #Parent.__init__(self)\n",
    "\n",
    "    def childMethod(self):\n",
    "        print '调用子类方法 child method'\n",
    "        \n",
    "    def fun(self):\n",
    "        print \"fun in child\"\n",
    "\n",
    "c = Child()          # 实例化子类\n",
    "c.childMethod()      # 调用子类的方法\n",
    "c.parentMethod()     # 调用父类方法\n",
    "c.setAttr(200)       # 再次调用父类的方法\n",
    "c.getAttr()          # 再次调用父类的方法\n",
    "c.fun()\n",
    "print Child.__bases__\n",
    "print Child.__dict__\n",
    "print id(c.fun())"
   ]
  },
  {
   "cell_type": "code",
   "execution_count": 15,
   "metadata": {
    "collapsed": false
   },
   "outputs": [
    {
     "name": "stdout",
     "output_type": "stream",
     "text": [
      "调用子类构造方法\n",
      "['__doc__', '__init__', '__module__', 'childMethod', 'fun', 'getAttr', 'parentAttr', 'parentMethod', 'setAttr']\n",
      "str(object='') -> string\n",
      "\n",
      "Return a nice string representation of the object.\n",
      "If the argument is a string, the return value is the same object.\n",
      "{}\n",
      "Child\n",
      "__main__.Child\n",
      "<type 'classobj'>\n"
     ]
    }
   ],
   "source": [
    "c = Child()          # 实例化子类\n",
    "print dir(c)\n",
    "print c.__module__.__doc__\n",
    "print c.__dict__\n",
    "import sys\n",
    "sys.modules[__name__]\n",
    "print Child.__name__\n",
    "print c.__class__\n",
    "print type(c.__class__)"
   ]
  },
  {
   "cell_type": "code",
   "execution_count": null,
   "metadata": {
    "collapsed": true
   },
   "outputs": [],
   "source": []
  },
  {
   "cell_type": "code",
   "execution_count": 13,
   "metadata": {
    "collapsed": false
   },
   "outputs": [
    {
     "name": "stdout",
     "output_type": "stream",
     "text": [
      "1\n",
      "2\n",
      "2\n"
     ]
    },
    {
     "ename": "AttributeError",
     "evalue": "JustCounter instance has no attribute '__secretCount'",
     "output_type": "error",
     "traceback": [
      "\u001b[1;31m---------------------------------------------------------------------------\u001b[0m",
      "\u001b[1;31mAttributeError\u001b[0m                            Traceback (most recent call last)",
      "\u001b[1;32m<ipython-input-13-e8f9c09b7454>\u001b[0m in \u001b[0;36m<module>\u001b[1;34m()\u001b[0m\n\u001b[0;32m     12\u001b[0m \u001b[0mcounter\u001b[0m\u001b[1;33m.\u001b[0m\u001b[0mcount\u001b[0m\u001b[1;33m(\u001b[0m\u001b[1;33m)\u001b[0m\u001b[1;33m\u001b[0m\u001b[0m\n\u001b[0;32m     13\u001b[0m \u001b[1;32mprint\u001b[0m \u001b[0mcounter\u001b[0m\u001b[1;33m.\u001b[0m\u001b[0mpublicCount\u001b[0m\u001b[1;33m\u001b[0m\u001b[0m\n\u001b[1;32m---> 14\u001b[1;33m \u001b[1;32mprint\u001b[0m \u001b[0mcounter\u001b[0m\u001b[1;33m.\u001b[0m\u001b[0m__secretCount\u001b[0m  \u001b[1;31m# 报错，实例不能访问私有变量\u001b[0m\u001b[1;33m\u001b[0m\u001b[0m\n\u001b[0m",
      "\u001b[1;31mAttributeError\u001b[0m: JustCounter instance has no attribute '__secretCount'"
     ]
    }
   ],
   "source": [
    "class JustCounter:\n",
    "    __secretCount = 0  # 私有变量\n",
    "    publicCount = 0    # 公开变量\n",
    "\n",
    "    def count(self):\n",
    "        self.__secretCount += 1\n",
    "        self.publicCount += 1\n",
    "        print self.__secretCount\n",
    "\n",
    "counter = JustCounter()\n",
    "counter.count()\n",
    "counter.count()\n",
    "print counter.publicCount\n",
    "print counter.__secretCount  # 报错，实例不能访问私有变量"
   ]
  },
  {
   "cell_type": "code",
   "execution_count": 14,
   "metadata": {
    "collapsed": false
   },
   "outputs": [
    {
     "name": "stdout",
     "output_type": "stream",
     "text": [
      "hehehehehe\n",
      "hehe\n"
     ]
    }
   ],
   "source": [
    "name = raw_input()\n",
    "if name.endswith('hehe'):\n",
    "    print 'hehe'\n",
    "else:\n",
    "    print 'heng'\n"
   ]
  },
  {
   "cell_type": "code",
   "execution_count": 17,
   "metadata": {
    "collapsed": false
   },
   "outputs": [
    {
     "name": "stdout",
     "output_type": "stream",
     "text": [
      "10251184 10251184\n",
      "a==b\n",
      "is\n",
      "25097136 25097136 25842464\n"
     ]
    }
   ],
   "source": [
    "a = 10\n",
    "b = 10\n",
    "print id(a), id(b)\n",
    "\n",
    "if a==b :\n",
    "    print 'a==b'\n",
    "if a is b:\n",
    "    print 'is'\n",
    "\n",
    "x = y = [1,2,3]\n",
    "z = [1,2,3]\n",
    "print id(x), id(y), id(z)"
   ]
  },
  {
   "cell_type": "code",
   "execution_count": 19,
   "metadata": {
    "collapsed": false
   },
   "outputs": [
    {
     "ename": "AssertionError",
     "evalue": "hehe",
     "output_type": "error",
     "traceback": [
      "\u001b[1;31m---------------------------------------------------------------------------\u001b[0m",
      "\u001b[1;31mAssertionError\u001b[0m                            Traceback (most recent call last)",
      "\u001b[1;32m<ipython-input-19-f14e5ca06af0>\u001b[0m in \u001b[0;36m<module>\u001b[1;34m()\u001b[0m\n\u001b[0;32m      1\u001b[0m \u001b[0mage\u001b[0m \u001b[1;33m=\u001b[0m \u001b[1;33m-\u001b[0m\u001b[1;36m10\u001b[0m\u001b[1;33m\u001b[0m\u001b[0m\n\u001b[1;32m----> 2\u001b[1;33m \u001b[1;32massert\u001b[0m \u001b[1;36m0\u001b[0m \u001b[1;33m<\u001b[0m \u001b[0mage\u001b[0m \u001b[1;33m<\u001b[0m \u001b[1;36m100\u001b[0m\u001b[1;33m,\u001b[0m \u001b[1;34m'hehe'\u001b[0m\u001b[1;33m\u001b[0m\u001b[0m\n\u001b[0m",
      "\u001b[1;31mAssertionError\u001b[0m: hehe"
     ]
    }
   ],
   "source": [
    "age = -10\n",
    "assert 0 < age < 100, 'hehe'\n"
   ]
  },
  {
   "cell_type": "code",
   "execution_count": 23,
   "metadata": {
    "collapsed": false
   },
   "outputs": [
    {
     "name": "stdout",
     "output_type": "stream",
     "text": [
      "[('Rob', 17), ('Jon', 17), ('Sansa', 11), ('Arya', 9), ('Bran', 7)]\n",
      "when the story begin, the kids of Stark's are still young. \n",
      "At that time, \n",
      "Rob is 17 years old\n",
      "Jon is 17 years old\n",
      "Sansa is 11 years old\n",
      "Arya is 9 years old\n",
      "Bran is 7 years old\n"
     ]
    }
   ],
   "source": [
    "names = ['Rob', 'Jon', 'Sansa', 'Arya', 'Bran']\n",
    "ages = [17, 17, 11, 9, 7]\n",
    "print zip(names, ages)\n",
    "\n",
    "print 'when the story begin, the kids of Stark\\'s are still young. \\nAt that time, '\n",
    "for name, age in zip(names, ages):\n",
    "    print name, 'is', age, 'years old'"
   ]
  },
  {
   "cell_type": "code",
   "execution_count": 27,
   "metadata": {
    "collapsed": false
   },
   "outputs": [
    {
     "data": {
      "text/plain": [
       "xrange(1000)"
      ]
     },
     "execution_count": 27,
     "metadata": {},
     "output_type": "execute_result"
    }
   ],
   "source": [
    "xrange(1000)"
   ]
  },
  {
   "cell_type": "code",
   "execution_count": 32,
   "metadata": {
    "collapsed": false
   },
   "outputs": [
    {
     "name": "stdout",
     "output_type": "stream",
     "text": [
      "[0, 1, 4, 9, 16, 25, 36, 49, 64, 81]\n",
      "[0, 9, 36, 81]\n",
      "[(0, 0), (0, 1), (0, 2), (1, 0), (1, 1), (1, 2), (2, 0), (2, 1), (2, 2)]\n"
     ]
    }
   ],
   "source": [
    "print [ x*x for x in xrange(10) ]\n",
    "\n",
    "print [ x*x for x in xrange(10) if x % 3 == 0 ]\n",
    "\n",
    "print [ (x,y) for x in range(3) for y in range(3) ]\n"
   ]
  },
  {
   "cell_type": "code",
   "execution_count": 34,
   "metadata": {
    "collapsed": false
   },
   "outputs": [
    {
     "name": "stdout",
     "output_type": "stream",
     "text": [
      "[0, 1, 1, 2, 3, 5, 8, 13, 21, 34]\n"
     ]
    }
   ],
   "source": [
    "fibs = [0, 1]\n",
    "for i in range(8):\n",
    "    fibs.append( fibs[-1] + fibs[-2] )\n",
    "    \n",
    "print fibs"
   ]
  },
  {
   "cell_type": "code",
   "execution_count": null,
   "metadata": {
    "collapsed": true
   },
   "outputs": [],
   "source": []
  },
  {
   "cell_type": "code",
   "execution_count": 3,
   "metadata": {
    "collapsed": false
   },
   "outputs": [],
   "source": [
    "class HasSomeThing_v1():\n",
    "    \n",
    "    def __init__(self):\n",
    "        self.data = {'a': 123, 'b': 234, 'c': 'haha'}\n",
    "    \n",
    "class HasSomeThing_v2():\n",
    "    \n",
    "    def __init__(self):\n",
    "        self.data = {'a': 123, 'b': 234, 'c': 'haha'}\n",
    "        \n",
    "    def get(key):\n",
    "        return self.data.get(key)\n",
    "    \n",
    "class HasSomeThing_v3():\n",
    "    \n",
    "    def __init__(self):\n",
    "        self.data = {'a': 123, 'b': 234, 'c': 'haha'}\n",
    "        \n",
    "    def __get__(key):\n",
    "        return self.data.get(key)"
   ]
  },
  {
   "cell_type": "code",
   "execution_count": 6,
   "metadata": {
    "collapsed": false
   },
   "outputs": [
    {
     "ename": "AttributeError",
     "evalue": "HasSomeThing_v1 instance has no attribute '__getitem__'",
     "output_type": "error",
     "traceback": [
      "\u001b[0;31m---------------------------------------------------------------------------\u001b[0m",
      "\u001b[0;31mAttributeError\u001b[0m                            Traceback (most recent call last)",
      "\u001b[0;32m<ipython-input-6-ddfee50ce608>\u001b[0m in \u001b[0;36m<module>\u001b[0;34m()\u001b[0m\n\u001b[1;32m      1\u001b[0m \u001b[0mhst1\u001b[0m \u001b[0;34m=\u001b[0m \u001b[0mHasSomeThing_v1\u001b[0m\u001b[0;34m(\u001b[0m\u001b[0;34m)\u001b[0m\u001b[0;34m\u001b[0m\u001b[0m\n\u001b[0;32m----> 2\u001b[0;31m \u001b[0;32mprint\u001b[0m \u001b[0mhst1\u001b[0m\u001b[0;34m[\u001b[0m\u001b[0;34m'a'\u001b[0m\u001b[0;34m]\u001b[0m\u001b[0;34m\u001b[0m\u001b[0m\n\u001b[0m\u001b[1;32m      3\u001b[0m \u001b[0;32mprint\u001b[0m \u001b[0mhst1\u001b[0m\u001b[0;34m.\u001b[0m\u001b[0mget\u001b[0m\u001b[0;34m(\u001b[0m\u001b[0;34m'what'\u001b[0m\u001b[0;34m)\u001b[0m\u001b[0;34m\u001b[0m\u001b[0m\n\u001b[1;32m      4\u001b[0m \u001b[0;34m\u001b[0m\u001b[0m\n\u001b[1;32m      5\u001b[0m \u001b[0mhst2\u001b[0m \u001b[0;34m=\u001b[0m \u001b[0mHasSomeThing_v2\u001b[0m\u001b[0;34m(\u001b[0m\u001b[0;34m)\u001b[0m\u001b[0;34m\u001b[0m\u001b[0m\n",
      "\u001b[0;31mAttributeError\u001b[0m: HasSomeThing_v1 instance has no attribute '__getitem__'"
     ]
    }
   ],
   "source": [
    "hst1 = HasSomeThing_v1()\n",
    "print hst1['a']\n",
    "print hst1.get('what')\n",
    "\n",
    "hst2 = HasSomeThing_v2()\n",
    "print hst2.get('a')\n",
    "print hst2.get('what')\n",
    "\n",
    "hst3 = HasSomeThing_v3()\n",
    "print hst3.get('a')\n",
    "print hst3.get('what')"
   ]
  },
  {
   "cell_type": "code",
   "execution_count": 12,
   "metadata": {
    "collapsed": false
   },
   "outputs": [
    {
     "name": "stdout",
     "output_type": "stream",
     "text": [
      "None\n"
     ]
    }
   ],
   "source": [
    "d = {'a': 123, 'b': 234, 'c': 'haha'}\n",
    "\n",
    "print d.get('aa')\n",
    "\n",
    "for x in d.get('cc', []):\n",
    "    print x"
   ]
  },
  {
   "cell_type": "code",
   "execution_count": null,
   "metadata": {
    "collapsed": true
   },
   "outputs": [],
   "source": []
  }
 ],
 "metadata": {
  "kernelspec": {
   "display_name": "Python 2",
   "language": "python",
   "name": "python2"
  },
  "language_info": {
   "codemirror_mode": {
    "name": "ipython",
    "version": 2
   },
   "file_extension": ".py",
   "mimetype": "text/x-python",
   "name": "python",
   "nbconvert_exporter": "python",
   "pygments_lexer": "ipython2",
   "version": "2.7.13"
  }
 },
 "nbformat": 4,
 "nbformat_minor": 0
}
