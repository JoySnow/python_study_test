{
 "cells": [
  {
   "cell_type": "code",
   "execution_count": null,
   "metadata": {
    "collapsed": true
   },
   "outputs": [],
   "source": [
    "# https://docs.python.org/2/library/tarfile.html"
   ]
  },
  {
   "cell_type": "code",
   "execution_count": 3,
   "metadata": {
    "collapsed": false
   },
   "outputs": [
    {
     "name": "stdout",
     "output_type": "stream",
     "text": [
      "/tmp/mmmmm/soserpot [] ['c', 'b', 'a']\n",
      "/tmp/mmmmm/soserpot/c\n",
      "added\n",
      "/tmp/mmmmm/soserpot/b\n",
      "added\n",
      "/tmp/mmmmm/soserpot/a\n",
      "added\n"
     ]
    }
   ],
   "source": [
    "import tarfile, os\n",
    "# remake these files please, deleted.\n",
    "path = \"/tmp/mmmmm/sample.tar\"\n",
    "\n",
    "dir_path = \"/tmp/mmmmm/soserpot\"\n",
    "\n",
    "tar = tarfile.open(path, \"w\")\n",
    "\n",
    "for root, dirs, files in os.walk(dir_path):\n",
    "    print root, dirs, files\n",
    "    for fn in files:\n",
    "        if fn in [\"a\", \"b\", \"c\"]:\n",
    "            fpath = root + '/' + fn\n",
    "            print fpath\n",
    "            tar.add(fpath)\n",
    "            print \"added\"\n",
    "tar.close()"
   ]
  },
  {
   "cell_type": "code",
   "execution_count": null,
   "metadata": {
    "collapsed": true
   },
   "outputs": [],
   "source": []
  }
 ],
 "metadata": {
  "kernelspec": {
   "display_name": "Python 2",
   "language": "python",
   "name": "python2"
  },
  "language_info": {
   "codemirror_mode": {
    "name": "ipython",
    "version": 2
   },
   "file_extension": ".py",
   "mimetype": "text/x-python",
   "name": "python",
   "nbconvert_exporter": "python",
   "pygments_lexer": "ipython2",
   "version": "2.7.13"
  }
 },
 "nbformat": 4,
 "nbformat_minor": 0
}
