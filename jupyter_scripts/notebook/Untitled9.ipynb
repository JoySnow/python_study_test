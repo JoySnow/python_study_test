{
 "cells": [
  {
   "cell_type": "code",
   "execution_count": 5,
   "metadata": {
    "collapsed": true
   },
   "outputs": [],
   "source": [
    "import re\n",
    "\n",
    "def _mangle_command(command, name_max=255):\n",
    "    \"\"\"                           \n",
    "    Mangle the command name, lifted from sos\n",
    "    \"\"\"                                          \n",
    "    mangledname = re.sub(r\"^/(usr/|)(bin|sbin)/\", \"\", command)\n",
    "    mangledname = re.sub(r\"[^\\w\\-\\.\\/]+\", \"_\", mangledname)\n",
    "    mangledname = re.sub(r\"/\", \".\", mangledname).strip(\" ._-\")\n",
    "    mangledname = mangledname[0:name_max]\n",
    "    return mangledname  \n"
   ]
  },
  {
   "cell_type": "code",
   "execution_count": 6,
   "metadata": {
    "collapsed": false
   },
   "outputs": [
    {
     "name": "stdout",
     "output_type": "stream",
     "text": [
      "find_.etc.origin.node_.etc.origin.master_.etc.pki_-type_f_-exec_.usr.bin.openssl_x509_-noout_-enddate_-in_-exec_echo_2_.dev.null\n"
     ]
    }
   ],
   "source": [
    "cmd = \"/usr/bin/find /etc/origin/node /etc/origin/master /etc/pki -type f -exec /usr/bin/openssl x509 -noout -enddate -in '{}' \\; -exec echo '{}' \\; 2>/dev/null\"\n",
    "\n",
    "print _mangle_command(cmd)"
   ]
  },
  {
   "cell_type": "code",
   "execution_count": null,
   "metadata": {
    "collapsed": true
   },
   "outputs": [],
   "source": []
  }
 ],
 "metadata": {
  "kernelspec": {
   "display_name": "Python 2",
   "language": "python",
   "name": "python2"
  },
  "language_info": {
   "codemirror_mode": {
    "name": "ipython",
    "version": 2
   },
   "file_extension": ".py",
   "mimetype": "text/x-python",
   "name": "python",
   "nbconvert_exporter": "python",
   "pygments_lexer": "ipython2",
   "version": "2.7.12"
  }
 },
 "nbformat": 4,
 "nbformat_minor": 0
}
