{
 "cells": [
  {
   "cell_type": "code",
   "execution_count": 4,
   "metadata": {
    "collapsed": true
   },
   "outputs": [],
   "source": [
    "# refer to http://blog.csdn.net/handsomekang/article/details/46830083"
   ]
  },
  {
   "cell_type": "markdown",
   "metadata": {},
   "source": [
    "#各类docstring风格"
   ]
  },
  {
   "cell_type": "code",
   "execution_count": 5,
   "metadata": {
    "collapsed": false
   },
   "outputs": [
    {
     "data": {
      "text/plain": [
       "'\\nThis is a javadoc style.\\n\\n@param param1: this is a first param\\n@param param2: this is a second param\\n@return: this is a description of what is returned\\n@raise keyError: raises an exception\\n'"
      ]
     },
     "execution_count": 5,
     "metadata": {},
     "output_type": "execute_result"
    }
   ],
   "source": [
    "#Epytext\n",
    "\n",
    "#这是曾经比较流行的一直类似于javadoc的风格。\n",
    "\n",
    "\"\"\"\n",
    "This is a javadoc style.\n",
    "\n",
    "@param param1: this is a first param\n",
    "@param param2: this is a second param\n",
    "@return: this is a description of what is returned\n",
    "@raise keyError: raises an exception\n",
    "\"\"\"\n"
   ]
  },
  {
   "cell_type": "code",
   "execution_count": 6,
   "metadata": {
    "collapsed": false
   },
   "outputs": [
    {
     "data": {
      "text/plain": [
       "'\\nThis is a reST style.\\n\\n:param param1: this is a first param\\n:param param2: this is a second param\\n:returns: this is a description of what is returned\\n:raises keyError: raises an exception\\n'"
      ]
     },
     "execution_count": 6,
     "metadata": {},
     "output_type": "execute_result"
    }
   ],
   "source": [
    "#reST\n",
    "#\n",
    "#这是现在流行的一种风格，reST风格，Sphinx的御用格式。我个人也是喜欢用这种风格，比较紧凑。\n",
    "\n",
    "\"\"\"\n",
    "This is a reST style.\n",
    "\n",
    ":param param1: this is a first param\n",
    ":param param2: this is a second param\n",
    ":returns: this is a description of what is returned\n",
    ":raises keyError: raises an exception\n",
    "\"\"\""
   ]
  },
  {
   "cell_type": "code",
   "execution_count": 8,
   "metadata": {
    "collapsed": false
   },
   "outputs": [
    {
     "ename": "SyntaxError",
     "evalue": "invalid syntax (<ipython-input-8-39b29b35c715>, line 27)",
     "output_type": "error",
     "traceback": [
      "\u001b[0;36m  File \u001b[0;32m\"<ipython-input-8-39b29b35c715>\"\u001b[0;36m, line \u001b[0;32m27\u001b[0m\n\u001b[0;31m    \"\"\"Google风格\u001b[0m\n\u001b[0m               \n^\u001b[0m\n\u001b[0;31mSyntaxError\u001b[0m\u001b[0;31m:\u001b[0m invalid syntax\n"
     ]
    }
   ],
   "source": [
    "#Google风格\n",
    "\n",
    "\"\"\"\n",
    "This is a groups style docs.\n",
    "\n",
    "Parameters:\n",
    "    param1 - this is the first param\n",
    "    param2 - this is a second param\n",
    "\n",
    "Returns:\n",
    "    This is a description of what is returned\n",
    "\n",
    "Raises:\n",
    "    KeyError - raises an exception\n",
    "\"\"\""
   ]
  },
  {
   "cell_type": "code",
   "execution_count": 9,
   "metadata": {
    "collapsed": false
   },
   "outputs": [
    {
     "data": {
      "text/plain": [
       "\"\\nMy numpydoc description of a kind\\nof very exhautive numpydoc format docstring.\\n\\nParameters\\n----------\\nfirst : array_like\\n    the 1st param name `first`\\nsecond :\\n    the 2nd param\\nthird : {'value', 'other'}, optional\\n    the 3rd param, by default 'value'\\n\\nReturns\\n-------\\nstring\\n    a value in a string\\n\\nRaises\\n------\\nKeyError\\n    when a key error\\nOtherError\\n    when an other error\\n\""
      ]
     },
     "execution_count": 9,
     "metadata": {},
     "output_type": "execute_result"
    }
   ],
   "source": [
    "#Numpydoc (Numpy风格)\n",
    "\n",
    "\"\"\"\n",
    "My numpydoc description of a kind\n",
    "of very exhautive numpydoc format docstring.\n",
    "\n",
    "Parameters\n",
    "----------\n",
    "first : array_like\n",
    "    the 1st param name `first`\n",
    "second :\n",
    "    the 2nd param\n",
    "third : {'value', 'other'}, optional\n",
    "    the 3rd param, by default 'value'\n",
    "\n",
    "Returns\n",
    "-------\n",
    "string\n",
    "    a value in a string\n",
    "\n",
    "Raises\n",
    "------\n",
    "KeyError\n",
    "    when a key error\n",
    "OtherError\n",
    "    when an other error\n",
    "\"\"\""
   ]
  },
  {
   "cell_type": "code",
   "execution_count": null,
   "metadata": {
    "collapsed": true
   },
   "outputs": [],
   "source": []
  }
 ],
 "metadata": {
  "kernelspec": {
   "display_name": "Python 2",
   "language": "python",
   "name": "python2"
  },
  "language_info": {
   "codemirror_mode": {
    "name": "ipython",
    "version": 2
   },
   "file_extension": ".py",
   "mimetype": "text/x-python",
   "name": "python",
   "nbconvert_exporter": "python",
   "pygments_lexer": "ipython2",
   "version": "2.7.12"
  }
 },
 "nbformat": 4,
 "nbformat_minor": 0
}
