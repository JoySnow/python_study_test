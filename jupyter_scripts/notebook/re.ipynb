{
 "cells": [
  {
   "cell_type": "code",
   "execution_count": 1,
   "metadata": {
    "collapsed": true
   },
   "outputs": [],
   "source": [
    "import re\n",
    "line = \"Status of node 'rabbit@overcloud-controller-0' ...\""
   ]
  },
  {
   "cell_type": "code",
   "execution_count": 8,
   "metadata": {
    "collapsed": false
   },
   "outputs": [],
   "source": [
    "matchObj = re.match( r'Status of nodecds \\'(.*)\\' ...', line)"
   ]
  },
  {
   "cell_type": "code",
   "execution_count": 9,
   "metadata": {
    "collapsed": false
   },
   "outputs": [
    {
     "ename": "AttributeError",
     "evalue": "'NoneType' object has no attribute 'group'",
     "output_type": "error",
     "traceback": [
      "\u001b[0;31m---------------------------------------------------------------------------\u001b[0m",
      "\u001b[0;31mAttributeError\u001b[0m                            Traceback (most recent call last)",
      "\u001b[0;32m<ipython-input-9-fe3d47503c6d>\u001b[0m in \u001b[0;36m<module>\u001b[0;34m()\u001b[0m\n\u001b[0;32m----> 1\u001b[0;31m \u001b[0mmatchObj\u001b[0m\u001b[0;34m.\u001b[0m\u001b[0mgroup\u001b[0m\u001b[0;34m(\u001b[0m\u001b[0;34m)\u001b[0m\u001b[0;34m\u001b[0m\u001b[0m\n\u001b[0m",
      "\u001b[0;31mAttributeError\u001b[0m: 'NoneType' object has no attribute 'group'"
     ]
    }
   ],
   "source": [
    "matchObj.group()"
   ]
  },
  {
   "cell_type": "code",
   "execution_count": 10,
   "metadata": {
    "collapsed": false
   },
   "outputs": [
    {
     "ename": "AttributeError",
     "evalue": "'NoneType' object has no attribute 'group'",
     "output_type": "error",
     "traceback": [
      "\u001b[0;31m---------------------------------------------------------------------------\u001b[0m",
      "\u001b[0;31mAttributeError\u001b[0m                            Traceback (most recent call last)",
      "\u001b[0;32m<ipython-input-10-9098c9505dfe>\u001b[0m in \u001b[0;36m<module>\u001b[0;34m()\u001b[0m\n\u001b[0;32m----> 1\u001b[0;31m \u001b[0mmatchObj\u001b[0m\u001b[0;34m.\u001b[0m\u001b[0mgroup\u001b[0m\u001b[0;34m(\u001b[0m\u001b[0;36m1\u001b[0m\u001b[0;34m)\u001b[0m\u001b[0;34m\u001b[0m\u001b[0m\n\u001b[0m",
      "\u001b[0;31mAttributeError\u001b[0m: 'NoneType' object has no attribute 'group'"
     ]
    }
   ],
   "source": [
    "matchObj.group(1)"
   ]
  },
  {
   "cell_type": "code",
   "execution_count": 11,
   "metadata": {
    "collapsed": false
   },
   "outputs": [
    {
     "name": "stdout",
     "output_type": "stream",
     "text": [
      "None\n"
     ]
    }
   ],
   "source": [
    "print matchObj"
   ]
  },
  {
   "cell_type": "code",
   "execution_count": 95,
   "metadata": {
    "collapsed": false
   },
   "outputs": [],
   "source": [
    "content = \"\"\"\n",
    "Status of node 'rabbit@overcloud-controller-2' ...\n",
    "[{pid,4087},\n",
    " {running_applications,[{rabbit,\"RabbitMQ\",\"3.3.5\"},\n",
    "                        {os_mon,\"CPO  CXC 138 46\",\"2.2.14\"},\n",
    "                        {mnesia,\"MNESIA  CXC 138 12\",\"4.11\"},\n",
    "                        {xmerl,\"XML parser\",\"1.3.6\"},\n",
    "                        {sasl,\"SASL  CXC 138 11\",\"2.3.4\"},\n",
    "                        {stdlib,\"ERTS  CXC 138 10\",\"1.19.4\"},\n",
    "                        {kernel,\"ERTS  CXC 138 10\",\"2.16.4\"}]},\n",
    " {os,{unix,linux}},\n",
    " {erlang_version,\"Erlang R16B03-1 (erts-5.10.4) [source] [64-bit] [smp:32:32] [async-threads:30] [hipe] [kernel-poll:true]\\n\"},\n",
    " {memory,[{total,996824472},\n",
    "          {connection_procs,39042152},\n",
    "          {queue_procs,37838200},\n",
    "          {plugins,0},\n",
    "          {other_proc,15338592},\n",
    "          {mnesia,7740960},\n",
    "          {mgmt_db,0},\n",
    "          {msg_index,1318936},\n",
    "          {other_ets,2626760},\n",
    "          {binary,859726712},\n",
    "          {code,16696010},\n",
    "          {atom,2378065},\n",
    "          {other_system,14118085}]},\n",
    " {alarms,[]},\n",
    " {listeners,[{clustering,35672,\"::\"},{amqp,5672,\"172.31.11.16\"}]},\n",
    " {vm_memory_high_watermark,0.4},\n",
    " {vm_memory_limit,26943271731},\n",
    " {disk_free_limit,50000000},\n",
    " {disk_free,257304219648},\n",
    " {file_descriptors,[{total_limit,3996},\n",
    "                    {total_used,835},\n",
    "                    {sockets_limit,3594},\n",
    "                    {sockets_used,833}]},\n",
    " {processes,[{limit,1048576},{used,13607}]},\n",
    " {run_queue,0},\n",
    " {uptime,3075474}]\n",
    "\n",
    "Cluster status of node 'rabbit@overcloud-controller-2' ...\n",
    "[{nodes,[{disc,['rabbit@overcloud-controller-0',\n",
    "                'rabbit@overcloud-controller-1',\n",
    "                'rabbit@overcloud-controller-2']}]},\n",
    " {running_nodes,['rabbit@overcloud-controller-0',\n",
    "                 'rabbit@overcloud-controller-1',\n",
    "                 'rabbit@overcloud-controller-2']},\n",
    " {cluster_name,<<\"rabbit@overcloud-controller-0.localdomain\">>},\n",
    " {partitions,[]}]\n",
    "\n",
    "Consumers on test_vhost:\n",
    "\n",
    "Permissions on /:\n",
    "user    configure       write   read\n",
    "guest   .*      .*      .*\n",
    "redhat  redhat.*        .*      .*\n",
    "redhat1 redhat.*        .*      .*\n",
    "\n",
    "Permissions on test_vhost:\n",
    "\n",
    "Policies on /:\n",
    "\"\"\""
   ]
  },
  {
   "cell_type": "code",
   "execution_count": 97,
   "metadata": {
    "collapsed": false
   },
   "outputs": [],
   "source": [
    "con = content.split('\\n')\n",
    "#print con\n",
    "#for line in con:\n",
    "#    print line"
   ]
  },
  {
   "cell_type": "code",
   "execution_count": 36,
   "metadata": {
    "collapsed": false
   },
   "outputs": [],
   "source": [
    "line0 = \"user    configure   1996    write   read\"\n",
    "line1 = \"guest   .*      .*      .*\"\n",
    "m0 = re.match(r'(.*)\\s+(.*)\\s+(.*)\\s+(.*)', line1)"
   ]
  },
  {
   "cell_type": "code",
   "execution_count": 38,
   "metadata": {
    "collapsed": false
   },
   "outputs": [
    {
     "name": "stdout",
     "output_type": "stream",
     "text": [
      "guest   .*      .*      .* guest   .*      .*     \n"
     ]
    }
   ],
   "source": [
    "print m0.group(), m0.group(1), m0.group(2), m0.group(3)"
   ]
  },
  {
   "cell_type": "code",
   "execution_count": 132,
   "metadata": {
    "collapsed": false
   },
   "outputs": [],
   "source": [
    "    fd_total_limit = {}\n",
    "    permissions = {}\n",
    "\n",
    "    \n",
    "    def parse_content(content):\n",
    "        mode = 'A'\n",
    "        \"\"\"\n",
    "        permissions = { {\"vhost-name\": { [\"username\", \"conf\", \"w\", \"r\"],\n",
    "                                         [ ]} },\n",
    "                        {} }\n",
    "        \"\"\"\n",
    "        # how to jump out of the mode if empty line\n",
    "        for line in content:\n",
    "            #print \"line: \", line\n",
    "            #print mode\n",
    "            if mode == 'A':\n",
    "                matchObj = re.match( r'Status of node \\'(.*)\\' ...', line)\n",
    "                if matchObj:\n",
    "                    node = matchObj.group(1)\n",
    "                    mode = 'B'\n",
    "                    continue\n",
    "                matchObj = re.match( r'Permissions on (.*):', line)\n",
    "                if matchObj:\n",
    "                    vhost = matchObj.group(1)\n",
    "                    permissions[vhost] = {}\n",
    "                    mode = 'C'\n",
    "                    continue\n",
    "            elif mode == 'B':\n",
    "                #{file_descriptors,[{total_limit,3996}  ,\\[{total_limit,(\\w+)},\\]}\n",
    "                if re.match(r'\\s+{file_descriptors',line):\n",
    "                    mode = 'B+'\n",
    "                continue\n",
    "            elif mode == 'B+':\n",
    "                matchObj = re.search( r'{total_limit,(\\w+)},', line)\n",
    "                if matchObj:\n",
    "                    fd_total_limit[node] = matchObj.group(1)\n",
    "                    mode = 'A'\n",
    "                continue\n",
    "            elif mode == 'C':\n",
    "                #print \"XXXin mode C\"\n",
    "                if re.match(r'user\\s+configure\\s+write\\s+read', line):\n",
    "                    #print \"XXXXmatch here\"\n",
    "                    #permissions[vhost] = {}\n",
    "                    #print \"XXXXchange mode C->D\"\n",
    "                    mode = 'D'\n",
    "                else:\n",
    "                    #print \"XXXXchange mode C->A\"\n",
    "                    mode = 'A'\n",
    "                continue\n",
    "            elif mode == 'D':\n",
    "                matchObj = re.match(r'(\\S*)\\s+(\\S*)\\s+(\\S*)\\s+(\\S*)', line)\n",
    "                if matchObj:\n",
    "                    permissions[vhost][matchObj.group(1)] = [matchObj.group(2),\n",
    "                            matchObj.group(3), matchObj.group(4)]\n",
    "                    #print \"XXXXpermit\", permissions[vhost][matchObj.group(1)]\n",
    "                else:# empty line\n",
    "                    mode = 'A'\n",
    "                continue\n"
   ]
  },
  {
   "cell_type": "code",
   "execution_count": 145,
   "metadata": {
    "collapsed": false
   },
   "outputs": [
    {
     "name": "stdout",
     "output_type": "stream",
     "text": [
      "line:  \n",
      "A\n",
      "line:  Status of node 'rabbit@overcloud-controller-2' ...\n",
      "A\n",
      "line:  [{pid,4087},\n",
      "B\n",
      "line:   {running_applications,[{rabbit,\"RabbitMQ\",\"3.3.5\"},\n",
      "B\n",
      "line:                          {os_mon,\"CPO  CXC 138 46\",\"2.2.14\"},\n",
      "B\n",
      "line:                          {mnesia,\"MNESIA  CXC 138 12\",\"4.11\"},\n",
      "B\n",
      "line:                          {xmerl,\"XML parser\",\"1.3.6\"},\n",
      "B\n",
      "line:                          {sasl,\"SASL  CXC 138 11\",\"2.3.4\"},\n",
      "B\n",
      "line:                          {stdlib,\"ERTS  CXC 138 10\",\"1.19.4\"},\n",
      "B\n",
      "line:                          {kernel,\"ERTS  CXC 138 10\",\"2.16.4\"}]},\n",
      "B\n",
      "line:   {os,{unix,linux}},\n",
      "B\n",
      "line:   {erlang_version,\"Erlang R16B03-1 (erts-5.10.4) [source] [64-bit] [smp:32:32] [async-threads:30] [hipe] [kernel-poll:true]\n",
      "B\n",
      "line:  \"},\n",
      "B\n",
      "line:   {memory,[{total,996824472},\n",
      "B\n",
      "line:            {connection_procs,39042152},\n",
      "B\n",
      "line:            {queue_procs,37838200},\n",
      "B\n",
      "line:            {plugins,0},\n",
      "B\n",
      "line:            {other_proc,15338592},\n",
      "B\n",
      "line:            {mnesia,7740960},\n",
      "B\n",
      "line:            {mgmt_db,0},\n",
      "B\n",
      "line:            {msg_index,1318936},\n",
      "B\n",
      "line:            {other_ets,2626760},\n",
      "B\n",
      "line:            {binary,859726712},\n",
      "B\n",
      "line:            {code,16696010},\n",
      "B\n",
      "line:            {atom,2378065},\n",
      "B\n",
      "line:            {other_system,14118085}]},\n",
      "B\n",
      "line:   {alarms,[]},\n",
      "B\n",
      "line:   {listeners,[{clustering,35672,\"::\"},{amqp,5672,\"172.31.11.16\"}]},\n",
      "B\n",
      "line:   {vm_memory_high_watermark,0.4},\n",
      "B\n",
      "line:   {vm_memory_limit,26943271731},\n",
      "B\n",
      "line:   {disk_free_limit,50000000},\n",
      "B\n",
      "line:   {disk_free,257304219648},\n",
      "B\n",
      "line:   {file_descriptors,[{total_limit,3996},\n",
      "B\n",
      "line:                      {total_used,835},\n",
      "B+\n",
      "line:                      {sockets_limit,3594},\n",
      "B+\n",
      "line:                      {sockets_used,833}]},\n",
      "B+\n",
      "line:   {processes,[{limit,1048576},{used,13607}]},\n",
      "B+\n",
      "line:   {run_queue,0},\n",
      "B+\n",
      "line:   {uptime,3075474}]\n",
      "B+\n",
      "line:  \n",
      "B+\n",
      "line:  Cluster status of node 'rabbit@overcloud-controller-2' ...\n",
      "B+\n",
      "line:  [{nodes,[{disc,['rabbit@overcloud-controller-0',\n",
      "B+\n",
      "line:                  'rabbit@overcloud-controller-1',\n",
      "B+\n",
      "line:                  'rabbit@overcloud-controller-2']}]},\n",
      "B+\n",
      "line:   {running_nodes,['rabbit@overcloud-controller-0',\n",
      "B+\n",
      "line:                   'rabbit@overcloud-controller-1',\n",
      "B+\n",
      "line:                   'rabbit@overcloud-controller-2']},\n",
      "B+\n",
      "line:   {cluster_name,<<\"rabbit@overcloud-controller-0.localdomain\">>},\n",
      "B+\n",
      "line:   {partitions,[]}]\n",
      "B+\n",
      "line:  \n",
      "B+\n",
      "line:  Consumers on test_vhost:\n",
      "B+\n",
      "line:  \n",
      "B+\n",
      "line:  Permissions on /:\n",
      "B+\n",
      "line:  user    configure       write   read\n",
      "B+\n",
      "line:  guest   .*      .*      .*\n",
      "B+\n",
      "line:  redhat  redhat.*        .*      .*\n",
      "B+\n",
      "line:  redhat1 redhat.*        .*      .*\n",
      "B+\n",
      "line:  \n",
      "B+\n",
      "line:  Permissions on test_vhost:\n",
      "B+\n",
      "line:  \n",
      "B+\n",
      "line:  Policies on /:\n",
      "B+\n",
      "line:  \n",
      "B+\n",
      "-----\n",
      "{'rabbit@overcloud-controller-2': '924'}\n",
      "-----\n",
      "{}\n"
     ]
    }
   ],
   "source": [
    "a = parse_content(con)\n",
    "\n",
    "print \"-----\"\n",
    "print fd_total_limit\n",
    "print \"-----\"\n",
    "print permissions"
   ]
  },
  {
   "cell_type": "code",
   "execution_count": 121,
   "metadata": {
    "collapsed": true
   },
   "outputs": [],
   "source": [
    "line2 = \"   {file_descriptors,[{total_limit,3996},\"\n",
    "matchObj = re.match(r'\\s+{file_descriptors,\\[{total_limit,(\\w+)}',line2)\n",
    "#matchObj = re.match(r'\\s+{file_descriptors,\\[{total_limit,',line2)"
   ]
  },
  {
   "cell_type": "code",
   "execution_count": 122,
   "metadata": {
    "collapsed": false
   },
   "outputs": [
    {
     "name": "stdout",
     "output_type": "stream",
     "text": [
      "   {file_descriptors,[{total_limit,3996}\n"
     ]
    }
   ],
   "source": [
    "print matchObj.group()"
   ]
  },
  {
   "cell_type": "code",
   "execution_count": 147,
   "metadata": {
    "collapsed": true
   },
   "outputs": [],
   "source": [
    "fd_content2 = \"\"\"\n",
    "Status of node 'rabbit@overcloud-controller-2' ...\n",
    "[{pid,4087},\n",
    " {alarms,[]},\n",
    " {listeners,[{clustering,25672,\"::\"},{amqp,5672,\"::\"}]},\n",
    " {vm_memory_high_watermark,0.4},\n",
    " {vm_memory_limit,1590132736},\n",
    " {disk_free_limit,50000000},\n",
    " {disk_free,40712921088},\n",
    " {file_descriptors,\n",
    "     [{total_limit,924},{total_used,3},{sockets_limit,829},{sockets_used,1}]},\n",
    " {processes,[{limit,1048576},{used,180}]},\n",
    " {run_queue,0},\n",
    " {uptime,5590}]\n",
    "\"\"\"\n",
    "con2 = fd_content2.split('\\n')"
   ]
  },
  {
   "cell_type": "code",
   "execution_count": 148,
   "metadata": {
    "collapsed": false
   },
   "outputs": [
    {
     "name": "stdout",
     "output_type": "stream",
     "text": [
      "None\n",
      "<_sre.SRE_Match object at 0x7f38041d1eb8>\n",
      "{total_limit,924},\n"
     ]
    }
   ],
   "source": [
    "for line in con2:\n",
    "    if re.match(r'\\s+{file_descriptors',line):\n",
    "        matchObj = re.search(r'{total_limit,(\\w+)},', line)\n",
    "        print matchObj\n",
    "    else:\n",
    "        matchObj = re.search(r'{total_limit,(\\w+)},', line)\n",
    "        if matchObj:\n",
    "            print matchObj\n",
    "            print matchObj.group()\n",
    "    "
   ]
  },
  {
   "cell_type": "code",
   "execution_count": null,
   "metadata": {
    "collapsed": true
   },
   "outputs": [],
   "source": []
  }
 ],
 "metadata": {
  "kernelspec": {
   "display_name": "Python 2",
   "language": "python",
   "name": "python2"
  },
  "language_info": {
   "codemirror_mode": {
    "name": "ipython",
    "version": 2
   },
   "file_extension": ".py",
   "mimetype": "text/x-python",
   "name": "python",
   "nbconvert_exporter": "python",
   "pygments_lexer": "ipython2",
   "version": "2.7.13"
  }
 },
 "nbformat": 4,
 "nbformat_minor": 0
}
