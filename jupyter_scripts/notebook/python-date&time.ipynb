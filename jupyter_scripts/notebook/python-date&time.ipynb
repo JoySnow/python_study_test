{
 "cells": [
  {
   "cell_type": "code",
   "execution_count": 1,
   "metadata": {
    "collapsed": true
   },
   "outputs": [],
   "source": [
    "# time & data"
   ]
  },
  {
   "cell_type": "code",
   "execution_count": 10,
   "metadata": {
    "collapsed": false
   },
   "outputs": [
    {
     "name": "stdout",
     "output_type": "stream",
     "text": [
      "1444613107.02\n",
      "time.struct_time(tm_year=2015, tm_mon=10, tm_mday=12, tm_hour=9, tm_min=25, tm_sec=7, tm_wday=0, tm_yday=285, tm_isdst=0)\n",
      "Mon Oct 12 09:25:07 2015\n"
     ]
    }
   ],
   "source": [
    "import time\n",
    "\n",
    "tick = time.time()\n",
    "print tick\n",
    "\n",
    "localtime = time.localtime( tick )\n",
    "print localtime\n",
    "\n",
    "asctime = time.asctime( localtime )\n",
    "print asctime"
   ]
  },
  {
   "cell_type": "code",
   "execution_count": 13,
   "metadata": {
    "collapsed": false
   },
   "outputs": [
    {
     "name": "stdout",
     "output_type": "stream",
     "text": [
      "    October 2015\n",
      "Mo Tu We Th Fr Sa Su\n",
      "          1  2  3  4\n",
      " 5  6  7  8  9 10 11\n",
      "12 13 14 15 16 17 18\n",
      "19 20 21 22 23 24 25\n",
      "26 27 28 29 30 31\n",
      "\n",
      "<type 'str'>\n"
     ]
    }
   ],
   "source": [
    "import calendar\n",
    "\n",
    "cal = calendar.month( 2015, 10) \n",
    "print cal\n",
    "\n",
    "print type(cal)\n"
   ]
  },
  {
   "cell_type": "code",
   "execution_count": 18,
   "metadata": {
    "collapsed": false
   },
   "outputs": [
    {
     "name": "stdout",
     "output_type": "stream",
     "text": [
      "0.0 seconds process time\n",
      "1.95\n",
      "1.95\n",
      "2.50183391571 seconds wall time\n",
      "1444628009.75\n",
      "1444628012.25\n"
     ]
    }
   ],
   "source": [
    "import time\n",
    "\n",
    "def procedure():\n",
    "    time.sleep(2.5)\n",
    "\n",
    "# measure process time\n",
    "t0 = time.clock()\n",
    "procedure()\n",
    "t1 = time.clock()\n",
    "print t1 - t0, \"seconds process time\"\n",
    "print t0\n",
    "print t1\n",
    "\n",
    "# measure wall time\n",
    "t0 = time.time()\n",
    "procedure()\n",
    "t1 = time.time()\n",
    "print t1 - t0, \"seconds wall time\"\n",
    "print t0\n",
    "print t1"
   ]
  },
  {
   "cell_type": "code",
   "execution_count": null,
   "metadata": {
    "collapsed": true
   },
   "outputs": [],
   "source": []
  },
  {
   "cell_type": "code",
   "execution_count": 15,
   "metadata": {
    "collapsed": false
   },
   "outputs": [
    {
     "name": "stdout",
     "output_type": "stream",
     "text": [
      "2016-08-16 04:43:01\n",
      "2016-08-16 04:43:01\n",
      "2016-08-17 04:43:01\n",
      "<type 'datetime.datetime'>\n",
      "yeah\n"
     ]
    }
   ],
   "source": [
    "from datetime import datetime, timedelta\n",
    "\n",
    "FORMAT = '%Y-%m-%d %H:%M:%S'\n",
    "line = \"2016-08-16 04:43:01,605 INFO  [org.ovirt.engine\"\n",
    "\n",
    "ts = \"2016-08-16 04:43:01\"\n",
    "print ts\n",
    "if ts:\n",
    "    ts_ = datetime.strptime(ts, FORMAT)\n",
    "    \n",
    "print ts_\n",
    "st = ts_\n",
    "et = st + timedelta(days=1)\n",
    "print et\n",
    "print type(et)\n",
    "\n",
    "ats = \"2016-08-17 04:23:01\"\n",
    "ats_ = datetime.strptime(ats, FORMAT)\n",
    "\n",
    "if ats_ < et:\n",
    "    print \"yeah\"\n",
    "else:\n",
    "    print \"oh no\"\n",
    "\n",
    "t_list = ['2016-08-16', '04:43:01,752', \"INFO\"]\n",
    "date = t_list[0]\n",
    "time = t_list[1]\n",
    "\n",
    "#start_time = "
   ]
  },
  {
   "cell_type": "code",
   "execution_count": 16,
   "metadata": {
    "collapsed": true
   },
   "outputs": [],
   "source": [
    "\n",
    "a = 1"
   ]
  },
  {
   "cell_type": "code",
   "execution_count": null,
   "metadata": {
    "collapsed": false
   },
   "outputs": [],
   "source": [
    "a += 2\n",
    "a\n",
    "\n",
    "for i in range(0, 3):\n",
    "    print i"
   ]
  },
  {
   "cell_type": "code",
   "execution_count": null,
   "metadata": {
    "collapsed": true
   },
   "outputs": [],
   "source": [
    "ENGINE_LOG_MATCH = ENGINE_LOG_MATCH_HEAD                                         \n",
    "        5 def construct(head, body, taili, cnt=0):                                         \n",
    "-       4     log = head                                                                   \n",
    "|       3     for i in range(0, cnt):                                                      \n",
    "|-      2         log += body                                                              \n",
    "|       1     log += tail                                                                  \n",
    "|     54      return log"
   ]
  },
  {
   "cell_type": "code",
   "execution_count": 4,
   "metadata": {
    "collapsed": true
   },
   "outputs": [],
   "source": [
    "ENGINE_LOG_MATCH_HEAD = \"\"\"\n",
    "2016-08-16 03:08:00,308 INFO  [org.ovirt.engine.core.bll.ProcessOvfUpdateForStoragePoolCommand] (org.ovirt.thread.pool-6-thread-25) [76210ba4] Lock freed to object 'EngineLock:{exclusiveLocks='[33890442-b9d2-4e67-8118-2787ae401099=<OVF_UPDATE, ACTION_TYPE_FAILED_OBJECT_LOCKED>]', sharedLocks='null'}'\n",
    "2016-08-16 04:43:01,605 INFO  [org.ovirt.engine.core.vdsbroker.VmsStatisticsFetcher] (DefaultQuartzScheduler_Worker-93) [42b24e2a] Fetched 16 VMs from VDS 'ee7c945c-5315-4754-8ea6-63d2d04d3f05'\n",
    "2016-08-16 04:43:01,701 INFO  [org.ovirt.engine.core.vdsbroker.VmsStatisticsFetcher] (DefaultQuartzScheduler_Worker-27) [222f0411] Fetched 15 VMs from VDS 'f477a4da-eebd-4e61-8b21-bc168bf21aa0'\n",
    "2016-08-16 04:43:01,724 INFO  [org.ovirt.engine.core.bll.ProcessOvfUpdateForStoragePoolCommand] (org.ovirt.thread.pool-6-thread-25) [76210ba4] Running command: ProcessOvfUpdateForStoragePoolCommand internal: true. Entities affected :  ID: 33890442-b9d2-4e67-8118-2787ae401099 Type: StoragePool\n",
    "2016-08-16 04:43:01,752 INFO  [org.ovirt.engine.core.vdsbroker.VmsStatisticsFetcher] (DefaultQuartzScheduler_Worker-48) [4c899969] Fetched 17 VMs from VDS 'bec8ff4e-b95e-449d-8085-e74458387dce'\n",
    "2016-08-16 04:43:02,015 INFO  [org.ovirt.engine.core.vdsbroker.VmsStatisticsFetcher] (DefaultQuartzScheduler_Worker-1) [511b6ac3] Fetched 12 VMs from VDS '06ac5e7b-3ac6-4f6f-a40f-6120e28fc726'\n",
    "2016-08-16 04:43:02,125 INFO  [org.ovirt.engine.core.vdsbroker.VmsStatisticsFetcher] (DefaultQuartzScheduler_Worker-93) [42b24e2a] Fetched 16 VMs from VDS 'ee7c945c-5315-4754-8ea6-63d2d04d3f05'\n",
    "\"\"\".strip()"
   ]
  },
  {
   "cell_type": "code",
   "execution_count": null,
   "metadata": {
    "collapsed": false
   },
   "outputs": [],
   "source": []
  },
  {
   "cell_type": "code",
   "execution_count": 8,
   "metadata": {
    "collapsed": false
   },
   "outputs": [
    {
     "name": "stdout",
     "output_type": "stream",
     "text": [
      "2016-12-23 09:14:48\n",
      "1900-12-26 03:38:59\n",
      "1900-01-01 00:00:00\n",
      "1900-12-26 04:38:59\n",
      "en\n"
     ]
    }
   ],
   "source": [
    "\n",
    "from datetime import datetime, timedelta\n",
    "\n",
    "FORMAT = '%Y-%m-%d %H:%M:%S'\n",
    "line = \"2016-08-16 04:43:01,605 INFO  [org.ovirt.engine\"\n",
    "\n",
    "t1 = \"Fri Dec 23 09:14:48 2016\"\n",
    "t2 = \"Dec 26 03:38:59\"\n",
    "t3 = \"Jan 1 00:00:00\" \n",
    "#FORMAT = \"\"\n",
    "ts234 = datetime.strptime(t2, \"%b %d %H:%M:%S\")\n",
    "ts3 = datetime.strptime(t3, \"%b %d %H:%M:%S\")\n",
    "ts123 = datetime.strptime(t1, \"%c\")\n",
    "print ts123\n",
    "print ts234\n",
    "print ts3\n",
    "print ts234 + timedelta(hours=1)\n",
    "\n",
    "if ts123 > ts234: print \"en\""
   ]
  },
  {
   "cell_type": "code",
   "execution_count": null,
   "metadata": {
    "collapsed": true
   },
   "outputs": [],
   "source": []
  },
  {
   "cell_type": "code",
   "execution_count": 4,
   "metadata": {
    "collapsed": true
   },
   "outputs": [],
   "source": [
    "import re\n",
    "def get_timestamp(line, regex=re.compile(r'^\\S+\\s+\\d+\\s+\\d+:\\d+:\\d+')):\n",
    "    \"\"\"\n",
    "    Matches and returns a timestamp from a /var/log/messages file\n",
    "    \"\"\"\n",
    "    timestamp_matcher = regex.match(line)\n",
    "    if timestamp_matcher:\n",
    "        return timestamp_matcher.group()\n"
   ]
  },
  {
   "cell_type": "code",
   "execution_count": 5,
   "metadata": {
    "collapsed": true
   },
   "outputs": [],
   "source": [
    "MSG = \"\"\"\n",
    "Dec 31 23:56:12 localhost NetworkManager[856]: <info>  [1483199772.7273] device (wlp4s0): supplicant interface state: scanning -> inactive\n",
    "Dec 31 23:56:13 localhost NetworkManager[856]: <info>  [1483199773.7570] device (wlp4s0): supplicant interface state: inactive -> scanning\n",
    "Dec 31 23:57:15 localhost NetworkManager[856]: <info>  [1483199835.7355] device (wlp4s0): supplicant interface state: scanning -> inactive\n",
    "Dec 31 23:57:16 localhost NetworkManager[856]: <info>  [1483199836.8827] device (wlp4s0): supplicant interface state: inactive -> scanning\n",
    "Dec 31 23:58:18 localhost NetworkManager[856]: <info>  [1483199898.7343] device (wlp4s0): supplicant interface state: scanning -> inactive\n",
    "Dec 31 23:58:21 localhost NetworkManager[856]: <info>  [1483199901.8400] device (wlp4s0): supplicant interface state: inactive -> scanning\n",
    "Dec 31 23:59:21 localhost NetworkManager[856]: <info>  [1483199961.7353] device (wlp4s0): supplicant interface state: scanning -> inactive\n",
    "Dec 31 23:59:22 localhost NetworkManager[856]: <info>  [1483199962.7651] device (wlp4s0): supplicant interface state: inactive -> scanning\n",
    "Jan  1 00:00:04 localhost systemd: Starting update of the root trust anchor for DNSSEC validation in unbound...\n",
    "Jan  1 00:00:04 localhost systemd: Started Update a database for mlocate.\n",
    "Jan  1 00:00:04 localhost audit: SERVICE_START pid=1 uid=0 auid=4294967295 ses=4294967295 subj=system_u:system_r:init_t:s0 msg='unit=mlocate-updatedb comm=\"systemd\" exe=\"/usr/lib/systemd/systemd\" hostname=? addr=? terminal=? res=success'\n",
    "Jan  1 00:00:04 localhost audit: SERVICE_STOP pid=1 uid=0 auid=4294967295 ses=4294967295 subj=system_u:system_r:init_t:s0 msg='unit=mlocate-updatedb comm=\"systemd\" exe=\"/usr/lib/systemd/systemd\" hostname=? addr=? terminal=? res=success'\n",
    "Jan  1 00:00:06 localhost systemd: Started update of the root trust anchor for DNSSEC validation in unbound.\n",
    "Jan  1 00:00:06 localhost audit: SERVICE_START pid=1 uid=0 auid=4294967295 ses=4294967295 subj=system_u:system_r:init_t:s0 msg='unit=unbound-anchor comm=\"systemd\" exe=\"/usr/lib/systemd/systemd\" hostname=? addr=? terminal=? res=success'\n",
    "Jan  1 00:00:06 localhost audit: SERVICE_STOP pid=1 uid=0 auid=4294967295 ses=4294967295 subj=system_u:system_r:init_t:s0 msg='unit=unbound-anchor comm=\"systemd\" exe=\"/usr/lib/systemd/systemd\" hostname=? addr=? terminal=? res=success'\n",
    "Jan  1 00:00:24 localhost NetworkManager[856]: <info>  [1483200024.7375] device (wlp4s0): supplicant interface state: scanning -> inactive\n",
    "Jan  1 00:00:25 localhost NetworkManager[856]: <info>  [1483200025.7684] device (wlp4s0): supplicant interface state: inactive -> scanning\n",
    "Jan  1 00:01:27 localhost NetworkManager[856]: <info>  [1483200087.7338] device (wlp4s0): supplicant interface state: scanning -> inactive\n",
    "Jan  1 00:01:28 localhost NetworkManager[856]: <info>  [1483200088.7627] device (wlp4s0): supplicant interface state: inactive -> scanning\n",
    "\"\"\".strip()"
   ]
  },
  {
   "cell_type": "code",
   "execution_count": 6,
   "metadata": {
    "collapsed": false
   },
   "outputs": [
    {
     "name": "stdout",
     "output_type": "stream",
     "text": [
      "1970-01-01 00:00:00\n",
      "1900-12-26 03:38:01\n",
      "1901-12-27 03:38:01\n",
      "1900-01-01 00:01:28\n",
      "1900-01-01 00:01:27\n",
      "1900-01-01 00:00:25\n",
      "1900-01-01 00:00:24\n",
      "1900-01-01 00:00:06\n",
      "1900-01-01 00:00:06\n",
      "1900-01-01 00:00:06\n",
      "1900-01-01 00:00:04\n",
      "1900-01-01 00:00:04\n",
      "1900-01-01 00:00:04\n",
      "1900-01-01 00:00:04\n",
      "1900-12-31 23:59:22\n",
      "1900-12-31 23:59:21\n",
      "1900-12-31 23:58:21\n",
      "1900-12-31 23:58:18\n",
      "1900-12-31 23:57:16\n",
      "1900-12-31 23:57:15\n",
      "1900-12-31 23:56:13\n",
      "1900-12-31 23:56:12\n"
     ]
    },
    {
     "ename": "NameError",
     "evalue": "name 'last_line' is not defined",
     "output_type": "error",
     "traceback": [
      "\u001b[0;31m---------------------------------------------------------------------------\u001b[0m",
      "\u001b[0;31mNameError\u001b[0m                                 Traceback (most recent call last)",
      "\u001b[0;32m<ipython-input-6-96f3a1620822>\u001b[0m in \u001b[0;36m<module>\u001b[0;34m()\u001b[0m\n\u001b[1;32m     24\u001b[0m \u001b[0;31m#last_line = [l if \"systemd\" in l for l in libvirtd_lines[::-1] else None]\u001b[0m\u001b[0;34m\u001b[0m\u001b[0;34m\u001b[0m\u001b[0m\n\u001b[1;32m     25\u001b[0m \u001b[0;34m\u001b[0m\u001b[0m\n\u001b[0;32m---> 26\u001b[0;31m \u001b[0;32mprint\u001b[0m \u001b[0mtype\u001b[0m\u001b[0;34m(\u001b[0m\u001b[0mlast_line\u001b[0m\u001b[0;34m)\u001b[0m\u001b[0;34m\u001b[0m\u001b[0m\n\u001b[0m",
      "\u001b[0;31mNameError\u001b[0m: name 'last_line' is not defined"
     ]
    }
   ],
   "source": [
    "from datetime import datetime, timedelta\n",
    "\n",
    "FORMAT = \"%b %d %H:%M:%S\"\n",
    "\n",
    "t2 = \"Dec 26 03:38:01\"\n",
    "#FORMAT = \"\"\n",
    "ts2 = datetime.strptime(t2, FORMAT)\n",
    "#ts123 = datetime.strptime(t1, \"%c\")\n",
    "ts3 = datetime(1970,1,1)\n",
    "\n",
    "print ts3\n",
    "\n",
    "print ts2\n",
    "print ts2 + timedelta(days=366)\n",
    "\n",
    "msg = MSG.split('\\n')\n",
    "#print type(msg)\n",
    "for l in msg[::-1]:\n",
    "    #print l\n",
    "    ts = datetime.strptime(get_timestamp(l), FORMAT)\n",
    "    print ts\n",
    "\n",
    "#if ts123 > ts234: print \"en\"\n",
    "#last_line = [l if \"systemd\" in l for l in libvirtd_lines[::-1] else None]\n",
    "\n",
    "print type(last_line)"
   ]
  },
  {
   "cell_type": "code",
   "execution_count": 50,
   "metadata": {
    "collapsed": false
   },
   "outputs": [
    {
     "name": "stdout",
     "output_type": "stream",
     "text": [
      "[{1: 'a'}, {0: 'b'}]\n",
      "<type 'datetime.datetime'>\n"
     ]
    }
   ],
   "source": [
    "fd = []\n",
    "fd.append({})\n",
    "fd[0][1] = \"a\"\n",
    "fd.append({})\n",
    "fd[1][0] = \"b\"\n",
    "print fd\n",
    "\n",
    "print type(datetime.min)"
   ]
  },
  {
   "cell_type": "code",
   "execution_count": 12,
   "metadata": {
    "collapsed": false
   },
   "outputs": [
    {
     "name": "stdout",
     "output_type": "stream",
     "text": [
      "1960-01-01 00:00:00\n",
      "[[datetime.datetime(1960, 1, 1, 0, 0), datetime.datetime(1971, 1, 1, 0, 0)], ['b', datetime.datetime(1971, 1, 1, 0, 0)]]\n",
      "1971-01-01 00:00:00\n"
     ]
    }
   ],
   "source": [
    "ts_d = datetime(1960,1,1)\n",
    "print ts_d\n",
    "fd = []\n",
    "fd.append([ts_d, ts_d])\n",
    "fd[0][1] = ts_d = datetime(1971,1,1)\n",
    "fd.append([ts_d, ts_d])\n",
    "fd[1][0] = \"b\"\n",
    "print fd\n",
    "print ts_d\n",
    "\n"
   ]
  },
  {
   "cell_type": "code",
   "execution_count": 51,
   "metadata": {
    "collapsed": false
   },
   "outputs": [
    {
     "ename": "SyntaxError",
     "evalue": "invalid syntax (<ipython-input-51-a67e3d1f618a>, line 3)",
     "output_type": "error",
     "traceback": [
      "\u001b[0;36m  File \u001b[0;32m\"<ipython-input-51-a67e3d1f618a>\"\u001b[0;36m, line \u001b[0;32m3\u001b[0m\n\u001b[0;31m    if\u001b[0m\n\u001b[0m       ^\u001b[0m\n\u001b[0;31mSyntaxError\u001b[0m\u001b[0;31m:\u001b[0m invalid syntax\n"
     ]
    }
   ],
   "source": [
    "last = \"default\"\n",
    "for l in msg:\n",
    "    if "
   ]
  },
  {
   "cell_type": "code",
   "execution_count": 52,
   "metadata": {
    "collapsed": false
   },
   "outputs": [
    {
     "data": {
      "text/plain": [
       "3"
      ]
     },
     "execution_count": 52,
     "metadata": {},
     "output_type": "execute_result"
    }
   ],
   "source": [
    "a = [1,2,3]\n",
    "a[-1]"
   ]
  },
  {
   "cell_type": "code",
   "execution_count": 56,
   "metadata": {
    "collapsed": false
   },
   "outputs": [
    {
     "name": "stdout",
     "output_type": "stream",
     "text": [
      "n\n"
     ]
    }
   ],
   "source": [
    "a = []\n",
    "print \"y\" if a else \"n\""
   ]
  },
  {
   "cell_type": "code",
   "execution_count": 58,
   "metadata": {
    "collapsed": false
   },
   "outputs": [
    {
     "ename": "IndexError",
     "evalue": "list assignment index out of range",
     "output_type": "error",
     "traceback": [
      "\u001b[0;31m---------------------------------------------------------------------------\u001b[0m",
      "\u001b[0;31mIndexError\u001b[0m                                Traceback (most recent call last)",
      "\u001b[0;32m<ipython-input-58-894a7b565f1c>\u001b[0m in \u001b[0;36m<module>\u001b[0;34m()\u001b[0m\n\u001b[0;32m----> 1\u001b[0;31m \u001b[0ma\u001b[0m\u001b[0;34m[\u001b[0m\u001b[0;36m0\u001b[0m\u001b[0;34m]\u001b[0m \u001b[0;34m=\u001b[0m \u001b[0;34m\"y\"\u001b[0m \u001b[0;32mif\u001b[0m \u001b[0;32mnot\u001b[0m \u001b[0ma\u001b[0m \u001b[0;32melse\u001b[0m \u001b[0ma\u001b[0m\u001b[0;34m[\u001b[0m\u001b[0;36m0\u001b[0m\u001b[0;34m]\u001b[0m\u001b[0;34m\u001b[0m\u001b[0m\n\u001b[0m",
      "\u001b[0;31mIndexError\u001b[0m: list assignment index out of range"
     ]
    }
   ],
   "source": [
    "a[0] = \"y\" if not a else a[0]"
   ]
  },
  {
   "cell_type": "code",
   "execution_count": 62,
   "metadata": {
    "collapsed": false
   },
   "outputs": [
    {
     "name": "stdout",
     "output_type": "stream",
     "text": [
      "[]\n"
     ]
    },
    {
     "ename": "AttributeError",
     "evalue": "'list' object has no attribute 'get'",
     "output_type": "error",
     "traceback": [
      "\u001b[0;31m---------------------------------------------------------------------------\u001b[0m",
      "\u001b[0;31mAttributeError\u001b[0m                            Traceback (most recent call last)",
      "\u001b[0;32m<ipython-input-62-570488b926cc>\u001b[0m in \u001b[0;36m<module>\u001b[0;34m()\u001b[0m\n\u001b[1;32m      2\u001b[0m \u001b[0;31m#a.append(None)\u001b[0m\u001b[0;34m\u001b[0m\u001b[0;34m\u001b[0m\u001b[0m\n\u001b[1;32m      3\u001b[0m \u001b[0;32mprint\u001b[0m \u001b[0ma\u001b[0m\u001b[0;34m\u001b[0m\u001b[0m\n\u001b[0;32m----> 4\u001b[0;31m \u001b[0;32mif\u001b[0m \u001b[0ma\u001b[0m\u001b[0;34m.\u001b[0m\u001b[0mget\u001b[0m\u001b[0;34m(\u001b[0m\u001b[0;36m0\u001b[0m\u001b[0;34m)\u001b[0m\u001b[0;34m:\u001b[0m\u001b[0;34m\u001b[0m\u001b[0m\n\u001b[0m\u001b[1;32m      5\u001b[0m     \u001b[0;32mprint\u001b[0m \u001b[0ma\u001b[0m\u001b[0;34m[\u001b[0m\u001b[0;36m0\u001b[0m\u001b[0;34m]\u001b[0m\u001b[0;34m\u001b[0m\u001b[0m\n\u001b[1;32m      6\u001b[0m \u001b[0;32melse\u001b[0m\u001b[0;34m:\u001b[0m\u001b[0;34m\u001b[0m\u001b[0m\n",
      "\u001b[0;31mAttributeError\u001b[0m: 'list' object has no attribute 'get'"
     ]
    }
   ],
   "source": [
    "a = []\n",
    "#a.append(None)\n",
    "a[0] = {\"b\":\"bb\"}\n",
    "if a[0][\"\"]"
   ]
  },
  {
   "cell_type": "code",
   "execution_count": null,
   "metadata": {
    "collapsed": true
   },
   "outputs": [],
   "source": []
  },
  {
   "cell_type": "code",
   "execution_count": 7,
   "metadata": {
    "collapsed": true
   },
   "outputs": [],
   "source": [
    "from datetime import datetime, timedelta\n",
    "Todaydate = datetime.today()"
   ]
  },
  {
   "cell_type": "code",
   "execution_count": 8,
   "metadata": {
    "collapsed": false
   },
   "outputs": [
    {
     "name": "stdout",
     "output_type": "stream",
     "text": [
      "2017-05-17 14:45:17.900824\n",
      "<type 'datetime.datetime'>\n"
     ]
    }
   ],
   "source": [
    "print Todaydate\n",
    "print type(Todaydate)"
   ]
  },
  {
   "cell_type": "code",
   "execution_count": 12,
   "metadata": {
    "collapsed": false
   },
   "outputs": [
    {
     "name": "stdout",
     "output_type": "stream",
     "text": [
      "2017-05-27 14:45:17.900824\n",
      "<type 'datetime.datetime'>\n"
     ]
    }
   ],
   "source": [
    "expire_day = Todaydate + timedelta(days=10)\n",
    "print expire_day\n",
    "print type(expire_day)"
   ]
  },
  {
   "cell_type": "code",
   "execution_count": 14,
   "metadata": {
    "collapsed": false
   },
   "outputs": [
    {
     "name": "stdout",
     "output_type": "stream",
     "text": [
      "2017-05-27\n"
     ]
    }
   ],
   "source": [
    "print expire_day.date()"
   ]
  },
  {
   "cell_type": "code",
   "execution_count": 16,
   "metadata": {
    "collapsed": false
   },
   "outputs": [
    {
     "name": "stdout",
     "output_type": "stream",
     "text": [
      "2017-05-27T14:45:17.900824\n"
     ]
    }
   ],
   "source": [
    "print expire_day.isoformat()"
   ]
  },
  {
   "cell_type": "code",
   "execution_count": 17,
   "metadata": {
    "collapsed": false
   },
   "outputs": [
    {
     "name": "stdout",
     "output_type": "stream",
     "text": [
      "May 27 14:45:17 2017\n"
     ]
    }
   ],
   "source": [
    "TIME_FORMAT = '%b %d %H:%M:%S %Y'\n",
    "print expire_day.strftime(TIME_FORMAT)"
   ]
  },
  {
   "cell_type": "code",
   "execution_count": 21,
   "metadata": {
    "collapsed": false
   },
   "outputs": [
    {
     "name": "stdout",
     "output_type": "stream",
     "text": [
      "2022-05-11 14:45:17.900824\n"
     ]
    }
   ],
   "source": [
    "# expire_day = Todaydate + timedelta(years=10)\n",
    "expire_day = Todaydate + timedelta(weeks=260)\n",
    "print expire_day"
   ]
  },
  {
   "cell_type": "code",
   "execution_count": null,
   "metadata": {
    "collapsed": true
   },
   "outputs": [],
   "source": []
  }
 ],
 "metadata": {
  "kernelspec": {
   "display_name": "Python 2",
   "language": "python",
   "name": "python2"
  },
  "language_info": {
   "codemirror_mode": {
    "name": "ipython",
    "version": 2
   },
   "file_extension": ".py",
   "mimetype": "text/x-python",
   "name": "python",
   "nbconvert_exporter": "python",
   "pygments_lexer": "ipython2",
   "version": "2.7.12"
  }
 },
 "nbformat": 4,
 "nbformat_minor": 0
}
