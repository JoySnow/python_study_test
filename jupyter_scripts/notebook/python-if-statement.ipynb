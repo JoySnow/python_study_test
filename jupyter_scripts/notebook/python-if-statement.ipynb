{
 "cells": [
  {
   "cell_type": "code",
   "execution_count": 1,
   "metadata": {
    "collapsed": false
   },
   "outputs": [
    {
     "name": "stdout",
     "output_type": "stream",
     "text": [
      "sorry, I dont understand the question~\n"
     ]
    }
   ],
   "source": [
    "num = 5\n",
    "if num == 3:\n",
    "    print '3'\n",
    "elif num == 2:\n",
    "    print '2'\n",
    "elif num <= 0:\n",
    "    print 'hehele'\n",
    "else:\n",
    "    print 'sorry, I dont understand the question~'"
   ]
  },
  {
   "cell_type": "code",
   "execution_count": 2,
   "metadata": {
    "collapsed": false
   },
   "outputs": [
    {
     "name": "stdout",
     "output_type": "stream",
     "text": [
      "get out, now!\n"
     ]
    }
   ],
   "source": [
    "# python do not support for switch,\n",
    "# so, we got to use elif & and & or to help~\n",
    "num = 10\n",
    "if ( num >=0 and num <= 5) or ( num >= 15 and num <= 20 ):\n",
    "    print 'hello'\n",
    "else:\n",
    "    print 'get out, now!'"
   ]
  },
  {
   "cell_type": "code",
   "execution_count": 3,
   "metadata": {
    "collapsed": false
   },
   "outputs": [
    {
     "name": "stdout",
     "output_type": "stream",
     "text": [
      "100\n"
     ]
    }
   ],
   "source": [
    "# and easy one line for if\n",
    "var = 100\n",
    "if var == 100 : print var"
   ]
  },
  {
   "cell_type": "code",
   "execution_count": null,
   "metadata": {
    "collapsed": true
   },
   "outputs": [],
   "source": []
  }
 ],
 "metadata": {
  "kernelspec": {
   "display_name": "Python 2",
   "language": "python",
   "name": "python2"
  },
  "language_info": {
   "codemirror_mode": {
    "name": "ipython",
    "version": 2
   },
   "file_extension": ".py",
   "mimetype": "text/x-python",
   "name": "python",
   "nbconvert_exporter": "python",
   "pygments_lexer": "ipython2",
   "version": "2.7.5"
  }
 },
 "nbformat": 4,
 "nbformat_minor": 0
}
