{
 "cells": [
  {
   "cell_type": "code",
   "execution_count": 4,
   "metadata": {
    "collapsed": false
   },
   "outputs": [
    {
     "name": "stdout",
     "output_type": "stream",
     "text": [
      "['ntp.example.com', 'minpoll', '0', 'maxdelay', '10']\n",
      "<enumerate object at 0x7f4fc652b7d0>\n",
      "[1]\n"
     ]
    }
   ],
   "source": [
    "srv_info = \"ntp.example.com minpoll 0 maxdelay 10\"\n",
    "srv_params = srv_info.strip().split()\n",
    "print srv_params\n",
    "print enumerate(srv_params)\n",
    "mins = [i for i,v in enumerate(srv_params) if v==\"minpoll\"]\n",
    "print mins"
   ]
  },
  {
   "cell_type": "code",
   "execution_count": 5,
   "metadata": {
    "collapsed": false
   },
   "outputs": [
    {
     "name": "stdout",
     "output_type": "stream",
     "text": [
      "0 ntp.example.com\n",
      "1 minpoll\n",
      "2 0\n",
      "3 maxdelay\n",
      "4 10\n"
     ]
    }
   ],
   "source": [
    "for i,v in enumerate(srv_params):\n",
    "    print i, v"
   ]
  },
  {
   "cell_type": "code",
   "execution_count": null,
   "metadata": {
    "collapsed": false
   },
   "outputs": [],
   "source": []
  },
  {
   "cell_type": "code",
   "execution_count": 9,
   "metadata": {
    "collapsed": false
   },
   "outputs": [
    {
     "name": "stdout",
     "output_type": "stream",
     "text": [
      "rhev_h\n"
     ]
    }
   ],
   "source": [
    "shared = {\"hy\":True}\n",
    "#shared = {\"hy\":False}\n",
    "#shared = None\n",
    "\n",
    "host_type = \"None\" if not shared else (\"rhev_h\" if shared[\"hy\"] else \"rhel_h\")\n",
    "print host_type"
   ]
  },
  {
   "cell_type": "code",
   "execution_count": 12,
   "metadata": {
    "collapsed": false
   },
   "outputs": [
    {
     "name": "stdout",
     "output_type": "stream",
     "text": [
      "None\n"
     ]
    }
   ],
   "source": [
    "tmp_1 = None\n",
    "tmp_2 = \"None\"\n",
    "\n",
    "if tmp_2:\n",
    "    print tmp_2"
   ]
  },
  {
   "cell_type": "code",
   "execution_count": 1,
   "metadata": {
    "collapsed": true
   },
   "outputs": [],
   "source": [
    "a = []\n",
    "for i in a:\n",
    "    print \"haha\"\n",
    "    "
   ]
  },
  {
   "cell_type": "code",
   "execution_count": 18,
   "metadata": {
    "collapsed": false
   },
   "outputs": [
    {
     "name": "stdout",
     "output_type": "stream",
     "text": [
      " /webfiles/logs/404.log. For complete SELinux messages. run sealert -l b48b8a\n",
      "/\n"
     ]
    },
    {
     "data": {
      "text/plain": [
       "''"
      ]
     },
     "execution_count": 18,
     "metadata": {},
     "output_type": "execute_result"
    }
   ],
   "source": [
    "a = \"Jan 19 03:35:46 styx setroubleshoot: SELinux is preventing /usr/sbin/logrotate from getattr access on the file /webfiles/logs/404.log. For complete SELinux messages. run sealert -l b48b8a\"\n",
    "SE_LINUX_ERROR = \"SELinux is preventing /usr/sbin/logrotate from getattr access on the file\"\n",
    "he = a.split(SE_LINUX_ERROR)\n",
    "print he[1]\n",
    "wh = \"/\"\n",
    "hehe = wh.split()[0]\n",
    "print hehe\n",
    "hehe[0:-1]"
   ]
  },
  {
   "cell_type": "code",
   "execution_count": 20,
   "metadata": {
    "collapsed": false
   },
   "outputs": [
    {
     "name": "stdout",
     "output_type": "stream",
     "text": [
      "set(['a', ''])\n"
     ]
    }
   ],
   "source": [
    "logfiles = set()\n",
    "logfiles.add(\"a\")\n",
    "logfiles.add(\"\")\n",
    "\n",
    "print logfiles"
   ]
  },
  {
   "cell_type": "code",
   "execution_count": null,
   "metadata": {
    "collapsed": true
   },
   "outputs": [],
   "source": []
  },
  {
   "cell_type": "code",
   "execution_count": 7,
   "metadata": {
    "collapsed": false
   },
   "outputs": [
    {
     "name": "stdout",
     "output_type": "stream",
     "text": [
      "set(['eth1'])\n",
      "[]\n"
     ]
    }
   ],
   "source": [
    "a = set(['eth0', 'eth1'])\n",
    "b = set(['eth2', 'eth1'])\n",
    "print a&b\n",
    "c = sorted(set())\n",
    "print c"
   ]
  },
  {
   "cell_type": "code",
   "execution_count": 3,
   "metadata": {
    "collapsed": false
   },
   "outputs": [
    {
     "name": "stdout",
     "output_type": "stream",
     "text": [
      "{'rhel_release': ['-1', '-1']}\n",
      "{'hehe': None, 'rhel_release': ['-1', '-1']}\n",
      "{'haha': 'shit', 'hehe': None, 'rhel_release': None}\n"
     ]
    }
   ],
   "source": [
    "da = {}\n",
    "da['rhel_release'] = ['-1', '-1']\n",
    "print da\n",
    "\n",
    "dc = {}\n",
    "dc[\"haha\"] = \"shit\"\n",
    "\n",
    "db = {'rhel_release': None,\n",
    "     'hehe': None}\n",
    "\n",
    "db_ = {'rhel_release': None,\n",
    "     'hehe': None}\n",
    "db.update(da)\n",
    "db_.update(dc)\n",
    "print db\n",
    "print db_"
   ]
  },
  {
   "cell_type": "code",
   "execution_count": null,
   "metadata": {
    "collapsed": true
   },
   "outputs": [],
   "source": []
  },
  {
   "cell_type": "code",
   "execution_count": 6,
   "metadata": {
    "collapsed": false
   },
   "outputs": [
    {
     "name": "stdout",
     "output_type": "stream",
     "text": [
      "{'CPU_A': 'set_not_1'}\n",
      "{'vdsm_status': 'upgraded', 'host_type': u'rhel', 'CPU_A': 'set_not_1', 'rhel_version': 'el6', 'vdsm_version': u'vdsm-4.16.30-2.el6ev'}\n"
     ]
    }
   ],
   "source": [
    "host_vdsm_affinity_dict = {'hypervisor01.redhat.com': {'CPU_A': 'set_not_1'}, 'hypervisor02.redhat.com': {'CPU_A': 'not_set'}}\n",
    "host_vdsm_version_dic =  {'hypervisor01.redhat.com': {'vdsm_status': 'upgraded', 'host_type': u'rhel', 'rhel_version': 'el6', 'vdsm_version': u'vdsm-4.16.30-2.el6ev'}, u'hypervisor02.redhat.com': {'vdsm_status': 'not_upgraded', 'host_type': u'rhev-h', 'rhel_version': 'el7', 'vdsm_version': u'vdsm-4.17.19-2.el7ev'}}\n",
    "\n",
    "print host_vdsm_affinity_dict['hypervisor01.redhat.com']\n",
    "host_vdsm_affinity_dict['hypervisor01.redhat.com'].update(host_vdsm_version_dic['hypervisor01.redhat.com'])\n",
    "print host_vdsm_affinity_dict['hypervisor01.redhat.com']"
   ]
  },
  {
   "cell_type": "code",
   "execution_count": 9,
   "metadata": {
    "collapsed": false
   },
   "outputs": [
    {
     "name": "stdout",
     "output_type": "stream",
     "text": [
      "{'a': 'zz', 'rhel_version': 'el6', 'vdsm_version': u'vdsm-4.16.30-2.el6ev', 'vdsm_status': 'upgraded', 'CPU_A': 'set_not_1', 'host_type': u'rhel'}\n"
     ]
    }
   ],
   "source": [
    "host_vdsm_affinity_dict['hypervisor01.redhat.com'].update({\"a\": \"zz\", 'rhel_version': 'el6'})\n",
    "print host_vdsm_affinity_dict['hypervisor01.redhat.com']"
   ]
  },
  {
   "cell_type": "code",
   "execution_count": 10,
   "metadata": {
    "collapsed": false
   },
   "outputs": [
    {
     "ename": "SyntaxError",
     "evalue": "invalid syntax (<ipython-input-10-1f59d5f1c3f0>, line 1)",
     "output_type": "error",
     "traceback": [
      "\u001b[0;36m  File \u001b[0;32m\"<ipython-input-10-1f59d5f1c3f0>\"\u001b[0;36m, line \u001b[0;32m1\u001b[0m\n\u001b[0;31m    host_vdsm_affinity_dict['hypervisor01.redhat.com'].update(\"b\": \"zz\")\u001b[0m\n\u001b[0m                                                                 ^\u001b[0m\n\u001b[0;31mSyntaxError\u001b[0m\u001b[0;31m:\u001b[0m invalid syntax\n"
     ]
    }
   ],
   "source": [
    "host_vdsm_affinity_dict['hypervisor01.redhat.com'].update(\"b\": \"zz\")\n",
    "print host_vdsm_affinity_dict['hypervisor01.redhat.com']"
   ]
  },
  {
   "cell_type": "code",
   "execution_count": null,
   "metadata": {
    "collapsed": true
   },
   "outputs": [],
   "source": []
  }
 ],
 "metadata": {
  "kernelspec": {
   "display_name": "Python 2",
   "language": "python",
   "name": "python2"
  },
  "language_info": {
   "codemirror_mode": {
    "name": "ipython",
    "version": 2
   },
   "file_extension": ".py",
   "mimetype": "text/x-python",
   "name": "python",
   "nbconvert_exporter": "python",
   "pygments_lexer": "ipython2",
   "version": "2.7.12"
  }
 },
 "nbformat": 4,
 "nbformat_minor": 0
}
