{
 "cells": [
  {
   "cell_type": "code",
   "execution_count": 2,
   "metadata": {
    "collapsed": true
   },
   "outputs": [],
   "source": [
    "s = r'a=foo, b=bar, c=\"foo, bar\", d=false, e=\"false\", f=\"foo\\\", bar\"'\n"
   ]
  },
  {
   "cell_type": "code",
   "execution_count": 4,
   "metadata": {
    "collapsed": false
   },
   "outputs": [
    {
     "data": {
      "text/plain": [
       "['a=foo', 'b=bar', 'c=\"foo, bar\"', 'd=false', 'e=\"false\"', 'f=\"foo\\\\\", bar\"']"
      ]
     },
     "execution_count": 4,
     "metadata": {},
     "output_type": "execute_result"
    }
   ],
   "source": [
    "import re\n",
    "re.findall(r'(?:[^\\s,\"]|\"(?:\\\\.|[^\"])*\")+', s)\n",
    "#['a=foo', 'b=bar', 'c=\"foo, bar\"', 'd=false', 'e=\"false\"', 'f=\"foo\\\\\", bar\"']\n"
   ]
  },
  {
   "cell_type": "code",
   "execution_count": null,
   "metadata": {
    "collapsed": true
   },
   "outputs": [],
   "source": []
  },
  {
   "cell_type": "code",
   "execution_count": 5,
   "metadata": {
    "collapsed": false
   },
   "outputs": [
    {
     "data": {
      "text/plain": [
       "['this', 'is', 'a test']"
      ]
     },
     "execution_count": 5,
     "metadata": {},
     "output_type": "execute_result"
    }
   ],
   "source": [
    "import shlex\n",
    "shlex.split('this is \"a test\"')"
   ]
  },
  {
   "cell_type": "code",
   "execution_count": 7,
   "metadata": {
    "collapsed": false
   },
   "outputs": [],
   "source": [
    "ss = \"\"\"\n",
    "pid=16865 uid=0 auid=0 ses=7247 subj=unconfined_u:unconfined_r:unconfined_t:s0-s0:c0.c1023 msg='op=destroy kind=session fp=? direction=both spid=16865 suid=0 rport=59296 laddr=10.72.32.205 lport=22  exe=\"/usr/sbin/sshd\" hostname=? addr=10.66.136.139 terminal=? res=success'\n",
    "\"\"\""
   ]
  },
  {
   "cell_type": "code",
   "execution_count": 8,
   "metadata": {
    "collapsed": false
   },
   "outputs": [
    {
     "data": {
      "text/plain": [
       "['pid=16865',\n",
       " 'uid=0',\n",
       " 'auid=0',\n",
       " 'ses=7247',\n",
       " 'subj=unconfined_u:unconfined_r:unconfined_t:s0-s0:c0.c1023',\n",
       " 'msg=op=destroy kind=session fp=? direction=both spid=16865 suid=0 rport=59296 laddr=10.72.32.205 lport=22  exe=\"/usr/sbin/sshd\" hostname=? addr=10.66.136.139 terminal=? res=success']"
      ]
     },
     "execution_count": 8,
     "metadata": {},
     "output_type": "execute_result"
    }
   ],
   "source": [
    "shlex.split(ss)"
   ]
  },
  {
   "cell_type": "code",
   "execution_count": 9,
   "metadata": {
    "collapsed": false
   },
   "outputs": [
    {
     "data": {
      "text/plain": [
       "['pid=16865',\n",
       " 'uid=0',\n",
       " 'auid=0',\n",
       " 'ses=7247',\n",
       " 'subj=unconfined_u:unconfined_r:unconfined_t:s0-s0:c0.c1023',\n",
       " 'msg=op=destroy kind=session fp=? direction=both spid=16865 suid=0 rport=59296 laddr=10.72.32.205 lport=22  exe=\"/usr/sbin/sshd\" hostname=? addr=10.66.136.139 terminal=? res=success']"
      ]
     },
     "execution_count": 9,
     "metadata": {},
     "output_type": "execute_result"
    }
   ],
   "source": [
    "shlex.split(ss, posix=True)"
   ]
  },
  {
   "cell_type": "code",
   "execution_count": null,
   "metadata": {
    "collapsed": true
   },
   "outputs": [],
   "source": []
  },
  {
   "cell_type": "code",
   "execution_count": 10,
   "metadata": {
    "collapsed": true
   },
   "outputs": [],
   "source": [
    "import shlex\n",
    "lex = shlex.shlex('''This string has \"some double quotes\" and 'some single quotes'.''')\n",
    "lex.quotes = '\"'\n",
    "lex.whitespace_split = True\n",
    "b=list(lex)"
   ]
  },
  {
   "cell_type": "code",
   "execution_count": 13,
   "metadata": {
    "collapsed": false
   },
   "outputs": [
    {
     "name": "stdout",
     "output_type": "stream",
     "text": [
      "['pid=16865', 'uid=0', 'auid=0', 'ses=7247', 'subj=unconfined_u:unconfined_r:unconfined_t:s0-s0:c0.c1023', 'msg=op=destroy kind=session fp=? direction=both spid=16865 suid=0 rport=59296 laddr=10.72.32.205 lport=22  exe=\"/usr/sbin/sshd\" hostname=? addr=10.66.136.139 terminal=? res=success']\n"
     ]
    }
   ],
   "source": [
    "import shlex\n",
    "lex = shlex.shlex(ss, posix=True)\n",
    "lex.quotes = \"'\"\n",
    "lex.whitespace_split = True\n",
    "b=list(lex)\n",
    "print b"
   ]
  },
  {
   "cell_type": "code",
   "execution_count": null,
   "metadata": {
    "collapsed": true
   },
   "outputs": [],
   "source": []
  },
  {
   "cell_type": "code",
   "execution_count": 18,
   "metadata": {
    "collapsed": false
   },
   "outputs": [
    {
     "name": "stdout",
     "output_type": "stream",
     "text": [
      "2017-10-20 15:41:07\n"
     ]
    }
   ],
   "source": [
    "#coding:UTF-8\n",
    "import time\n",
    "\n",
    "timestamp = 1508485267.622\n",
    "\n",
    "#转换成localtime\n",
    "time_local = time.localtime(timestamp)\n",
    "#转换成新的时间格式(2016-05-05 20:28:54)\n",
    "dt = time.strftime(\"%Y-%m-%d %H:%M:%S\",time_local)\n",
    "\n",
    "print dt"
   ]
  },
  {
   "cell_type": "code",
   "execution_count": null,
   "metadata": {
    "collapsed": true
   },
   "outputs": [],
   "source": []
  }
 ],
 "metadata": {
  "kernelspec": {
   "display_name": "Python 2",
   "language": "python",
   "name": "python2"
  },
  "language_info": {
   "codemirror_mode": {
    "name": "ipython",
    "version": 2
   },
   "file_extension": ".py",
   "mimetype": "text/x-python",
   "name": "python",
   "nbconvert_exporter": "python",
   "pygments_lexer": "ipython2",
   "version": "2.7.13"
  }
 },
 "nbformat": 4,
 "nbformat_minor": 0
}
