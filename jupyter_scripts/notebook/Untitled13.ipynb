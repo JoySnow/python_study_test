{
 "cells": [
  {
   "cell_type": "code",
   "execution_count": 4,
   "metadata": {
    "collapsed": true
   },
   "outputs": [],
   "source": [
    "a = \"\"\"/dev/sdb5                    /l\\040ok/at                ext4    defaults        1 1\"\"\""
   ]
  },
  {
   "cell_type": "code",
   "execution_count": 5,
   "metadata": {
    "collapsed": false
   },
   "outputs": [
    {
     "data": {
      "text/plain": [
       "'/dev/sdb5                    /l ok/at                ext4    defaults        1 1'"
      ]
     },
     "execution_count": 5,
     "metadata": {},
     "output_type": "execute_result"
    }
   ],
   "source": [
    "a"
   ]
  },
  {
   "cell_type": "code",
   "execution_count": 7,
   "metadata": {
    "collapsed": false
   },
   "outputs": [
    {
     "data": {
      "text/plain": [
       "'/dev/sdb5                    /l ok/at                ext4    defaults        1 1'"
      ]
     },
     "execution_count": 7,
     "metadata": {},
     "output_type": "execute_result"
    }
   ],
   "source": [
    "b = a.decode('string_escape')\n",
    "b"
   ]
  },
  {
   "cell_type": "code",
   "execution_count": 8,
   "metadata": {
    "collapsed": false
   },
   "outputs": [
    {
     "data": {
      "text/plain": [
       "\"'/dev/sdb5                    /l ok/at                ext4    defaults        1 1'\""
      ]
     },
     "execution_count": 8,
     "metadata": {},
     "output_type": "execute_result"
    }
   ],
   "source": [
    "repr(a)"
   ]
  },
  {
   "cell_type": "code",
   "execution_count": 17,
   "metadata": {
    "collapsed": false
   },
   "outputs": [
    {
     "name": "stdout",
     "output_type": "stream",
     "text": [
      "a���a����@@@@@@@@@@@@@@@@@@@@a�@��a��@@@@@@@@@@@@@@@@����@@@@��������@@@@@@@@�@�\n",
      "'a\\x84\\x85\\xa5a\\xa2\\x84\\x82\\xf5@@@@@@@@@@@@@@@@@@@@a\\x93@\\x96\\x92a\\x81\\xa3@@@@@@@@@@@@@@@@\\x85\\xa7\\xa3\\xf4@@@@\\x84\\x85\\x86\\x81\\xa4\\x93\\xa3\\xa2@@@@@@@@\\xf1@\\xf1'\n",
      "/dev/sdb5                    /l ok/at                ext4    defaults        1 1\n"
     ]
    }
   ],
   "source": [
    "c = a.decode('ascii').encode('cp037')\n",
    "print c\n",
    "print repr(c)\n",
    "d = a.decode('utf_8')\n",
    "print d"
   ]
  },
  {
   "cell_type": "code",
   "execution_count": 22,
   "metadata": {
    "collapsed": false
   },
   "outputs": [
    {
     "name": "stdout",
     "output_type": "stream",
     "text": [
      "/dev/sdb5                    /l ok/at                ext4    defaults        1 1\n",
      "'/dev/sdb5                    /l ok/at                ext4    defaults        1 1'\n"
     ]
    }
   ],
   "source": [
    "e = a.encode('string_escape')\n",
    "print e\n",
    "print repr(e)\n"
   ]
  },
  {
   "cell_type": "code",
   "execution_count": 26,
   "metadata": {
    "collapsed": false
   },
   "outputs": [
    {
     "name": "stdout",
     "output_type": "stream",
     "text": [
      "7\n",
      "['/dev/sdb5', '/l', 'ok/at', 'ext4', 'defaults', '1', '1']\n"
     ]
    },
    {
     "data": {
      "text/plain": [
       "['/dev/sdb5', '/l', 'ok/at', 'ext4', 'defaults']"
      ]
     },
     "execution_count": 26,
     "metadata": {},
     "output_type": "execute_result"
    }
   ],
   "source": [
    "#pp = print\n",
    "sa = a.split()\n",
    "print len(sa)\n",
    "print sa\n",
    "sa[:-2]"
   ]
  },
  {
   "cell_type": "code",
   "execution_count": 32,
   "metadata": {
    "collapsed": false
   },
   "outputs": [
    {
     "name": "stdout",
     "output_type": "stream",
     "text": [
      "True\n",
      "False\n"
     ]
    }
   ],
   "source": [
    "print sa[-1].isdigit()\n",
    "print sa[-3].isdigit()"
   ]
  },
  {
   "cell_type": "code",
   "execution_count": 34,
   "metadata": {
    "collapsed": false
   },
   "outputs": [
    {
     "name": "stdout",
     "output_type": "stream",
     "text": [
      "/dev/sdb5   /l\\ ok/at   ext4    defaults        1 1\n"
     ]
    }
   ],
   "source": [
    "s = '/dev/sdb5   /l\\ ok/at   ext4    defaults        1 1'\n",
    "print s"
   ]
  },
  {
   "cell_type": "code",
   "execution_count": 35,
   "metadata": {
    "collapsed": false
   },
   "outputs": [
    {
     "name": "stdout",
     "output_type": "stream",
     "text": [
      "'/dev/sdb5   /l\\\\ ok/at   ext4    defaults        1 1'\n"
     ]
    }
   ],
   "source": [
    "print repr(s)"
   ]
  },
  {
   "cell_type": "code",
   "execution_count": 49,
   "metadata": {
    "collapsed": false
   },
   "outputs": [
    {
     "name": "stdout",
     "output_type": "stream",
     "text": [
      "/l\\ ok/at/you\n",
      "<type 'str'> /l\\ ok/at\n",
      "/l\\ ok/at\n"
     ]
    },
    {
     "data": {
      "text/plain": [
       "'/l\\\\ ok/at'"
      ]
     },
     "execution_count": 49,
     "metadata": {},
     "output_type": "execute_result"
    }
   ],
   "source": [
    "p1 = r'/l\\ ok/at/you'\n",
    "print p1\n",
    "import os\n",
    "b = os.path.dirname(p1)\n",
    "print type(b), b\n",
    "print b\n",
    "b.decode('string_escape')"
   ]
  },
  {
   "cell_type": "code",
   "execution_count": null,
   "metadata": {
    "collapsed": true
   },
   "outputs": [],
   "source": []
  },
  {
   "cell_type": "code",
   "execution_count": null,
   "metadata": {
    "collapsed": true
   },
   "outputs": [],
   "source": []
  }
 ],
 "metadata": {
  "kernelspec": {
   "display_name": "Python 2",
   "language": "python",
   "name": "python2"
  },
  "language_info": {
   "codemirror_mode": {
    "name": "ipython",
    "version": 2
   },
   "file_extension": ".py",
   "mimetype": "text/x-python",
   "name": "python",
   "nbconvert_exporter": "python",
   "pygments_lexer": "ipython2",
   "version": "2.7.13"
  }
 },
 "nbformat": 4,
 "nbformat_minor": 0
}
