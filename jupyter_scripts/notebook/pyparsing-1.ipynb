{
 "cells": [
  {
   "cell_type": "code",
   "execution_count": 7,
   "metadata": {
    "collapsed": false
   },
   "outputs": [
    {
     "name": "stdout",
     "output_type": "stream",
     "text": [
      "{W:(ABCD...)}...\n",
      "Group:({W:(ABCD...)}...) [| Group:({W:(ABCD...)}...)]...\n",
      "Dict:(Group:({W:(ABCD...)}...) [| Group:({W:(ABCD...)}...)]...)\n",
      "[['cat', 'Sandy', 'Mocha', 'Java'], ['bird', 'finch', 'verdin', 'siskin']]\n",
      "['bird', 'cat']\n",
      "result['bird']=['finch', 'verdin', 'siskin']\n",
      "result['cat']=['Sandy', 'Mocha', 'Java']\n"
     ]
    }
   ],
   "source": [
    "#!/usr/bin/env python\n",
    "#================================================================\n",
    "# dicter: Example of pyparsing.Dict pattern\n",
    "#----------------------------------------------------------------\n",
    "import pyparsing as pp\n",
    "\n",
    "data = \"cat Sandy Mocha Java|bird finch verdin siskin\"\n",
    "rowPat = pp.OneOrMore(pp.Word(pp.alphas))\n",
    "print rowPat\n",
    "\n",
    "before_bigPat = pp.delimitedList(pp.Group(rowPat), \"|\")\n",
    "\n",
    "print before_bigPat\n",
    "\n",
    "bigPat = pp.Dict(before_bigPat)\n",
    "print bigPat\n",
    "\n",
    "result = bigPat.parseString(data)\n",
    "\n",
    "print result\n",
    "print result.keys()\n",
    "\n",
    "for rowKey in result.keys():\n",
    "    print \"result['{0}']={1}\".format(rowKey, result[rowKey])"
   ]
  },
  {
   "cell_type": "code",
   "execution_count": null,
   "metadata": {
    "collapsed": true
   },
   "outputs": [],
   "source": []
  },
  {
   "cell_type": "code",
   "execution_count": null,
   "metadata": {
    "collapsed": true
   },
   "outputs": [],
   "source": []
  },
  {
   "cell_type": "code",
   "execution_count": 19,
   "metadata": {
    "collapsed": true
   },
   "outputs": [],
   "source": [
    "aa = {'nstat': {'rabbit-1@rhel7ops7stand': {'kernel': ['net_ticktime', '60'], 'processes': {'used': '160', 'limit': '1048576'}, 'running_applications': {'kernel': ['\"ERTS', 'CXC', '138', '10\"', '\"4.2\"'], 'stdlib': ['\"ERTS', 'CXC', '138', '10\"', '\"2.8\"'], 'rabbit_common': ['[]', '\"3.6.2\"'], 'ranch': ['\"Socket', 'acceptor', 'pool', 'for', 'TCP', 'protocols.\"', '\"1.2.1\"'], 'xmerl': ['\"XML', 'parser\"', '\"1.3.10\"'], 'mnesia': ['\"MNESIA', 'CXC', '138', '12\"', '\"4.13.4\"'], 'os_mon': ['\"CPO', 'CXC', '138', '46\"', '\"2.4\"'], 'rabbit': ['\"RabbitMQ\"', '\"3.6.2\"'], 'sasl': ['\"SASL', 'CXC', '138', '11\"', '\"2.7\"']}, 'pid': '1660', 'uptime': '2238', 'disk_free': '37480923136', 'file_descriptors': {'total_used': '2', 'sockets_used': '0', 'total_limit': '16284', 'sockets_limit': '14653'}, 'run_queue': '0'}, \"'rabbit@overcloud-controller-2'\": {'processes': {'used': '13607', 'limit': '1048576'}, 'vm_memory_high_watermark': '0.4', 'running_applications': {'kernel': ['\"ERTS', 'CXC', '138', '10\"', '\"2.16.4\"'], 'stdlib': ['\"ERTS', 'CXC', '138', '10\"', '\"1.19.4\"'], 'xmerl': ['\"XML', 'parser\"', '\"1.3.6\"'], 'mnesia': ['\"MNESIA', 'CXC', '138', '12\"', '\"4.11\"'], 'os_mon': ['\"CPO', 'CXC', '138', '46\"', '\"2.2.14\"'], 'rabbit': ['\"RabbitMQ\"', '\"3.3.5\"'], 'sasl': ['\"SASL', 'CXC', '138', '11\"', '\"2.3.4\"']}, 'pid': '4087', 'uptime': '3075474', 'disk_free_limit': '50000000', 'erlang_version': ['\"Erlang', 'R16B03-1', '(erts-5.10.4)', '[source]', '[64-bit]', '[smp:32:32]', '[async-threads:30]', '[hipe]', '[kernel-poll:true]', '\"'], 'os': ['unix', 'linux'], 'disk_free': '257304219648', 'memory': {'binary': '859726712', 'code': '16696010', 'mgmt_db': '0', 'other_ets': '2626760', 'other_proc': '15338592', 'queue_procs': '37838200', 'mnesia': '7740960', 'connection_procs': '39042152', 'msg_index': '1318936', 'atom': '2378065', 'total': '996824472', 'plugins': '0', 'other_system': '14118085'}, 'alarms': '', 'file_descriptors': {'total_used': '835', 'sockets_used': '833', 'total_limit': '3996', 'sockets_limit': '3594'}, 'run_queue': '0', 'vm_memory_limit': '26943271731', 'listeners': {'clustering': ['35672', '\"::\"'], 'amqp': ['5672', '\"172.31.11.16\"']}}}, 'perm': {'test_vhost_1': '', '/': {'guest': ['.*', '.*', '.*']}, 'test_vhost': {'redhat1': ['redhat.*', '.*', '.*'], 'redhat': ['redhat.*', '.*', '.*']}}}"
   ]
  },
  {
   "cell_type": "code",
   "execution_count": 24,
   "metadata": {
    "collapsed": false
   },
   "outputs": [
    {
     "name": "stdout",
     "output_type": "stream",
     "text": [
      "rabbit-1@rhel7ops7stand\n",
      "{'total_used': '2', 'sockets_used': '0', 'total_limit': '16284', 'sockets_limit': '14653'}\n",
      "'rabbit@overcloud-controller-2'\n",
      "{'total_used': '835', 'sockets_used': '833', 'total_limit': '3996', 'sockets_limit': '3594'}\n"
     ]
    }
   ],
   "source": [
    "for key in aa[\"nstat\"]:\n",
    "    print key\n",
    "    print aa[\"nstat\"][key][\"file_descriptors\"]"
   ]
  },
  {
   "cell_type": "code",
   "execution_count": 38,
   "metadata": {
    "collapsed": false
   },
   "outputs": [
    {
     "data": {
      "text/plain": [
       "['redhat.*', '.*', '.*']"
      ]
     },
     "execution_count": 38,
     "metadata": {},
     "output_type": "execute_result"
    }
   ],
   "source": [
    "aa[\"test_vhost\"][\"redhat1\"]"
   ]
  },
  {
   "cell_type": "code",
   "execution_count": 32,
   "metadata": {
    "collapsed": false
   },
   "outputs": [
    {
     "data": {
      "text/plain": [
       "'1660'"
      ]
     },
     "execution_count": 32,
     "metadata": {},
     "output_type": "execute_result"
    }
   ],
   "source": [
    "mq1[\"pid\"]"
   ]
  },
  {
   "cell_type": "code",
   "execution_count": 33,
   "metadata": {
    "collapsed": false
   },
   "outputs": [
    {
     "data": {
      "text/plain": [
       "{'kernel': ['\"ERTS', 'CXC', '138', '10\"', '\"4.2\"'],\n",
       " 'mnesia': ['\"MNESIA', 'CXC', '138', '12\"', '\"4.13.4\"'],\n",
       " 'os_mon': ['\"CPO', 'CXC', '138', '46\"', '\"2.4\"'],\n",
       " 'rabbit': ['\"RabbitMQ\"', '\"3.6.2\"'],\n",
       " 'rabbit_common': ['[]', '\"3.6.2\"'],\n",
       " 'ranch': ['\"Socket',\n",
       "  'acceptor',\n",
       "  'pool',\n",
       "  'for',\n",
       "  'TCP',\n",
       "  'protocols.\"',\n",
       "  '\"1.2.1\"'],\n",
       " 'sasl': ['\"SASL', 'CXC', '138', '11\"', '\"2.7\"'],\n",
       " 'stdlib': ['\"ERTS', 'CXC', '138', '10\"', '\"2.8\"'],\n",
       " 'xmerl': ['\"XML', 'parser\"', '\"1.3.10\"']}"
      ]
     },
     "execution_count": 33,
     "metadata": {},
     "output_type": "execute_result"
    }
   ],
   "source": [
    "mq1[\"running_applications\"]"
   ]
  },
  {
   "cell_type": "code",
   "execution_count": 23,
   "metadata": {
    "collapsed": false
   },
   "outputs": [
    {
     "data": {
      "text/plain": [
       "['unix', 'linux']"
      ]
     },
     "execution_count": 23,
     "metadata": {},
     "output_type": "execute_result"
    }
   ],
   "source": [
    "aa[\"os\"]"
   ]
  },
  {
   "cell_type": "code",
   "execution_count": 24,
   "metadata": {
    "collapsed": false
   },
   "outputs": [
    {
     "data": {
      "text/plain": [
       "'50000000'"
      ]
     },
     "execution_count": 24,
     "metadata": {},
     "output_type": "execute_result"
    }
   ],
   "source": [
    "aa[\"disk_free_limit\"]"
   ]
  },
  {
   "cell_type": "code",
   "execution_count": null,
   "metadata": {
    "collapsed": true
   },
   "outputs": [],
   "source": []
  },
  {
   "cell_type": "code",
   "execution_count": null,
   "metadata": {
    "collapsed": true
   },
   "outputs": [],
   "source": []
  },
  {
   "cell_type": "code",
   "execution_count": null,
   "metadata": {
    "collapsed": true
   },
   "outputs": [],
   "source": []
  },
  {
   "cell_type": "code",
   "execution_count": null,
   "metadata": {
    "collapsed": true
   },
   "outputs": [],
   "source": [
    "import pyparsing as p\n",
    "\n",
    "def create_parser():\n",
    "    colon = \":\"\n",
    "    dots = \"...\"\n",
    "    comma = ','\n",
    "    lbrace = '{'\n",
    "    rbrace = '}'\n",
    "    lbracket = '['\n",
    "    rbracket = ']'\n",
    "    \n",
    "  \n",
    "    z_key = p.Word(p.alphas+'_')\n",
    "    # {pid,1660},\n",
    "    z_value_tnum = p.Word(p.nums)\n",
    "    # {erlang_version,\"Erlang/OTP 18 [erts-7.3.1] [source] [64-bit] [smp:24:24] [async-threads:384] [hipe] [kernel-poll:true]\\n\"},\n",
    "    z_value_tword = p.Word(p.alphanums+'/\"-[]:.()')\n",
    "    z_value_tstr = p.OneOrMore(z_value_tword)\n",
    "    sample = '\"Erlang R16B03-1 (erts-5.10.4) [source] [64-bit] [smp:32:32] [async-threads:30] [hipe] [kernel-poll:true]\\n\"'\n",
    "    #print \"----------\"\n",
    "    #print z_value_tstr.parseString(sample)\n",
    "    # {sasl,\"SASL  CXC 138 11\",\"2.7\"},\n",
    "    z_value_tdoustrs = z_value_tstr + p.Suppress(comma) + z_value_tstr\n",
    "    #print \"----------\"\n",
    "    #print z_value_tdoustrs.parseString('\"SASL  CXC 138 11\",\"2.7 non\"')\n",
    "    # {clustering,25672,\"::\"},\n",
    "    z_value_tnumstr = z_value_tnum + z_value_tstr\n",
    "    \n",
    "    z_value = p.Group(z_value_tdoustrs | z_value_tnumstr | z_value_tstr | z_value_tnum)\n",
    "    # {os,{unix,linux}},\n",
    "    #z_attr = p.Group(lbrace + z_key + comma + z_value + rbrace)\n",
    "    #z_attr = p.Suppress(lbrace) + p.dictOf(z_key + p.Suppress(comma), z_value) + p.Suppress(rbrace)\n",
    "    z_attr = p.Suppress(lbrace) + p.Group(z_key + p.Suppress(comma) + z_value) + p.Suppress(rbrace)\n",
    "    z_attr_list = p.Dict(p.ZeroOrMore(z_attr+p.Suppress(comma)) + p.ZeroOrMore(z_attr))\n",
    "    #print \"----------\"\n",
    "    #print z_attr.keys()\n",
    "    #print z_attr.parseString('{sasl,\"SASL  CXC 138 11\",\"2.7\"}')\n",
    "    z_block = p.Suppress(lbracket) + z_attr_list + p.Suppress(rbracket)\n",
    "    \n",
    "    #z_value_plus = z_value | z_attr | z_block\n",
    "    z_value_plus = z_block | z_attr | z_value\n",
    "    \n",
    "    attr = p.Suppress(lbrace) + p.Group(z_key + p.Suppress(comma) + z_value_plus) + p.Suppress(rbrace)\n",
    "    attr_list = p.Dict(p.OneOrMore(attr+p.Suppress(comma)) + p.OneOrMore(attr))\n",
    "    \n",
    "    block = p.Suppress(lbracket) + attr_list + p.Suppress(rbracket)\n",
    "    return block\n",
    "\n",
    "he = create_parser().parseString(report6)\n",
    "print \"------------------------------\"\n",
    "print type(he)\n",
    "print he.keys()\n",
    "print \"---he---------------------------\"\n",
    "print he\n",
    "\n",
    "hed = he.asDict()\n",
    "print \"------------------------------\"\n",
    "print hed\n",
    "\n",
    "print \"------------------------------\"\n",
    "print report6"
   ]
  }
 ],
 "metadata": {
  "kernelspec": {
   "display_name": "Python 2",
   "language": "python",
   "name": "python2"
  },
  "language_info": {
   "codemirror_mode": {
    "name": "ipython",
    "version": 2
   },
   "file_extension": ".py",
   "mimetype": "text/x-python",
   "name": "python",
   "nbconvert_exporter": "python",
   "pygments_lexer": "ipython2",
   "version": "2.7.12"
  }
 },
 "nbformat": 4,
 "nbformat_minor": 0
}
