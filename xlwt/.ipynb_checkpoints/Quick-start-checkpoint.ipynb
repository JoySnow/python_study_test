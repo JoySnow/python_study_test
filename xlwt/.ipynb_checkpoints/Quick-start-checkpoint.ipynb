{
 "cells": [
  {
   "cell_type": "code",
   "execution_count": 1,
   "metadata": {
    "collapsed": true
   },
   "outputs": [],
   "source": [
    "# Quick start in https://pypi.python.org/pypi/xlwt/\n",
    "\n",
    "import xlwt\n",
    "from datetime import datetime\n",
    "\n",
    "style0 = xlwt.easyxf('font: name Times New Roman, color-index red, bold on',\n",
    "    num_format_str='#,##0.00')\n",
    "style1 = xlwt.easyxf(num_format_str='D-MMM-YY')\n",
    "\n",
    "wb = xlwt.Workbook()\n",
    "ws = wb.add_sheet('A Test Sheet')\n",
    "\n",
    "ws.write(0, 0, 1234.56, style0)\n",
    "ws.write(1, 0, datetime.now(), style1)\n",
    "ws.write(2, 0, 1)\n",
    "ws.write(2, 1, 1)\n",
    "ws.write(2, 2, xlwt.Formula(\"A3+B3\"))\n",
    "\n",
    "wb.save('example.xls')"
   ]
  },
  {
   "cell_type": "code",
   "execution_count": null,
   "metadata": {
    "collapsed": true
   },
   "outputs": [],
   "source": []
  }
 ],
 "metadata": {
  "kernelspec": {
   "display_name": "Python 2",
   "language": "python",
   "name": "python2"
  },
  "language_info": {
   "codemirror_mode": {
    "name": "ipython",
    "version": 2
   },
   "file_extension": ".py",
   "mimetype": "text/x-python",
   "name": "python",
   "nbconvert_exporter": "python",
   "pygments_lexer": "ipython2",
   "version": "2.7.5"
  }
 },
 "nbformat": 4,
 "nbformat_minor": 0
}
